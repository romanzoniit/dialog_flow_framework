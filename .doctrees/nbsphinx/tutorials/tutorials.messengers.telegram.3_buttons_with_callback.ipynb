{
 "cells": [
  {
   "cell_type": "markdown",
   "id": "96a6dedc",
   "metadata": {
    "cell_marker": "\"\"\"",
    "lines_to_next_cell": 2
   },
   "source": [
    "# Telegram: 3. Buttons with Callback\n",
    "\n",
    "\n",
    "This tutorial demonstrates, how to add an inline keyboard and utilize\n",
    "inline queries."
   ]
  },
  {
   "cell_type": "markdown",
   "id": "7046ff05",
   "metadata": {
    "cell_marker": "\"\"\""
   },
   "source": [
    "__Installing dependencies__"
   ]
  },
  {
   "cell_type": "code",
   "execution_count": 1,
   "id": "826cdc11",
   "metadata": {
    "execution": {
     "iopub.execute_input": "2023-04-07T10:57:07.767402Z",
     "iopub.status.busy": "2023-04-07T10:57:07.767152Z",
     "iopub.status.idle": "2023-04-07T10:57:08.711593Z",
     "shell.execute_reply": "2023-04-07T10:57:08.710681Z"
    },
    "lines_to_next_cell": 2
   },
   "outputs": [
    {
     "name": "stdout",
     "output_type": "stream",
     "text": [
      "\u001b[33mWARNING: dff 0.3.2 does not provide the extra 'tutorials'\u001b[0m\u001b[33m\r\n",
      "\u001b[0m"
     ]
    }
   ],
   "source": [
    "!python3 -m pip install -q dff[tutorials]\n",
    "# Installs dff with dependencies for running tutorials\n",
    "# To install the minimal version of dff, use `pip install dff`\n",
    "# To install other options of dff, use `pip install dff[OPTION_NAME1,OPTION_NAME2]`\n",
    "# where OPTION_NAME can be one of the options from EXTRA_DEPENDENCIES.\n",
    "# e.g `pip install dff[ydb, mysql]` installs dff with dependencies for using Yandex Database and MySQL\n",
    "# EXTRA_DEPENDENCIES can be found in\n",
    "# https://github.com/deeppavlov/dialog_flow_framework/blob/dev/setup.py#L155"
   ]
  },
  {
   "cell_type": "markdown",
   "id": "8ca632e1",
   "metadata": {
    "cell_marker": "\"\"\"",
    "lines_to_next_cell": 2
   },
   "source": [
    "__Running tutorial__"
   ]
  },
  {
   "cell_type": "code",
   "execution_count": 2,
   "id": "f28cffff",
   "metadata": {
    "execution": {
     "iopub.execute_input": "2023-04-07T10:57:08.715164Z",
     "iopub.status.busy": "2023-04-07T10:57:08.714844Z",
     "iopub.status.idle": "2023-04-07T10:57:09.436172Z",
     "shell.execute_reply": "2023-04-07T10:57:09.435492Z"
    },
    "lines_to_next_cell": 2
   },
   "outputs": [],
   "source": [
    "import os\n",
    "\n",
    "import dff.script.conditions as cnd\n",
    "from dff.script import TRANSITIONS, RESPONSE\n",
    "from dff.pipeline import Pipeline\n",
    "from dff.script.core.message import Button\n",
    "from dff.messengers.telegram import (\n",
    "    PollingTelegramInterface,\n",
    "    TelegramUI,\n",
    "    TelegramMessage,\n",
    ")\n",
    "from dff.messengers.telegram.message import _ClickButton\n",
    "from dff.utils.testing.common import is_interactive_mode"
   ]
  },
  {
   "cell_type": "markdown",
   "id": "f6919ee1",
   "metadata": {
    "cell_marker": "\"\"\"",
    "lines_to_next_cell": 2
   },
   "source": [
    "If you want to send an inline keyboard to your Telegram chat,\n",
    "set `is_inline` field of the `TelegramUI` instance to `True`\n",
    "(note that it is inline by default, so you could also omit it).\n",
    "\n",
    "Pushing a button of an inline keyboard results in a callback\n",
    "query being sent to your bot. The data of the query\n",
    "is stored in the `callback_query` field of a user `TelegramMessage`."
   ]
  },
  {
   "cell_type": "code",
   "execution_count": 3,
   "id": "0ba52dd8",
   "metadata": {
    "execution": {
     "iopub.execute_input": "2023-04-07T10:57:09.439783Z",
     "iopub.status.busy": "2023-04-07T10:57:09.439114Z",
     "iopub.status.idle": "2023-04-07T10:57:09.451221Z",
     "shell.execute_reply": "2023-04-07T10:57:09.450625Z"
    },
    "lines_to_next_cell": 2
   },
   "outputs": [],
   "source": [
    "script = {\n",
    "    \"root\": {\n",
    "        \"start\": {\n",
    "            TRANSITIONS: {\n",
    "                (\"general\", \"keyboard\"): (\n",
    "                    lambda ctx, _: ctx.last_request.text in (\"/start\", \"/restart\")\n",
    "                ),\n",
    "            },\n",
    "        },\n",
    "        \"fallback\": {\n",
    "            RESPONSE: TelegramMessage(text=\"Finishing test, send /restart command to restart\"),\n",
    "            TRANSITIONS: {\n",
    "                (\"general\", \"keyboard\"): (\n",
    "                    lambda ctx, _: ctx.last_request.text in (\"/start\", \"/restart\")\n",
    "                )\n",
    "            },\n",
    "        },\n",
    "    },\n",
    "    \"general\": {\n",
    "        \"keyboard\": {\n",
    "            RESPONSE: TelegramMessage(\n",
    "                **{\n",
    "                    \"text\": \"Starting test! What's 9 + 10?\",\n",
    "                    \"ui\": TelegramUI(\n",
    "                        buttons=[\n",
    "                            Button(text=\"19\", payload=\"correct\"),\n",
    "                            Button(text=\"21\", payload=\"wrong\"),\n",
    "                        ],\n",
    "                        is_inline=True,\n",
    "                    ),\n",
    "                }\n",
    "            ),\n",
    "            TRANSITIONS: {\n",
    "                (\"general\", \"success\"): cnd.exact_match(TelegramMessage(callback_query=\"correct\")),\n",
    "                (\"general\", \"fail\"): cnd.exact_match(TelegramMessage(callback_query=\"wrong\")),\n",
    "            },\n",
    "        },\n",
    "        \"success\": {\n",
    "            RESPONSE: TelegramMessage(text=\"Success!\"),\n",
    "            TRANSITIONS: {(\"root\", \"fallback\"): cnd.true()},\n",
    "        },\n",
    "        \"fail\": {\n",
    "            RESPONSE: TelegramMessage(text=\"Incorrect answer, type anything to try again\"),\n",
    "            TRANSITIONS: {(\"general\", \"keyboard\"): cnd.true()},\n",
    "        },\n",
    "    },\n",
    "}\n",
    "\n",
    "# this variable is only for testing\n",
    "happy_path = (\n",
    "    (\n",
    "        TelegramMessage(text=\"/start\"),\n",
    "        TelegramMessage(\n",
    "            text=\"Starting test! What's 9 + 10?\",\n",
    "            ui=TelegramUI(\n",
    "                buttons=[\n",
    "                    Button(text=\"19\", payload=\"correct\"),\n",
    "                    Button(text=\"21\", payload=\"wrong\"),\n",
    "                ],\n",
    "            ),\n",
    "        ),\n",
    "    ),\n",
    "    (\n",
    "        TelegramMessage(callback_query=_ClickButton(button_index=1)),\n",
    "        TelegramMessage(text=\"Incorrect answer, type anything to try again\"),\n",
    "    ),\n",
    "    (\n",
    "        TelegramMessage(text=\"try again\"),\n",
    "        TelegramMessage(\n",
    "            text=\"Starting test! What's 9 + 10?\",\n",
    "            ui=TelegramUI(\n",
    "                buttons=[\n",
    "                    Button(text=\"19\", payload=\"correct\"),\n",
    "                    Button(text=\"21\", payload=\"wrong\"),\n",
    "                ],\n",
    "            ),\n",
    "        ),\n",
    "    ),\n",
    "    (\n",
    "        TelegramMessage(callback_query=_ClickButton(button_index=0)),\n",
    "        TelegramMessage(text=\"Success!\"),\n",
    "    ),\n",
    "    (\n",
    "        TelegramMessage(text=\"Yay!\"),\n",
    "        TelegramMessage(text=\"Finishing test, send /restart command to restart\"),\n",
    "    ),\n",
    "    (\n",
    "        TelegramMessage(text=\"/restart\"),\n",
    "        TelegramMessage(\n",
    "            text=\"Starting test! What's 9 + 10?\",\n",
    "            ui=TelegramUI(\n",
    "                buttons=[\n",
    "                    Button(text=\"19\", payload=\"correct\"),\n",
    "                    Button(text=\"21\", payload=\"wrong\"),\n",
    "                ],\n",
    "            ),\n",
    "        ),\n",
    "    ),\n",
    ")\n",
    "\n",
    "interface = PollingTelegramInterface(token=os.getenv(\"TG_BOT_TOKEN\", \"\"))"
   ]
  },
  {
   "cell_type": "code",
   "execution_count": 4,
   "id": "eda16af9",
   "metadata": {
    "execution": {
     "iopub.execute_input": "2023-04-07T10:57:09.454066Z",
     "iopub.status.busy": "2023-04-07T10:57:09.453721Z",
     "iopub.status.idle": "2023-04-07T10:57:09.461171Z",
     "shell.execute_reply": "2023-04-07T10:57:09.460569Z"
    },
    "lines_to_next_cell": 2
   },
   "outputs": [],
   "source": [
    "pipeline = Pipeline.from_script(\n",
    "    script=script,\n",
    "    start_label=(\"root\", \"start\"),\n",
    "    fallback_label=(\"root\", \"fallback\"),\n",
    "    messenger_interface=interface,\n",
    ")\n",
    "\n",
    "\n",
    "def main():\n",
    "    if not os.getenv(\"TG_BOT_TOKEN\"):\n",
    "        print(\"`TG_BOT_TOKEN` variable needs to be set to use TelegramInterface.\")\n",
    "    pipeline.run()\n",
    "\n",
    "\n",
    "if __name__ == \"__main__\" and is_interactive_mode():  # prevent run during doc building\n",
    "    main()"
   ]
  }
 ],
 "metadata": {
  "jupytext": {
   "cell_metadata_filter": "-all",
   "main_language": "python",
   "notebook_metadata_filter": "-all",
   "text_representation": {
    "extension": ".py",
    "format_name": "percent"
   }
  },
  "language_info": {
   "codemirror_mode": {
    "name": "ipython",
    "version": 3
   },
   "file_extension": ".py",
   "mimetype": "text/x-python",
   "name": "python",
   "nbconvert_exporter": "python",
   "pygments_lexer": "ipython3",
   "version": "3.9.16"
  }
 },
 "nbformat": 4,
 "nbformat_minor": 5
}
