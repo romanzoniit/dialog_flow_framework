{
 "cells": [
  {
   "cell_type": "markdown",
   "id": "84faa74c",
   "metadata": {
    "cell_marker": "\"\"\"",
    "lines_to_next_cell": 2
   },
   "source": [
    "# 2. LRU Cache"
   ]
  },
  {
   "cell_type": "markdown",
   "id": "f4c11778",
   "metadata": {
    "cell_marker": "\"\"\""
   },
   "source": [
    "__Installing dependencies__"
   ]
  },
  {
   "cell_type": "code",
   "execution_count": 1,
   "id": "42c7e440",
   "metadata": {
    "execution": {
     "iopub.execute_input": "2023-04-07T10:59:06.918681Z",
     "iopub.status.busy": "2023-04-07T10:59:06.918302Z",
     "iopub.status.idle": "2023-04-07T10:59:07.835489Z",
     "shell.execute_reply": "2023-04-07T10:59:07.834666Z"
    },
    "lines_to_next_cell": 2
   },
   "outputs": [
    {
     "name": "stdout",
     "output_type": "stream",
     "text": [
      "\u001b[33mWARNING: dff 0.3.2 does not provide the extra 'tutorials'\u001b[0m\u001b[33m\r\n",
      "\u001b[0m"
     ]
    }
   ],
   "source": [
    "!python3 -m pip install -q dff[tutorials]\n",
    "# Installs dff with dependencies for running tutorials\n",
    "# To install the minimal version of dff, use `pip install dff`\n",
    "# To install other options of dff, use `pip install dff[OPTION_NAME1,OPTION_NAME2]`\n",
    "# where OPTION_NAME can be one of the options from EXTRA_DEPENDENCIES.\n",
    "# e.g `pip install dff[ydb, mysql]` installs dff with dependencies for using Yandex Database and MySQL\n",
    "# EXTRA_DEPENDENCIES can be found in\n",
    "# https://github.com/deeppavlov/dialog_flow_framework/blob/dev/setup.py#L155"
   ]
  },
  {
   "cell_type": "markdown",
   "id": "8e33466a",
   "metadata": {
    "cell_marker": "\"\"\"",
    "lines_to_next_cell": 2
   },
   "source": [
    "__Running tutorial__"
   ]
  },
  {
   "cell_type": "code",
   "execution_count": 2,
   "id": "9f48c842",
   "metadata": {
    "execution": {
     "iopub.execute_input": "2023-04-07T10:59:07.839199Z",
     "iopub.status.busy": "2023-04-07T10:59:07.838558Z",
     "iopub.status.idle": "2023-04-07T10:59:08.471908Z",
     "shell.execute_reply": "2023-04-07T10:59:08.471061Z"
    }
   },
   "outputs": [],
   "source": [
    "from dff.script.conditions import true\n",
    "from dff.script import Context, TRANSITIONS, RESPONSE, Message\n",
    "from dff.script.labels import repeat\n",
    "from dff.pipeline import Pipeline\n",
    "from dff.utils.turn_caching import lru_cache\n",
    "from dff.utils.testing.common import (\n",
    "    check_happy_path,\n",
    "    is_interactive_mode,\n",
    "    run_interactive_mode,\n",
    ")\n",
    "\n",
    "external_data = {\"counter\": 0}"
   ]
  },
  {
   "cell_type": "code",
   "execution_count": 3,
   "id": "e9081864",
   "metadata": {
    "execution": {
     "iopub.execute_input": "2023-04-07T10:59:08.475217Z",
     "iopub.status.busy": "2023-04-07T10:59:08.474532Z",
     "iopub.status.idle": "2023-04-07T10:59:08.479637Z",
     "shell.execute_reply": "2023-04-07T10:59:08.478949Z"
    }
   },
   "outputs": [],
   "source": [
    "@lru_cache(maxsize=2)\n",
    "def cached_response(_):\n",
    "    \"\"\"\n",
    "    This function will work exactly the same as the one from previous\n",
    "    tutorial with only one exception.\n",
    "    Only 2 results will be stored;\n",
    "    when the function will be executed with third arguments set,\n",
    "    the least recent result will be deleted.\n",
    "    \"\"\"\n",
    "    external_data[\"counter\"] += 1\n",
    "    return external_data[\"counter\"]\n",
    "\n",
    "\n",
    "def response(ctx: Context, _, *__, **___) -> Message:\n",
    "    if ctx.validation:\n",
    "        return Message()\n",
    "    return Message(\n",
    "        text=f\"{cached_response(1)}-{cached_response(2)}-{cached_response(3)}-\"\n",
    "        f\"{cached_response(2)}-{cached_response(1)}\"\n",
    "    )"
   ]
  },
  {
   "cell_type": "code",
   "execution_count": 4,
   "id": "1bb99199",
   "metadata": {
    "execution": {
     "iopub.execute_input": "2023-04-07T10:59:08.482201Z",
     "iopub.status.busy": "2023-04-07T10:59:08.481910Z",
     "iopub.status.idle": "2023-04-07T10:59:08.487379Z",
     "shell.execute_reply": "2023-04-07T10:59:08.486701Z"
    }
   },
   "outputs": [],
   "source": [
    "toy_script = {\"flow\": {\"node1\": {TRANSITIONS: {repeat(): true()}, RESPONSE: response}}}\n",
    "\n",
    "happy_path = (\n",
    "    (Message(), Message(text=\"1-2-3-2-4\")),\n",
    "    (Message(), Message(text=\"5-6-7-6-8\")),\n",
    "    (Message(), Message(text=\"9-10-11-10-12\")),\n",
    ")\n",
    "\n",
    "pipeline = Pipeline.from_script(toy_script, start_label=(\"flow\", \"node1\"))"
   ]
  },
  {
   "cell_type": "code",
   "execution_count": 5,
   "id": "af70b3c1",
   "metadata": {
    "execution": {
     "iopub.execute_input": "2023-04-07T10:59:08.490037Z",
     "iopub.status.busy": "2023-04-07T10:59:08.489701Z",
     "iopub.status.idle": "2023-04-07T10:59:08.497548Z",
     "shell.execute_reply": "2023-04-07T10:59:08.496892Z"
    },
    "lines_to_next_cell": 2
   },
   "outputs": [
    {
     "name": "stdout",
     "output_type": "stream",
     "text": [
      "(user) >>> \n",
      " (bot) <<< text='1-2-3-2-4'\n",
      "(user) >>> \n",
      " (bot) <<< text='5-6-7-6-8'\n",
      "(user) >>> \n",
      " (bot) <<< text='9-10-11-10-12'\n"
     ]
    }
   ],
   "source": [
    "if __name__ == \"__main__\":\n",
    "    check_happy_path(pipeline, happy_path)\n",
    "    if is_interactive_mode():\n",
    "        run_interactive_mode(pipeline)"
   ]
  }
 ],
 "metadata": {
  "jupytext": {
   "cell_metadata_filter": "-all",
   "main_language": "python",
   "notebook_metadata_filter": "-all",
   "text_representation": {
    "extension": ".py",
    "format_name": "percent"
   }
  },
  "language_info": {
   "codemirror_mode": {
    "name": "ipython",
    "version": 3
   },
   "file_extension": ".py",
   "mimetype": "text/x-python",
   "name": "python",
   "nbconvert_exporter": "python",
   "pygments_lexer": "ipython3",
   "version": "3.9.16"
  }
 },
 "nbformat": 4,
 "nbformat_minor": 5
}
