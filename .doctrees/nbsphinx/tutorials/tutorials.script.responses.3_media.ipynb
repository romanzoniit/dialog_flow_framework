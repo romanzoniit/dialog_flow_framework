{
 "cells": [
  {
   "cell_type": "markdown",
   "id": "3d697e62",
   "metadata": {
    "cell_marker": "\"\"\""
   },
   "source": [
    "# Responses: 3. Media"
   ]
  },
  {
   "cell_type": "markdown",
   "id": "0228d13b",
   "metadata": {
    "cell_marker": "\"\"\""
   },
   "source": [
    "__Installing dependencies__"
   ]
  },
  {
   "cell_type": "code",
   "execution_count": 1,
   "id": "4c12abd2",
   "metadata": {
    "execution": {
     "iopub.execute_input": "2023-04-07T10:58:55.777486Z",
     "iopub.status.busy": "2023-04-07T10:58:55.777238Z",
     "iopub.status.idle": "2023-04-07T10:58:56.723084Z",
     "shell.execute_reply": "2023-04-07T10:58:56.722255Z"
    },
    "lines_to_next_cell": 2
   },
   "outputs": [
    {
     "name": "stdout",
     "output_type": "stream",
     "text": [
      "\u001b[33mWARNING: dff 0.3.2 does not provide the extra 'tutorials'\u001b[0m\u001b[33m\r\n",
      "\u001b[0m"
     ]
    }
   ],
   "source": [
    "!python3 -m pip install -q dff[tutorials]\n",
    "# Installs dff with dependencies for running tutorials\n",
    "# To install the minimal version of dff, use `pip install dff`\n",
    "# To install other options of dff, use `pip install dff[OPTION_NAME1,OPTION_NAME2]`\n",
    "# where OPTION_NAME can be one of the options from EXTRA_DEPENDENCIES.\n",
    "# e.g `pip install dff[ydb, mysql]` installs dff with dependencies for using Yandex Database and MySQL\n",
    "# EXTRA_DEPENDENCIES can be found in\n",
    "# https://github.com/deeppavlov/dialog_flow_framework/blob/dev/setup.py#L155"
   ]
  },
  {
   "cell_type": "markdown",
   "id": "15332a65",
   "metadata": {
    "cell_marker": "\"\"\"",
    "lines_to_next_cell": 2
   },
   "source": [
    "__Running tutorial__"
   ]
  },
  {
   "cell_type": "code",
   "execution_count": 2,
   "id": "1691a41f",
   "metadata": {
    "execution": {
     "iopub.execute_input": "2023-04-07T10:58:56.726426Z",
     "iopub.status.busy": "2023-04-07T10:58:56.726182Z",
     "iopub.status.idle": "2023-04-07T10:58:57.345338Z",
     "shell.execute_reply": "2023-04-07T10:58:57.344629Z"
    },
    "lines_to_next_cell": 2
   },
   "outputs": [],
   "source": [
    "from dff.script import RESPONSE, TRANSITIONS\n",
    "from dff.script.conditions import std_conditions as cnd\n",
    "\n",
    "from dff.script.core.message import Attachments, Image, Message\n",
    "\n",
    "from dff.pipeline import Pipeline\n",
    "from dff.utils.testing import (\n",
    "    check_happy_path,\n",
    "    is_interactive_mode,\n",
    "    run_interactive_mode,\n",
    ")"
   ]
  },
  {
   "cell_type": "code",
   "execution_count": 3,
   "id": "f2b2d444",
   "metadata": {
    "execution": {
     "iopub.execute_input": "2023-04-07T10:58:57.348763Z",
     "iopub.status.busy": "2023-04-07T10:58:57.348374Z",
     "iopub.status.idle": "2023-04-07T10:58:57.362475Z",
     "shell.execute_reply": "2023-04-07T10:58:57.361857Z"
    },
    "lines_to_next_cell": 2
   },
   "outputs": [],
   "source": [
    "img_url = \"https://www.python.org/static/img/python-logo.png\"\n",
    "toy_script = {\n",
    "    \"root\": {\n",
    "        \"start\": {\n",
    "            RESPONSE: Message(text=\"\"),\n",
    "            TRANSITIONS: {(\"pics\", \"ask_picture\"): cnd.true()},\n",
    "        },\n",
    "        \"fallback\": {\n",
    "            RESPONSE: Message(text=\"Final node reached, send any message to restart.\"),\n",
    "            TRANSITIONS: {(\"pics\", \"ask_picture\"): cnd.true()},\n",
    "        },\n",
    "    },\n",
    "    \"pics\": {\n",
    "        \"ask_picture\": {\n",
    "            RESPONSE: Message(text=\"Please, send me a picture url\"),\n",
    "            TRANSITIONS: {\n",
    "                (\"pics\", \"send_one\", 1.1): cnd.regexp(r\"^http.+\\.png$\"),\n",
    "                (\"pics\", \"send_many\", 1.0): cnd.regexp(f\"{img_url} repeat 10 times\"),\n",
    "                (\"pics\", \"repeat\", 0.9): cnd.true(),\n",
    "            },\n",
    "        },\n",
    "        \"send_one\": {\n",
    "            RESPONSE: Message(\n",
    "                text=\"here's my picture!\", attachments=Attachments(files=[Image(source=img_url)])\n",
    "            ),\n",
    "            TRANSITIONS: {(\"root\", \"fallback\"): cnd.true()},\n",
    "        },\n",
    "        \"send_many\": {\n",
    "            RESPONSE: Message(\n",
    "                text=\"Look at my pictures\",\n",
    "                attachments=Attachments(files=[Image(source=img_url)] * 10),\n",
    "            ),\n",
    "            TRANSITIONS: {(\"root\", \"fallback\"): cnd.true()},\n",
    "        },\n",
    "        \"repeat\": {\n",
    "            RESPONSE: Message(text=\"I cannot find the picture. Please, try again.\"),\n",
    "            TRANSITIONS: {\n",
    "                (\"pics\", \"send_one\", 1.1): cnd.regexp(r\"^http.+\\.png$\"),\n",
    "                (\"pics\", \"send_many\", 1.0): cnd.regexp(r\"^http.+\\.png repeat 10 times\"),\n",
    "                (\"pics\", \"repeat\", 0.9): cnd.true(),\n",
    "            },\n",
    "        },\n",
    "    },\n",
    "}\n",
    "\n",
    "happy_path = (\n",
    "    (Message(text=\"Hi\"), Message(text=\"Please, send me a picture url\")),\n",
    "    (Message(text=\"no\"), Message(text=\"I cannot find the picture. Please, try again.\")),\n",
    "    (\n",
    "        Message(text=img_url),\n",
    "        Message(text=\"here's my picture!\", attachments=Attachments(files=[Image(source=img_url)])),\n",
    "    ),\n",
    "    (Message(text=\"ok\"), Message(text=\"Final node reached, send any message to restart.\")),\n",
    "    (Message(text=\"ok\"), Message(text=\"Please, send me a picture url\")),\n",
    "    (\n",
    "        Message(text=f\"{img_url} repeat 10 times\"),\n",
    "        Message(\n",
    "            text=\"Look at my pictures\",\n",
    "            attachments=Attachments(files=[Image(source=img_url)] * 10),\n",
    "        ),\n",
    "    ),\n",
    "    (Message(text=\"ok\"), Message(text=\"Final node reached, send any message to restart.\")),\n",
    ")"
   ]
  },
  {
   "cell_type": "code",
   "execution_count": 4,
   "id": "14832801",
   "metadata": {
    "execution": {
     "iopub.execute_input": "2023-04-07T10:58:57.365398Z",
     "iopub.status.busy": "2023-04-07T10:58:57.364868Z",
     "iopub.status.idle": "2023-04-07T10:58:58.149768Z",
     "shell.execute_reply": "2023-04-07T10:58:58.149047Z"
    },
    "lines_to_next_cell": 2
   },
   "outputs": [
    {
     "name": "stdout",
     "output_type": "stream",
     "text": [
      "(user) >>> text='Hi'\n",
      " (bot) <<< text='Please, send me a picture url'\n",
      "(user) >>> text='no'\n",
      " (bot) <<< text='I cannot find the picture. Please, try again.'\n",
      "(user) >>> text='https://www.python.org/static/img/python-logo.png'\n",
      " (bot) <<< text='here's my picture!' attachments='{'files': [{'source': HttpUrl('https://www.python.org/static/img/python-logo.png', )}]}'\n",
      "(user) >>> text='ok'\n",
      " (bot) <<< text='Final node reached, send any message to restart.'\n",
      "(user) >>> text='ok'\n",
      " (bot) <<< text='Please, send me a picture url'\n",
      "(user) >>> text='https://www.python.org/static/img/python-logo.png repeat 10 times'\n",
      " (bot) <<< text='Look at my pictures' attachments='{'files': [{'source': HttpUrl('https://www.python.org/static/img/python-logo.png', )}, {'source': HttpUrl('https://www.python.org/static/img/python-logo.png', )}, {'source': HttpUrl('https://www.python.org/static/img/python-logo.png', )}, {'source': HttpUrl('https://www.python.org/static/img/python-logo.png', )}, {'source': HttpUrl('https://www.python.org/static/img/python-logo.png', )}, {'source': HttpUrl('https://www.python.org/static/img/python-logo.png', )}, {'source': HttpUrl('https://www.python.org/static/img/python-logo.png', )}, {'source': HttpUrl('https://www.python.org/static/img/python-logo.png', )}, {'source': HttpUrl('https://www.python.org/static/img/python-logo.png', )}, {'source': HttpUrl('https://www.python.org/static/img/python-logo.png', )}]}'\n"
     ]
    },
    {
     "name": "stdout",
     "output_type": "stream",
     "text": [
      "(user) >>> text='ok'\n",
      " (bot) <<< text='Final node reached, send any message to restart.'\n"
     ]
    }
   ],
   "source": [
    "pipeline = Pipeline.from_script(\n",
    "    toy_script,\n",
    "    start_label=(\"root\", \"start\"),\n",
    "    fallback_label=(\"root\", \"fallback\"),\n",
    ")\n",
    "\n",
    "if __name__ == \"__main__\":\n",
    "    check_happy_path(pipeline, happy_path)\n",
    "    if is_interactive_mode():\n",
    "        run_interactive_mode(pipeline)"
   ]
  }
 ],
 "metadata": {
  "jupytext": {
   "cell_metadata_filter": "-all",
   "main_language": "python",
   "notebook_metadata_filter": "-all",
   "text_representation": {
    "extension": ".py",
    "format_name": "percent"
   }
  },
  "language_info": {
   "codemirror_mode": {
    "name": "ipython",
    "version": 3
   },
   "file_extension": ".py",
   "mimetype": "text/x-python",
   "name": "python",
   "nbconvert_exporter": "python",
   "pygments_lexer": "ipython3",
   "version": "3.9.16"
  }
 },
 "nbformat": 4,
 "nbformat_minor": 5
}
