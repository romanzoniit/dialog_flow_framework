{
 "cells": [
  {
   "cell_type": "markdown",
   "id": "407e0882",
   "metadata": {
    "cell_marker": "\"\"\""
   },
   "source": [
    "# 1. Basics\n",
    "\n",
    "The following tutorial shows basic usage of `pipeline`\n",
    "module as an extension to `dff.script.core`."
   ]
  },
  {
   "cell_type": "markdown",
   "id": "18d3baf7",
   "metadata": {
    "cell_marker": "\"\"\""
   },
   "source": [
    "__Installing dependencies__"
   ]
  },
  {
   "cell_type": "code",
   "execution_count": 1,
   "id": "fa5ccf6d",
   "metadata": {
    "execution": {
     "iopub.execute_input": "2023-04-07T10:57:29.336937Z",
     "iopub.status.busy": "2023-04-07T10:57:29.336363Z",
     "iopub.status.idle": "2023-04-07T10:57:30.270347Z",
     "shell.execute_reply": "2023-04-07T10:57:30.269545Z"
    },
    "lines_to_next_cell": 2
   },
   "outputs": [
    {
     "name": "stdout",
     "output_type": "stream",
     "text": [
      "\u001b[33mWARNING: dff 0.3.2 does not provide the extra 'tutorials'\u001b[0m\u001b[33m\r\n",
      "\u001b[0m"
     ]
    }
   ],
   "source": [
    "!python3 -m pip install -q dff[tutorials]\n",
    "# Installs dff with dependencies for running tutorials\n",
    "# To install the minimal version of dff, use `pip install dff`\n",
    "# To install other options of dff, use `pip install dff[OPTION_NAME1,OPTION_NAME2]`\n",
    "# where OPTION_NAME can be one of the options from EXTRA_DEPENDENCIES.\n",
    "# e.g `pip install dff[ydb, mysql]` installs dff with dependencies for using Yandex Database and MySQL\n",
    "# EXTRA_DEPENDENCIES can be found in\n",
    "# https://github.com/deeppavlov/dialog_flow_framework/blob/dev/setup.py#L155"
   ]
  },
  {
   "cell_type": "markdown",
   "id": "9ca7d064",
   "metadata": {
    "cell_marker": "\"\"\"",
    "lines_to_next_cell": 2
   },
   "source": [
    "__Running tutorial__"
   ]
  },
  {
   "cell_type": "code",
   "execution_count": 2,
   "id": "8f291545",
   "metadata": {
    "execution": {
     "iopub.execute_input": "2023-04-07T10:57:30.274301Z",
     "iopub.status.busy": "2023-04-07T10:57:30.273659Z",
     "iopub.status.idle": "2023-04-07T10:57:30.894626Z",
     "shell.execute_reply": "2023-04-07T10:57:30.893941Z"
    },
    "lines_to_next_cell": 2
   },
   "outputs": [],
   "source": [
    "from dff.script import Context\n",
    "\n",
    "from dff.pipeline import Pipeline\n",
    "\n",
    "from dff.utils.testing import check_happy_path, is_interactive_mode, HAPPY_PATH, TOY_SCRIPT"
   ]
  },
  {
   "cell_type": "markdown",
   "id": "25f6f198",
   "metadata": {
    "cell_marker": "\"\"\""
   },
   "source": [
    "`Pipeline` is an object, that automates script execution and context management.\n",
    "`from_script` method can be used to create\n",
    "a pipeline of the most basic structure:\n",
    "\"preprocessors -> actor -> postprocessors\"\n",
    "as well as to define `context_storage` and `messenger_interface`.\n",
    "Actor is a component of :py:class:`.Pipeline`, that contains the :py:class:`.Script`\n",
    "and handles it. It is responsible for processing user input and determining\n",
    "the appropriate response based on the current state of the conversation and the script.\n",
    "These parameters usage will be shown in tutorials 2, 3 and 6.\n",
    "\n",
    "Here only required parameters are provided to pipeline.\n",
    "`context_storage` will default to simple Python dict and\n",
    "`messenger_interface` will never be used.\n",
    "pre- and postprocessors lists are empty.\n",
    "`Pipeline` object can be called with user input\n",
    "as first argument and dialog id (any immutable object).\n",
    "This call will return `Context`,\n",
    "its `last_response` property will be actors response."
   ]
  },
  {
   "cell_type": "code",
   "execution_count": 3,
   "id": "3bbaec69",
   "metadata": {
    "execution": {
     "iopub.execute_input": "2023-04-07T10:57:30.898323Z",
     "iopub.status.busy": "2023-04-07T10:57:30.897586Z",
     "iopub.status.idle": "2023-04-07T10:57:30.904391Z",
     "shell.execute_reply": "2023-04-07T10:57:30.903685Z"
    },
    "lines_to_next_cell": 2
   },
   "outputs": [],
   "source": [
    "pipeline = Pipeline.from_script(\n",
    "    TOY_SCRIPT,  # Pipeline script object, defined in `dff.utils.testing.toy_script`.\n",
    "    start_label=(\"greeting_flow\", \"start_node\"),\n",
    "    fallback_label=(\"greeting_flow\", \"fallback_node\"),\n",
    ")"
   ]
  },
  {
   "cell_type": "code",
   "execution_count": 4,
   "id": "98432d84",
   "metadata": {
    "execution": {
     "iopub.execute_input": "2023-04-07T10:57:30.907184Z",
     "iopub.status.busy": "2023-04-07T10:57:30.906620Z",
     "iopub.status.idle": "2023-04-07T10:57:30.918158Z",
     "shell.execute_reply": "2023-04-07T10:57:30.917493Z"
    },
    "lines_to_next_cell": 2
   },
   "outputs": [
    {
     "name": "stdout",
     "output_type": "stream",
     "text": [
      "(user) >>> text='Hi'\n",
      " (bot) <<< text='Hi, how are you?'\n",
      "(user) >>> text='i'm fine, how are you?'\n",
      " (bot) <<< text='Good. What do you want to talk about?'\n",
      "(user) >>> text='Let's talk about music.'\n",
      " (bot) <<< text='Sorry, I can not talk about music now.'\n",
      "(user) >>> text='Ok, goodbye.'\n",
      " (bot) <<< text='bye'\n",
      "(user) >>> text='Hi'\n",
      " (bot) <<< text='Hi, how are you?'\n"
     ]
    }
   ],
   "source": [
    "if __name__ == \"__main__\":\n",
    "    check_happy_path(pipeline, HAPPY_PATH)  # This is a function for automatic tutorial running\n",
    "    # (testing) with HAPPY_PATH\n",
    "\n",
    "    # This runs tutorial in interactive mode if not in IPython env\n",
    "    # and if `DISABLE_INTERACTIVE_MODE` is not set\n",
    "    if is_interactive_mode():\n",
    "        ctx_id = 0  # 0 will be current dialog (context) identification.\n",
    "        while True:\n",
    "            ctx: Context = pipeline(input(\"Send request: \"), ctx_id)\n",
    "            print(ctx.last_response)"
   ]
  }
 ],
 "metadata": {
  "jupytext": {
   "cell_metadata_filter": "-all",
   "main_language": "python",
   "notebook_metadata_filter": "-all",
   "text_representation": {
    "extension": ".py",
    "format_name": "percent"
   }
  },
  "language_info": {
   "codemirror_mode": {
    "name": "ipython",
    "version": 3
   },
   "file_extension": ".py",
   "mimetype": "text/x-python",
   "name": "python",
   "nbconvert_exporter": "python",
   "pygments_lexer": "ipython3",
   "version": "3.9.16"
  }
 },
 "nbformat": 4,
 "nbformat_minor": 5
}
