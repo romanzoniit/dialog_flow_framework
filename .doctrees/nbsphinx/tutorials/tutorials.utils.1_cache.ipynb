{
 "cells": [
  {
   "cell_type": "markdown",
   "id": "551759a2",
   "metadata": {
    "cell_marker": "\"\"\""
   },
   "source": [
    "# 1. Cache"
   ]
  },
  {
   "cell_type": "markdown",
   "id": "fcfaf71c",
   "metadata": {
    "cell_marker": "\"\"\""
   },
   "source": [
    "__Installing dependencies__"
   ]
  },
  {
   "cell_type": "code",
   "execution_count": 1,
   "id": "348c50e7",
   "metadata": {
    "execution": {
     "iopub.execute_input": "2023-04-07T10:59:03.365870Z",
     "iopub.status.busy": "2023-04-07T10:59:03.364954Z",
     "iopub.status.idle": "2023-04-07T10:59:04.303897Z",
     "shell.execute_reply": "2023-04-07T10:59:04.303030Z"
    },
    "lines_to_next_cell": 2
   },
   "outputs": [
    {
     "name": "stdout",
     "output_type": "stream",
     "text": [
      "\u001b[33mWARNING: dff 0.3.2 does not provide the extra 'tutorials'\u001b[0m\u001b[33m\r\n",
      "\u001b[0m"
     ]
    }
   ],
   "source": [
    "!python3 -m pip install -q dff[tutorials]\n",
    "# Installs dff with dependencies for running tutorials\n",
    "# To install the minimal version of dff, use `pip install dff`\n",
    "# To install other options of dff, use `pip install dff[OPTION_NAME1,OPTION_NAME2]`\n",
    "# where OPTION_NAME can be one of the options from EXTRA_DEPENDENCIES.\n",
    "# e.g `pip install dff[ydb, mysql]` installs dff with dependencies for using Yandex Database and MySQL\n",
    "# EXTRA_DEPENDENCIES can be found in\n",
    "# https://github.com/deeppavlov/dialog_flow_framework/blob/dev/setup.py#L155"
   ]
  },
  {
   "cell_type": "markdown",
   "id": "0c64a69a",
   "metadata": {
    "cell_marker": "\"\"\"",
    "lines_to_next_cell": 2
   },
   "source": [
    "__Running tutorial__"
   ]
  },
  {
   "cell_type": "code",
   "execution_count": 2,
   "id": "664156b6",
   "metadata": {
    "execution": {
     "iopub.execute_input": "2023-04-07T10:59:04.307440Z",
     "iopub.status.busy": "2023-04-07T10:59:04.307135Z",
     "iopub.status.idle": "2023-04-07T10:59:04.935981Z",
     "shell.execute_reply": "2023-04-07T10:59:04.935095Z"
    }
   },
   "outputs": [],
   "source": [
    "from dff.script.conditions import true\n",
    "from dff.script import Context, TRANSITIONS, RESPONSE, Message\n",
    "from dff.script.labels import repeat\n",
    "from dff.pipeline import Pipeline\n",
    "from dff.utils.turn_caching import cache\n",
    "from dff.utils.testing.common import (\n",
    "    check_happy_path,\n",
    "    is_interactive_mode,\n",
    "    run_interactive_mode,\n",
    ")\n",
    "\n",
    "\n",
    "external_data = {\"counter\": 0}"
   ]
  },
  {
   "cell_type": "code",
   "execution_count": 3,
   "id": "ccf8f354",
   "metadata": {
    "execution": {
     "iopub.execute_input": "2023-04-07T10:59:04.939635Z",
     "iopub.status.busy": "2023-04-07T10:59:04.938939Z",
     "iopub.status.idle": "2023-04-07T10:59:04.944390Z",
     "shell.execute_reply": "2023-04-07T10:59:04.943785Z"
    }
   },
   "outputs": [],
   "source": [
    "@cache\n",
    "def cached_response(_):\n",
    "    \"\"\"\n",
    "    This function execution result will be saved\n",
    "    for any set of given argument(s).\n",
    "    If the function will be called again\n",
    "    with the same arguments it will prevent it from execution.\n",
    "    The cached values will be used instead.\n",
    "    The cache is stored in a library-wide singleton,\n",
    "    that is cleared in the end of execution of actor and/or pipeline.\n",
    "    \"\"\"\n",
    "    external_data[\"counter\"] += 1\n",
    "    return external_data[\"counter\"]\n",
    "\n",
    "\n",
    "def response(ctx: Context, _, *__, **___) -> Message:\n",
    "    if ctx.validation:\n",
    "        return Message()\n",
    "    return Message(\n",
    "        text=f\"{cached_response(1)}-{cached_response(2)}-\"\n",
    "        f\"{cached_response(1)}-{cached_response(2)}\"\n",
    "    )"
   ]
  },
  {
   "cell_type": "code",
   "execution_count": 4,
   "id": "d83c56e7",
   "metadata": {
    "execution": {
     "iopub.execute_input": "2023-04-07T10:59:04.947113Z",
     "iopub.status.busy": "2023-04-07T10:59:04.946701Z",
     "iopub.status.idle": "2023-04-07T10:59:04.952857Z",
     "shell.execute_reply": "2023-04-07T10:59:04.952209Z"
    },
    "lines_to_next_cell": 2
   },
   "outputs": [],
   "source": [
    "toy_script = {\"flow\": {\"node1\": {TRANSITIONS: {repeat(): true()}, RESPONSE: response}}}\n",
    "\n",
    "happy_path = (\n",
    "    (Message(), Message(text=\"1-2-1-2\")),\n",
    "    (Message(), Message(text=\"3-4-3-4\")),\n",
    "    (Message(), Message(text=\"5-6-5-6\")),\n",
    ")\n",
    "\n",
    "pipeline = Pipeline.from_script(toy_script, start_label=(\"flow\", \"node1\"))"
   ]
  },
  {
   "cell_type": "code",
   "execution_count": 5,
   "id": "234263c5",
   "metadata": {
    "execution": {
     "iopub.execute_input": "2023-04-07T10:59:04.955504Z",
     "iopub.status.busy": "2023-04-07T10:59:04.955165Z",
     "iopub.status.idle": "2023-04-07T10:59:04.962599Z",
     "shell.execute_reply": "2023-04-07T10:59:04.962065Z"
    },
    "lines_to_next_cell": 2
   },
   "outputs": [
    {
     "name": "stdout",
     "output_type": "stream",
     "text": [
      "(user) >>> \n",
      " (bot) <<< text='1-2-1-2'\n",
      "(user) >>> \n",
      " (bot) <<< text='3-4-3-4'\n",
      "(user) >>> \n",
      " (bot) <<< text='5-6-5-6'\n"
     ]
    }
   ],
   "source": [
    "if __name__ == \"__main__\":\n",
    "    check_happy_path(pipeline, happy_path)\n",
    "    if is_interactive_mode():\n",
    "        run_interactive_mode(pipeline)"
   ]
  }
 ],
 "metadata": {
  "jupytext": {
   "cell_metadata_filter": "-all",
   "main_language": "python",
   "notebook_metadata_filter": "-all",
   "text_representation": {
    "extension": ".py",
    "format_name": "percent"
   }
  },
  "language_info": {
   "codemirror_mode": {
    "name": "ipython",
    "version": 3
   },
   "file_extension": ".py",
   "mimetype": "text/x-python",
   "name": "python",
   "nbconvert_exporter": "python",
   "pygments_lexer": "ipython3",
   "version": "3.9.16"
  }
 },
 "nbformat": 4,
 "nbformat_minor": 5
}
