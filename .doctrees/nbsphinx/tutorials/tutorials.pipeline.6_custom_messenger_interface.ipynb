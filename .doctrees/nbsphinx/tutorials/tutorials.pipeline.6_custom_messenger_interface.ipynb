{
 "cells": [
  {
   "cell_type": "markdown",
   "id": "dd6cbb7e",
   "metadata": {
    "cell_marker": "\"\"\""
   },
   "source": [
    "# 6. Custom messenger interface\n",
    "\n",
    "The following tutorial shows messenger interfaces usage."
   ]
  },
  {
   "cell_type": "markdown",
   "id": "362bf9b6",
   "metadata": {
    "cell_marker": "\"\"\""
   },
   "source": [
    "__Installing dependencies__"
   ]
  },
  {
   "cell_type": "code",
   "execution_count": 1,
   "id": "b6a47d37",
   "metadata": {
    "execution": {
     "iopub.execute_input": "2023-04-07T10:58:02.652136Z",
     "iopub.status.busy": "2023-04-07T10:58:02.651915Z",
     "iopub.status.idle": "2023-04-07T10:58:03.581582Z",
     "shell.execute_reply": "2023-04-07T10:58:03.580745Z"
    },
    "lines_to_next_cell": 2
   },
   "outputs": [
    {
     "name": "stdout",
     "output_type": "stream",
     "text": [
      "\u001b[33mWARNING: dff 0.3.2 does not provide the extra 'tutorials'\u001b[0m\u001b[33m\r\n",
      "\u001b[0m"
     ]
    }
   ],
   "source": [
    "!python3 -m pip install -q dff[tutorials]\n",
    "# Installs dff with dependencies for running tutorials\n",
    "# To install the minimal version of dff, use `pip install dff`\n",
    "# To install other options of dff, use `pip install dff[OPTION_NAME1,OPTION_NAME2]`\n",
    "# where OPTION_NAME can be one of the options from EXTRA_DEPENDENCIES.\n",
    "# e.g `pip install dff[ydb, mysql]` installs dff with dependencies for using Yandex Database and MySQL\n",
    "# EXTRA_DEPENDENCIES can be found in\n",
    "# https://github.com/deeppavlov/dialog_flow_framework/blob/dev/setup.py#L155"
   ]
  },
  {
   "cell_type": "markdown",
   "id": "fb2bd63c",
   "metadata": {
    "cell_marker": "\"\"\"",
    "lines_to_next_cell": 2
   },
   "source": [
    "__Running tutorial__"
   ]
  },
  {
   "cell_type": "code",
   "execution_count": 2,
   "id": "8169cb0d",
   "metadata": {
    "execution": {
     "iopub.execute_input": "2023-04-07T10:58:03.585127Z",
     "iopub.status.busy": "2023-04-07T10:58:03.584476Z",
     "iopub.status.idle": "2023-04-07T10:58:04.287049Z",
     "shell.execute_reply": "2023-04-07T10:58:04.286352Z"
    },
    "lines_to_next_cell": 2
   },
   "outputs": [],
   "source": [
    "import logging\n",
    "\n",
    "from dff.messengers.common.interface import CallbackMessengerInterface\n",
    "from dff.script import Context, Message\n",
    "from flask import Flask, request, Request\n",
    "\n",
    "from dff.pipeline import Pipeline, ACTOR\n",
    "from dff.utils.testing import is_interactive_mode, TOY_SCRIPT\n",
    "\n",
    "logger = logging.getLogger(__name__)"
   ]
  },
  {
   "cell_type": "markdown",
   "id": "60d917e5",
   "metadata": {
    "cell_marker": "\"\"\""
   },
   "source": [
    "Messenger interfaces are used for providing\n",
    "a way for communication between user and `pipeline`.\n",
    "They manage message channel initialization and termination\n",
    "as well as pipeline execution on every user request.\n",
    "There are two built-in messenger interface types (that may be overridden):\n",
    "\n",
    "* `PollingMessengerInterface` - Starts polling for user request\n",
    "        in a loop upon initialization,\n",
    "        it has following methods:\n",
    "    * `_request()` - Method that is executed in a loop,\n",
    "        should return list of tuples: (user request, unique dialog id).\n",
    "    * `_respond(responses)` - Method that is executed in a loop\n",
    "        after all user requests processing,\n",
    "        accepts list of dialog `Contexts`.\n",
    "    * `_on_exception(e)` - Method that is called on\n",
    "        exception that happens in the loop,\n",
    "        should catch the exception\n",
    "        (it is also called on pipeline termination).\n",
    "    * `connect(pipeline_runner, loop, timeout)` -\n",
    "            Method that is called on connection to message channel,\n",
    "            accepts pipeline_runner (a callback, running pipeline).\n",
    "    * loop - A function to be called on each loop\n",
    "            execution (should return True to continue polling).\n",
    "    * timeout - Time in seconds to wait between loop executions.\n",
    "\n",
    "* `CallbackMessengerInterface` - Creates message channel\n",
    "        and provides a callback for pipeline execution,\n",
    "        it has following method:\n",
    "    * `on_request(request, ctx_id)` - Method that should be called each time\n",
    "        user provides new input to pipeline,\n",
    "        returns dialog Context.\n",
    "\n",
    "`CLIMessengerInterface` is also\n",
    "    a messenger interface that overrides `PollingMessengerInterface` and\n",
    "    provides default message channel between pipeline and console/file IO.\n",
    "\n",
    "Here a default `CallbackMessengerInterface` is used to setup\n",
    "communication between pipeline and Flask server.\n",
    "Two services are used to process request:\n",
    "\n",
    "* `purify_request` - Extracts user request from Flask HTTP request.\n",
    "* `construct_webpage_by_response` - Wraps actor response in webpage and\n",
    "    adds response-based image to it."
   ]
  },
  {
   "cell_type": "code",
   "execution_count": 3,
   "id": "6dd1a91e",
   "metadata": {
    "execution": {
     "iopub.execute_input": "2023-04-07T10:58:04.290304Z",
     "iopub.status.busy": "2023-04-07T10:58:04.289973Z",
     "iopub.status.idle": "2023-04-07T10:58:04.298348Z",
     "shell.execute_reply": "2023-04-07T10:58:04.297746Z"
    }
   },
   "outputs": [],
   "source": [
    "app = Flask(\"tutorials.6_custom_messenger_interface\")\n",
    "\n",
    "messenger_interface = CallbackMessengerInterface()  # For this simple case of Flask,\n",
    "# CallbackMessengerInterface may not be overridden\n",
    "\n",
    "\n",
    "def construct_webpage_by_response(response: str) -> str:\n",
    "    return f\"\"\"\n",
    "    <!DOCTYPE html>\n",
    "    <html>\n",
    "        <head>\n",
    "            <meta name=\"viewport\" content=\"width=device-width, initial-scale=1\">\n",
    "            <style>\n",
    "                p {{text-align: center;}}\n",
    "                img {{\n",
    "                    display: block;\n",
    "                    margin-left: auto;\n",
    "                    margin-right: auto;\n",
    "                }}\n",
    "            </style>\n",
    "        </head>\n",
    "        <body>\n",
    "        <p><b>{response}</b></p>\n",
    "        <img\n",
    "            src=\"https://source.unsplash.com/random?{response}\"\n",
    "            alt=\"Response picture\" style=\"width:50%;height:50%;\"\n",
    "        >\n",
    "        </body>\n",
    "    </html>\n",
    "    \"\"\"\n",
    "\n",
    "\n",
    "def purify_request(ctx: Context):\n",
    "    last_request = ctx.last_request\n",
    "    if isinstance(last_request, Request):\n",
    "        logger.info(f\"Capturing request from: {last_request.base_url}\")\n",
    "        ctx.last_request = Message(text=last_request.args.get(\"request\"))\n",
    "    elif isinstance(last_request, Message):\n",
    "        logger.info(\"Capturing request from CLI\")\n",
    "    else:\n",
    "        raise Exception(f\"Request of type {type(last_request)} can not be purified!\")\n",
    "\n",
    "\n",
    "def cat_response2webpage(ctx: Context):\n",
    "    ctx.last_response = Message(\n",
    "        misc={\"webpage\": construct_webpage_by_response(ctx.last_response.text)}\n",
    "    )"
   ]
  },
  {
   "cell_type": "code",
   "execution_count": 4,
   "id": "73104f9d",
   "metadata": {
    "execution": {
     "iopub.execute_input": "2023-04-07T10:58:04.301066Z",
     "iopub.status.busy": "2023-04-07T10:58:04.300642Z",
     "iopub.status.idle": "2023-04-07T10:58:04.305835Z",
     "shell.execute_reply": "2023-04-07T10:58:04.305204Z"
    },
    "lines_to_next_cell": 2
   },
   "outputs": [],
   "source": [
    "pipeline_dict = {\n",
    "    \"script\": TOY_SCRIPT,\n",
    "    \"start_label\": (\"greeting_flow\", \"start_node\"),\n",
    "    \"fallback_label\": (\"greeting_flow\", \"fallback_node\"),\n",
    "    \"messenger_interface\": messenger_interface,\n",
    "    \"components\": [\n",
    "        purify_request,\n",
    "        {\n",
    "            \"handler\": ACTOR,\n",
    "            \"name\": \"encapsulated-actor\",\n",
    "        },  # Actor here is encapsulated in another service with specific name\n",
    "        cat_response2webpage,\n",
    "    ],\n",
    "}\n",
    "\n",
    "\n",
    "@app.route(\"/pipeline_web_interface\")\n",
    "async def route():\n",
    "    ctx_id = 0  # 0 will be current dialog (context) identification.\n",
    "    return messenger_interface.on_request(request, ctx_id).last_response.text"
   ]
  },
  {
   "cell_type": "code",
   "execution_count": 5,
   "id": "c4f3d927",
   "metadata": {
    "execution": {
     "iopub.execute_input": "2023-04-07T10:58:04.308589Z",
     "iopub.status.busy": "2023-04-07T10:58:04.308135Z",
     "iopub.status.idle": "2023-04-07T10:58:04.315173Z",
     "shell.execute_reply": "2023-04-07T10:58:04.314545Z"
    },
    "lines_to_next_cell": 2
   },
   "outputs": [],
   "source": [
    "pipeline = Pipeline(**pipeline_dict)\n",
    "\n",
    "if (\n",
    "    __name__ == \"__main__\" and is_interactive_mode()\n",
    "):  # This tutorial will be run in interactive mode only\n",
    "    pipeline.run()\n",
    "    app.run()\n",
    "    # Navigate to\n",
    "    # http://127.0.0.1:5000/pipeline_web_interface?request={REQUEST}\n",
    "    # to receive response\n",
    "    # e.g. http://127.0.0.1:5000/pipeline_web_interface?request=Hi\n",
    "    # will bring you to actor start node"
   ]
  }
 ],
 "metadata": {
  "jupytext": {
   "cell_metadata_filter": "-all",
   "main_language": "python",
   "notebook_metadata_filter": "-all",
   "text_representation": {
    "extension": ".py",
    "format_name": "percent"
   }
  },
  "language_info": {
   "codemirror_mode": {
    "name": "ipython",
    "version": 3
   },
   "file_extension": ".py",
   "mimetype": "text/x-python",
   "name": "python",
   "nbconvert_exporter": "python",
   "pygments_lexer": "ipython3",
   "version": "3.9.16"
  }
 },
 "nbformat": 4,
 "nbformat_minor": 5
}
