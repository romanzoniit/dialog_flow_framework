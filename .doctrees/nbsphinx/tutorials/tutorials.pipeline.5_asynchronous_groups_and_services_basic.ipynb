{
 "cells": [
  {
   "cell_type": "markdown",
   "id": "8d0dafcc",
   "metadata": {
    "cell_marker": "\"\"\""
   },
   "source": [
    "# 5. Asynchronous groups and services (basic)\n",
    "\n",
    "The following tutorial shows `pipeline` asynchronous\n",
    "service and service group usage."
   ]
  },
  {
   "cell_type": "markdown",
   "id": "121d2348",
   "metadata": {
    "cell_marker": "\"\"\""
   },
   "source": [
    "__Installing dependencies__"
   ]
  },
  {
   "cell_type": "code",
   "execution_count": 1,
   "id": "5bab9864",
   "metadata": {
    "execution": {
     "iopub.execute_input": "2023-04-07T10:57:50.571611Z",
     "iopub.status.busy": "2023-04-07T10:57:50.571222Z",
     "iopub.status.idle": "2023-04-07T10:57:51.493911Z",
     "shell.execute_reply": "2023-04-07T10:57:51.493033Z"
    },
    "lines_to_next_cell": 2
   },
   "outputs": [
    {
     "name": "stdout",
     "output_type": "stream",
     "text": [
      "\u001b[33mWARNING: dff 0.3.2 does not provide the extra 'tutorials'\u001b[0m\u001b[33m\r\n",
      "\u001b[0m"
     ]
    }
   ],
   "source": [
    "!python3 -m pip install -q dff[tutorials]\n",
    "# Installs dff with dependencies for running tutorials\n",
    "# To install the minimal version of dff, use `pip install dff`\n",
    "# To install other options of dff, use `pip install dff[OPTION_NAME1,OPTION_NAME2]`\n",
    "# where OPTION_NAME can be one of the options from EXTRA_DEPENDENCIES.\n",
    "# e.g `pip install dff[ydb, mysql]` installs dff with dependencies for using Yandex Database and MySQL\n",
    "# EXTRA_DEPENDENCIES can be found in\n",
    "# https://github.com/deeppavlov/dialog_flow_framework/blob/dev/setup.py#L155"
   ]
  },
  {
   "cell_type": "markdown",
   "id": "2f2681f2",
   "metadata": {
    "cell_marker": "\"\"\"",
    "lines_to_next_cell": 2
   },
   "source": [
    "__Running tutorial__"
   ]
  },
  {
   "cell_type": "code",
   "execution_count": 2,
   "id": "46a1eb4e",
   "metadata": {
    "execution": {
     "iopub.execute_input": "2023-04-07T10:57:51.497401Z",
     "iopub.status.busy": "2023-04-07T10:57:51.497067Z",
     "iopub.status.idle": "2023-04-07T10:57:52.143415Z",
     "shell.execute_reply": "2023-04-07T10:57:52.142721Z"
    }
   },
   "outputs": [],
   "source": [
    "import asyncio\n",
    "\n",
    "from dff.pipeline import Pipeline, ACTOR\n",
    "\n",
    "from dff.utils.testing.common import (\n",
    "    is_interactive_mode,\n",
    "    check_happy_path,\n",
    "    run_interactive_mode,\n",
    ")\n",
    "from dff.utils.testing.toy_script import HAPPY_PATH, TOY_SCRIPT"
   ]
  },
  {
   "cell_type": "markdown",
   "id": "9379f37c",
   "metadata": {
    "cell_marker": "\"\"\"",
    "lines_to_next_cell": 2
   },
   "source": [
    "Services and service groups can be synchronous and asynchronous.\n",
    "In synchronous service groups services are executed consequently.\n",
    "In asynchronous service groups all services are executed simultaneously.\n",
    "\n",
    "Service can be asynchronous if its handler is an async function.\n",
    "Service group can be asynchronous if all services\n",
    "and service groups inside it are asynchronous.\n",
    "\n",
    "Here there is an asynchronous service group, that contains 10 services,\n",
    "each of them should sleep for 0.01 of a second.\n",
    "However, as the group is asynchronous,\n",
    "it is being executed for 0.01 of a second in total.\n",
    "Service group `pipeline` can't be asynchronous because `actor` is synchronous."
   ]
  },
  {
   "cell_type": "code",
   "execution_count": 3,
   "id": "3eb67d8e",
   "metadata": {
    "execution": {
     "iopub.execute_input": "2023-04-07T10:57:52.146932Z",
     "iopub.status.busy": "2023-04-07T10:57:52.146368Z",
     "iopub.status.idle": "2023-04-07T10:57:52.151601Z",
     "shell.execute_reply": "2023-04-07T10:57:52.151002Z"
    }
   },
   "outputs": [],
   "source": [
    "async def time_consuming_service(_):\n",
    "    await asyncio.sleep(0.01)\n",
    "\n",
    "\n",
    "pipeline_dict = {\n",
    "    \"script\": TOY_SCRIPT,\n",
    "    \"start_label\": (\"greeting_flow\", \"start_node\"),\n",
    "    \"fallback_label\": (\"greeting_flow\", \"fallback_node\"),\n",
    "    \"components\": [\n",
    "        [time_consuming_service for _ in range(0, 10)],\n",
    "        ACTOR,\n",
    "    ],\n",
    "}"
   ]
  },
  {
   "cell_type": "code",
   "execution_count": 4,
   "id": "96867df5",
   "metadata": {
    "execution": {
     "iopub.execute_input": "2023-04-07T10:57:52.154367Z",
     "iopub.status.busy": "2023-04-07T10:57:52.154037Z",
     "iopub.status.idle": "2023-04-07T10:57:52.227634Z",
     "shell.execute_reply": "2023-04-07T10:57:52.226947Z"
    },
    "lines_to_next_cell": 2
   },
   "outputs": [
    {
     "name": "stdout",
     "output_type": "stream",
     "text": [
      "(user) >>> text='Hi'\n",
      " (bot) <<< text='Hi, how are you?'\n",
      "(user) >>> text='i'm fine, how are you?'\n",
      " (bot) <<< text='Good. What do you want to talk about?'\n",
      "(user) >>> text='Let's talk about music.'\n",
      " (bot) <<< text='Sorry, I can not talk about music now.'\n",
      "(user) >>> text='Ok, goodbye.'\n",
      " (bot) <<< text='bye'\n",
      "(user) >>> text='Hi'\n",
      " (bot) <<< text='Hi, how are you?'\n"
     ]
    }
   ],
   "source": [
    "pipeline = Pipeline.from_dict(pipeline_dict)\n",
    "\n",
    "if __name__ == \"__main__\":\n",
    "    check_happy_path(pipeline, HAPPY_PATH)\n",
    "    if is_interactive_mode():\n",
    "        run_interactive_mode(pipeline)"
   ]
  }
 ],
 "metadata": {
  "jupytext": {
   "cell_metadata_filter": "-all",
   "main_language": "python",
   "notebook_metadata_filter": "-all",
   "text_representation": {
    "extension": ".py",
    "format_name": "percent"
   }
  },
  "language_info": {
   "codemirror_mode": {
    "name": "ipython",
    "version": 3
   },
   "file_extension": ".py",
   "mimetype": "text/x-python",
   "name": "python",
   "nbconvert_exporter": "python",
   "pygments_lexer": "ipython3",
   "version": "3.9.16"
  }
 },
 "nbformat": 4,
 "nbformat_minor": 5
}
