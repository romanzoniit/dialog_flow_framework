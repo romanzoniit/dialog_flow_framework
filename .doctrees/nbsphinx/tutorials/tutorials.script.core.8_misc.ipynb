{
 "cells": [
  {
   "cell_type": "markdown",
   "id": "e6e73468",
   "metadata": {
    "cell_marker": "\"\"\""
   },
   "source": [
    "# Core: 8. Misc\n",
    "\n",
    "This tutorial shows `MISC` (miscellaneous) keyword usage.\n",
    "First of all, let's do all the necessary imports from DFF."
   ]
  },
  {
   "cell_type": "markdown",
   "id": "35702a5e",
   "metadata": {
    "cell_marker": "\"\"\""
   },
   "source": [
    "__Installing dependencies__"
   ]
  },
  {
   "cell_type": "code",
   "execution_count": 1,
   "id": "0c7ff2ec",
   "metadata": {
    "execution": {
     "iopub.execute_input": "2023-04-07T10:58:42.178631Z",
     "iopub.status.busy": "2023-04-07T10:58:42.178079Z",
     "iopub.status.idle": "2023-04-07T10:58:43.123009Z",
     "shell.execute_reply": "2023-04-07T10:58:43.122099Z"
    },
    "lines_to_next_cell": 2
   },
   "outputs": [
    {
     "name": "stdout",
     "output_type": "stream",
     "text": [
      "\u001b[33mWARNING: dff 0.3.2 does not provide the extra 'tutorials'\u001b[0m\u001b[33m\r\n",
      "\u001b[0m"
     ]
    }
   ],
   "source": [
    "!python3 -m pip install -q dff[tutorials]\n",
    "# Installs dff with dependencies for running tutorials\n",
    "# To install the minimal version of dff, use `pip install dff`\n",
    "# To install other options of dff, use `pip install dff[OPTION_NAME1,OPTION_NAME2]`\n",
    "# where OPTION_NAME can be one of the options from EXTRA_DEPENDENCIES.\n",
    "# e.g `pip install dff[ydb, mysql]` installs dff with dependencies for using Yandex Database and MySQL\n",
    "# EXTRA_DEPENDENCIES can be found in\n",
    "# https://github.com/deeppavlov/dialog_flow_framework/blob/dev/setup.py#L155"
   ]
  },
  {
   "cell_type": "markdown",
   "id": "5ce95d93",
   "metadata": {
    "cell_marker": "\"\"\"",
    "lines_to_next_cell": 2
   },
   "source": [
    "__Running tutorial__"
   ]
  },
  {
   "cell_type": "code",
   "execution_count": 2,
   "id": "c5110f71",
   "metadata": {
    "execution": {
     "iopub.execute_input": "2023-04-07T10:58:43.126675Z",
     "iopub.status.busy": "2023-04-07T10:58:43.126216Z",
     "iopub.status.idle": "2023-04-07T10:58:43.767191Z",
     "shell.execute_reply": "2023-04-07T10:58:43.766387Z"
    }
   },
   "outputs": [],
   "source": [
    "from dff.script import (\n",
    "    GLOBAL,\n",
    "    LOCAL,\n",
    "    RESPONSE,\n",
    "    TRANSITIONS,\n",
    "    MISC,\n",
    "    Context,\n",
    "    Message,\n",
    ")\n",
    "import dff.script.labels as lbl\n",
    "import dff.script.conditions as cnd\n",
    "from dff.pipeline import Pipeline\n",
    "from dff.utils.testing.common import (\n",
    "    check_happy_path,\n",
    "    is_interactive_mode,\n",
    "    run_interactive_mode,\n",
    ")"
   ]
  },
  {
   "cell_type": "code",
   "execution_count": 3,
   "id": "5a2d41d3",
   "metadata": {
    "execution": {
     "iopub.execute_input": "2023-04-07T10:58:43.771609Z",
     "iopub.status.busy": "2023-04-07T10:58:43.770532Z",
     "iopub.status.idle": "2023-04-07T10:58:43.775509Z",
     "shell.execute_reply": "2023-04-07T10:58:43.775016Z"
    }
   },
   "outputs": [],
   "source": [
    "def custom_response(ctx: Context, _: Pipeline, *args, **kwargs) -> Message:\n",
    "    if ctx.validation:\n",
    "        return Message()\n",
    "    current_node = ctx.current_node\n",
    "    return Message(text=f\"ctx.last_label={ctx.last_label}: current_node.misc={current_node.misc}\")"
   ]
  },
  {
   "cell_type": "code",
   "execution_count": 4,
   "id": "2e83a390",
   "metadata": {
    "execution": {
     "iopub.execute_input": "2023-04-07T10:58:43.779721Z",
     "iopub.status.busy": "2023-04-07T10:58:43.778661Z",
     "iopub.status.idle": "2023-04-07T10:58:43.791131Z",
     "shell.execute_reply": "2023-04-07T10:58:43.790634Z"
    },
    "lines_to_next_cell": 2
   },
   "outputs": [],
   "source": [
    "toy_script = {\n",
    "    \"root\": {\n",
    "        \"start\": {RESPONSE: Message(), TRANSITIONS: {(\"flow\", \"step_0\"): cnd.true()}},\n",
    "        \"fallback\": {RESPONSE: Message(text=\"the end\")},\n",
    "    },\n",
    "    GLOBAL: {\n",
    "        MISC: {\n",
    "            \"var1\": \"global_data\",\n",
    "            \"var2\": \"global_data\",\n",
    "            \"var3\": \"global_data\",\n",
    "        }\n",
    "    },\n",
    "    \"flow\": {\n",
    "        LOCAL: {\n",
    "            MISC: {\n",
    "                \"var2\": \"rewrite_by_local\",\n",
    "                \"var3\": \"rewrite_by_local\",\n",
    "            }\n",
    "        },\n",
    "        \"step_0\": {\n",
    "            MISC: {\"var3\": \"info_of_step_0\"},\n",
    "            RESPONSE: custom_response,\n",
    "            TRANSITIONS: {lbl.forward(): cnd.true()},\n",
    "        },\n",
    "        \"step_1\": {\n",
    "            MISC: {\"var3\": \"info_of_step_1\"},\n",
    "            RESPONSE: custom_response,\n",
    "            TRANSITIONS: {lbl.forward(): cnd.true()},\n",
    "        },\n",
    "        \"step_2\": {\n",
    "            MISC: {\"var3\": \"info_of_step_2\"},\n",
    "            RESPONSE: custom_response,\n",
    "            TRANSITIONS: {lbl.forward(): cnd.true()},\n",
    "        },\n",
    "        \"step_3\": {\n",
    "            MISC: {\"var3\": \"info_of_step_3\"},\n",
    "            RESPONSE: custom_response,\n",
    "            TRANSITIONS: {lbl.forward(): cnd.true()},\n",
    "        },\n",
    "        \"step_4\": {\n",
    "            MISC: {\"var3\": \"info_of_step_4\"},\n",
    "            RESPONSE: custom_response,\n",
    "            TRANSITIONS: {\"step_0\": cnd.true()},\n",
    "        },\n",
    "    },\n",
    "}\n",
    "\n",
    "\n",
    "# testing\n",
    "happy_path = (\n",
    "    (\n",
    "        Message(),\n",
    "        Message(\n",
    "            text=\"ctx.last_label=('flow', 'step_0'): current_node.misc=\"\n",
    "            \"{'var1': 'global_data', 'var2': 'rewrite_by_local', 'var3': 'info_of_step_0'}\"\n",
    "        ),\n",
    "    ),\n",
    "    (\n",
    "        Message(),\n",
    "        Message(\n",
    "            text=\"ctx.last_label=('flow', 'step_1'): current_node.misc=\"\n",
    "            \"{'var1': 'global_data', 'var2': 'rewrite_by_local', 'var3': 'info_of_step_1'}\"\n",
    "        ),\n",
    "    ),\n",
    "    (\n",
    "        Message(),\n",
    "        Message(\n",
    "            text=\"ctx.last_label=('flow', 'step_2'): current_node.misc=\"\n",
    "            \"{'var1': 'global_data', 'var2': 'rewrite_by_local', 'var3': 'info_of_step_2'}\"\n",
    "        ),\n",
    "    ),\n",
    "    (\n",
    "        Message(),\n",
    "        Message(\n",
    "            text=\"ctx.last_label=('flow', 'step_3'): current_node.misc=\"\n",
    "            \"{'var1': 'global_data', 'var2': 'rewrite_by_local', 'var3': 'info_of_step_3'}\"\n",
    "        ),\n",
    "    ),\n",
    "    (\n",
    "        Message(),\n",
    "        Message(\n",
    "            text=\"ctx.last_label=('flow', 'step_4'): current_node.misc=\"\n",
    "            \"{'var1': 'global_data', 'var2': 'rewrite_by_local', 'var3': 'info_of_step_4'}\"\n",
    "        ),\n",
    "    ),\n",
    "    (\n",
    "        Message(),\n",
    "        Message(\n",
    "            text=\"ctx.last_label=('flow', 'step_0'): current_node.misc=\"\n",
    "            \"{'var1': 'global_data', 'var2': 'rewrite_by_local', 'var3': 'info_of_step_0'}\"\n",
    "        ),\n",
    "    ),\n",
    ")"
   ]
  },
  {
   "cell_type": "code",
   "execution_count": 5,
   "id": "30e61d6c",
   "metadata": {
    "execution": {
     "iopub.execute_input": "2023-04-07T10:58:43.795243Z",
     "iopub.status.busy": "2023-04-07T10:58:43.794004Z",
     "iopub.status.idle": "2023-04-07T10:58:43.825006Z",
     "shell.execute_reply": "2023-04-07T10:58:43.824469Z"
    },
    "lines_to_next_cell": 2
   },
   "outputs": [
    {
     "name": "stdout",
     "output_type": "stream",
     "text": [
      "(user) >>> \n",
      " (bot) <<< text='ctx.last_label=('flow', 'step_0'): current_node.misc={'var1': 'global_data', 'var2': 'rewrite_by_local', 'var3': 'info_of_step_0'}'\n",
      "(user) >>> \n",
      " (bot) <<< text='ctx.last_label=('flow', 'step_1'): current_node.misc={'var1': 'global_data', 'var2': 'rewrite_by_local', 'var3': 'info_of_step_1'}'\n",
      "(user) >>> \n",
      " (bot) <<< text='ctx.last_label=('flow', 'step_2'): current_node.misc={'var1': 'global_data', 'var2': 'rewrite_by_local', 'var3': 'info_of_step_2'}'\n",
      "(user) >>> \n",
      " (bot) <<< text='ctx.last_label=('flow', 'step_3'): current_node.misc={'var1': 'global_data', 'var2': 'rewrite_by_local', 'var3': 'info_of_step_3'}'\n",
      "(user) >>> \n",
      " (bot) <<< text='ctx.last_label=('flow', 'step_4'): current_node.misc={'var1': 'global_data', 'var2': 'rewrite_by_local', 'var3': 'info_of_step_4'}'\n",
      "(user) >>> \n",
      " (bot) <<< text='ctx.last_label=('flow', 'step_0'): current_node.misc={'var1': 'global_data', 'var2': 'rewrite_by_local', 'var3': 'info_of_step_0'}'\n"
     ]
    }
   ],
   "source": [
    "pipeline = Pipeline.from_script(\n",
    "    toy_script,\n",
    "    start_label=(\"root\", \"start\"),\n",
    "    fallback_label=(\"root\", \"fallback\"),\n",
    ")\n",
    "\n",
    "if __name__ == \"__main__\":\n",
    "    check_happy_path(pipeline, happy_path)\n",
    "    if is_interactive_mode():\n",
    "        run_interactive_mode(pipeline)"
   ]
  }
 ],
 "metadata": {
  "jupytext": {
   "cell_metadata_filter": "-all",
   "main_language": "python",
   "notebook_metadata_filter": "-all",
   "text_representation": {
    "extension": ".py",
    "format_name": "percent"
   }
  },
  "language_info": {
   "codemirror_mode": {
    "name": "ipython",
    "version": 3
   },
   "file_extension": ".py",
   "mimetype": "text/x-python",
   "name": "python",
   "nbconvert_exporter": "python",
   "pygments_lexer": "ipython3",
   "version": "3.9.16"
  }
 },
 "nbformat": 4,
 "nbformat_minor": 5
}
