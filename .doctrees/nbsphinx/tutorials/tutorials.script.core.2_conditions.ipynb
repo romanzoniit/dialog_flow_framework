{
 "cells": [
  {
   "cell_type": "markdown",
   "id": "3ac87dc5",
   "metadata": {
    "cell_marker": "\"\"\""
   },
   "source": [
    "# Core: 2. Conditions\n",
    "\n",
    "This tutorial shows different options for\n",
    "setting transition conditions from one node to another.\n",
    "First of all, let's do all the necessary imports from DFF."
   ]
  },
  {
   "cell_type": "markdown",
   "id": "54fc57fe",
   "metadata": {
    "cell_marker": "\"\"\""
   },
   "source": [
    "__Installing dependencies__"
   ]
  },
  {
   "cell_type": "code",
   "execution_count": 1,
   "id": "87723ff9",
   "metadata": {
    "execution": {
     "iopub.execute_input": "2023-04-07T10:58:20.945316Z",
     "iopub.status.busy": "2023-04-07T10:58:20.944267Z",
     "iopub.status.idle": "2023-04-07T10:58:21.864860Z",
     "shell.execute_reply": "2023-04-07T10:58:21.863754Z"
    },
    "lines_to_next_cell": 2
   },
   "outputs": [
    {
     "name": "stdout",
     "output_type": "stream",
     "text": [
      "\u001b[33mWARNING: dff 0.3.2 does not provide the extra 'tutorials'\u001b[0m\u001b[33m\r\n",
      "\u001b[0m"
     ]
    }
   ],
   "source": [
    "!python3 -m pip install -q dff[tutorials]\n",
    "# Installs dff with dependencies for running tutorials\n",
    "# To install the minimal version of dff, use `pip install dff`\n",
    "# To install other options of dff, use `pip install dff[OPTION_NAME1,OPTION_NAME2]`\n",
    "# where OPTION_NAME can be one of the options from EXTRA_DEPENDENCIES.\n",
    "# e.g `pip install dff[ydb, mysql]` installs dff with dependencies for using Yandex Database and MySQL\n",
    "# EXTRA_DEPENDENCIES can be found in\n",
    "# https://github.com/deeppavlov/dialog_flow_framework/blob/dev/setup.py#L155"
   ]
  },
  {
   "cell_type": "markdown",
   "id": "46e8dc53",
   "metadata": {
    "cell_marker": "\"\"\"",
    "lines_to_next_cell": 2
   },
   "source": [
    "__Running tutorial__"
   ]
  },
  {
   "cell_type": "code",
   "execution_count": 2,
   "id": "d01e718e",
   "metadata": {
    "execution": {
     "iopub.execute_input": "2023-04-07T10:58:21.869978Z",
     "iopub.status.busy": "2023-04-07T10:58:21.869731Z",
     "iopub.status.idle": "2023-04-07T10:58:22.491689Z",
     "shell.execute_reply": "2023-04-07T10:58:22.490991Z"
    }
   },
   "outputs": [],
   "source": [
    "import re\n",
    "\n",
    "from dff.script import Context, TRANSITIONS, RESPONSE, Message\n",
    "import dff.script.conditions as cnd\n",
    "from dff.pipeline import Pipeline\n",
    "\n",
    "from dff.utils.testing.common import (\n",
    "    check_happy_path,\n",
    "    is_interactive_mode,\n",
    "    run_interactive_mode,\n",
    ")"
   ]
  },
  {
   "cell_type": "markdown",
   "id": "473d4790",
   "metadata": {
    "cell_marker": "\"\"\""
   },
   "source": [
    "The transition condition is set by the function.\n",
    "If this function returns the value `True`,\n",
    "then the actor performs the corresponding transition.\n",
    "Actor is responsible for processing user input and determining\n",
    "the appropriate response based on the current state of the conversation and the script.\n",
    "See tutorial 1 of pipeline (pipeline/1_basics) to learn more about Actor.\n",
    "Condition functions have signature\n",
    "\n",
    "    def func(ctx: Context, pipeline: Pipeline, *args, **kwargs) -> bool\n",
    "\n",
    "Out of the box `dff.script.conditions` offers the\n",
    "    following options for setting conditions:\n",
    "\n",
    "* `exact_match` returns `True` if the user's request completely\n",
    "    matches the value passed to the function.\n",
    "* `regexp` returns `True` if the pattern matches the user's request,\n",
    "    while the user's request must be a string.\n",
    "    `regexp` has same signature as `re.compile` function.\n",
    "* `aggregate` returns `bool` value as\n",
    "    a result after aggregate by `aggregate_func`\n",
    "    for input sequence of conditions.\n",
    "    `aggregate_func == any` by default. `aggregate` has alias `agg`.\n",
    "* `any` returns `True` if one element of input sequence of conditions is `True`.\n",
    "    `any(input_sequence)` is equivalent to\n",
    "    `aggregate(input sequence, aggregate_func=any)`.\n",
    "* `all` returns `True` if all elements of input\n",
    "    sequence of conditions are `True`.\n",
    "    `all(input_sequence)` is equivalent to\n",
    "    `aggregate(input sequence, aggregate_func=all)`.\n",
    "* `negation` returns negation of passed function. `negation` has alias `neg`.\n",
    "* `has_last_labels` covered in the following examples.\n",
    "* `true` returns `True`.\n",
    "* `false` returns `False`.\n",
    "\n",
    "For example function\n",
    "```\n",
    "def always_true_condition(ctx: Context, pipeline: Pipeline, *args, **kwargs) -> bool:\n",
    "    return True\n",
    "```\n",
    "always returns `True` and `always_true_condition` function\n",
    "is the same as `dff.script.conditions.std_conditions.true()`.\n",
    "\n",
    "The functions to be used in the `toy_script` are declared here."
   ]
  },
  {
   "cell_type": "code",
   "execution_count": 3,
   "id": "5d3b0eb1",
   "metadata": {
    "execution": {
     "iopub.execute_input": "2023-04-07T10:58:22.495280Z",
     "iopub.status.busy": "2023-04-07T10:58:22.494720Z",
     "iopub.status.idle": "2023-04-07T10:58:22.501602Z",
     "shell.execute_reply": "2023-04-07T10:58:22.500973Z"
    }
   },
   "outputs": [],
   "source": [
    "def hi_lower_case_condition(ctx: Context, _: Pipeline, *args, **kwargs) -> bool:\n",
    "    request = ctx.last_request\n",
    "    # Returns True if `hi` in both uppercase and lowercase\n",
    "    # letters is contained in the user request.\n",
    "    if request is None or request.text is None:\n",
    "        return False\n",
    "    return \"hi\" in request.text.lower()\n",
    "\n",
    "\n",
    "def complex_user_answer_condition(ctx: Context, _: Pipeline, *args, **kwargs) -> bool:\n",
    "    request = ctx.last_request\n",
    "    # The user request can be anything.\n",
    "    if request is None or request.misc is None:\n",
    "        return False\n",
    "    return {\"some_key\": \"some_value\"} == request.misc\n",
    "\n",
    "\n",
    "def predetermined_condition(condition: bool):\n",
    "    # Wrapper for internal condition function.\n",
    "    def internal_condition_function(ctx: Context, _: Pipeline, *args, **kwargs) -> bool:\n",
    "        # It always returns `condition`.\n",
    "        return condition\n",
    "\n",
    "    return internal_condition_function"
   ]
  },
  {
   "cell_type": "code",
   "execution_count": 4,
   "id": "ea775aef",
   "metadata": {
    "execution": {
     "iopub.execute_input": "2023-04-07T10:58:22.504394Z",
     "iopub.status.busy": "2023-04-07T10:58:22.504172Z",
     "iopub.status.idle": "2023-04-07T10:58:22.516328Z",
     "shell.execute_reply": "2023-04-07T10:58:22.515729Z"
    }
   },
   "outputs": [],
   "source": [
    "toy_script = {\n",
    "    \"greeting_flow\": {\n",
    "        \"start_node\": {  # This is the initial node,\n",
    "            # it doesn't contain a `RESPONSE`.\n",
    "            RESPONSE: Message(),\n",
    "            TRANSITIONS: {\"node1\": cnd.exact_match(Message(text=\"Hi\"))},\n",
    "            # If \"Hi\" == request of user then we make the transition\n",
    "        },\n",
    "        \"node1\": {\n",
    "            RESPONSE: Message(text=\"Hi, how are you?\"),\n",
    "            TRANSITIONS: {\"node2\": cnd.regexp(r\".*how are you\", re.IGNORECASE)},\n",
    "            # pattern matching (precompiled)\n",
    "        },\n",
    "        \"node2\": {\n",
    "            RESPONSE: Message(text=\"Good. What do you want to talk about?\"),\n",
    "            TRANSITIONS: {\"node3\": cnd.all([cnd.regexp(r\"talk\"), cnd.regexp(r\"about.*music\")])},\n",
    "            # Mix sequence of conditions by `cnd.all`.\n",
    "            # `all` is alias `aggregate` with\n",
    "            # `aggregate_func` == `all`.\n",
    "        },\n",
    "        \"node3\": {\n",
    "            RESPONSE: Message(text=\"Sorry, I can not talk about music now.\"),\n",
    "            TRANSITIONS: {\"node4\": cnd.regexp(re.compile(r\"Ok, goodbye.\"))},\n",
    "            # pattern matching by precompiled pattern\n",
    "        },\n",
    "        \"node4\": {\n",
    "            RESPONSE: Message(text=\"bye\"),\n",
    "            TRANSITIONS: {\n",
    "                \"node1\": cnd.any([hi_lower_case_condition, cnd.exact_match(Message(text=\"hello\"))])\n",
    "            },\n",
    "            # Mix sequence of conditions by `cnd.any`.\n",
    "            # `any` is alias `aggregate` with\n",
    "            # `aggregate_func` == `any`.\n",
    "        },\n",
    "        \"fallback_node\": {  # We get to this node\n",
    "            # if an error occurred while the agent was running.\n",
    "            RESPONSE: Message(text=\"Ooops\"),\n",
    "            TRANSITIONS: {\n",
    "                \"node1\": complex_user_answer_condition,\n",
    "                # The user request can be more than just a string.\n",
    "                # First we will check returned value of\n",
    "                # `complex_user_answer_condition`.\n",
    "                # If the value is `True` then we will go to `node1`.\n",
    "                # If the value is `False` then we will check a result of\n",
    "                # `predetermined_condition(True)` for `fallback_node`.\n",
    "                \"fallback_node\": predetermined_condition(True),  # or you can use `cnd.true()`\n",
    "                # Last condition function will return\n",
    "                # `true` and will repeat `fallback_node`\n",
    "                # if `complex_user_answer_condition` return `false`.\n",
    "            },\n",
    "        },\n",
    "    }\n",
    "}\n",
    "\n",
    "# testing\n",
    "happy_path = (\n",
    "    (Message(text=\"Hi\"), Message(text=\"Hi, how are you?\")),  # start_node -> node1\n",
    "    (\n",
    "        Message(text=\"i'm fine, how are you?\"),\n",
    "        Message(text=\"Good. What do you want to talk about?\"),\n",
    "    ),  # node1 -> node2\n",
    "    (\n",
    "        Message(text=\"Let's talk about music.\"),\n",
    "        Message(text=\"Sorry, I can not talk about music now.\"),\n",
    "    ),  # node2 -> node3\n",
    "    (Message(text=\"Ok, goodbye.\"), Message(text=\"bye\")),  # node3 -> node4\n",
    "    (Message(text=\"Hi\"), Message(text=\"Hi, how are you?\")),  # node4 -> node1\n",
    "    (Message(text=\"stop\"), Message(text=\"Ooops\")),  # node1 -> fallback_node\n",
    "    (Message(text=\"one\"), Message(text=\"Ooops\")),  # fallback_node -> fallback_node\n",
    "    (Message(text=\"help\"), Message(text=\"Ooops\")),  # fallback_node -> fallback_node\n",
    "    (Message(text=\"nope\"), Message(text=\"Ooops\")),  # fallback_node -> fallback_node\n",
    "    (\n",
    "        Message(misc={\"some_key\": \"some_value\"}),\n",
    "        Message(text=\"Hi, how are you?\"),\n",
    "    ),  # fallback_node -> node1\n",
    "    (\n",
    "        Message(text=\"i'm fine, how are you?\"),\n",
    "        Message(text=\"Good. What do you want to talk about?\"),\n",
    "    ),  # node1 -> node2\n",
    "    (\n",
    "        Message(text=\"Let's talk about music.\"),\n",
    "        Message(text=\"Sorry, I can not talk about music now.\"),\n",
    "    ),  # node2 -> node3\n",
    "    (Message(text=\"Ok, goodbye.\"), Message(text=\"bye\")),  # node3 -> node4\n",
    ")"
   ]
  },
  {
   "cell_type": "code",
   "execution_count": 5,
   "id": "8ef1dee2",
   "metadata": {
    "execution": {
     "iopub.execute_input": "2023-04-07T10:58:22.519481Z",
     "iopub.status.busy": "2023-04-07T10:58:22.519132Z",
     "iopub.status.idle": "2023-04-07T10:58:22.542565Z",
     "shell.execute_reply": "2023-04-07T10:58:22.541939Z"
    },
    "lines_to_next_cell": 2
   },
   "outputs": [
    {
     "name": "stdout",
     "output_type": "stream",
     "text": [
      "(user) >>> text='Hi'\n",
      " (bot) <<< text='Hi, how are you?'\n",
      "(user) >>> text='i'm fine, how are you?'\n",
      " (bot) <<< text='Good. What do you want to talk about?'\n",
      "(user) >>> text='Let's talk about music.'\n",
      " (bot) <<< text='Sorry, I can not talk about music now.'\n",
      "(user) >>> text='Ok, goodbye.'\n",
      " (bot) <<< text='bye'\n",
      "(user) >>> text='Hi'\n",
      " (bot) <<< text='Hi, how are you?'\n",
      "(user) >>> text='stop'\n",
      " (bot) <<< text='Ooops'\n",
      "(user) >>> text='one'\n",
      " (bot) <<< text='Ooops'\n",
      "(user) >>> text='help'\n",
      " (bot) <<< text='Ooops'\n",
      "(user) >>> text='nope'\n",
      " (bot) <<< text='Ooops'\n",
      "(user) >>> misc='{'some_key': 'some_value'}'\n",
      " (bot) <<< text='Hi, how are you?'\n",
      "(user) >>> text='i'm fine, how are you?'\n",
      " (bot) <<< text='Good. What do you want to talk about?'\n",
      "(user) >>> text='Let's talk about music.'\n",
      " (bot) <<< text='Sorry, I can not talk about music now.'\n",
      "(user) >>> text='Ok, goodbye.'\n",
      " (bot) <<< text='bye'\n"
     ]
    }
   ],
   "source": [
    "pipeline = Pipeline.from_script(\n",
    "    toy_script,\n",
    "    start_label=(\"greeting_flow\", \"start_node\"),\n",
    "    fallback_label=(\"greeting_flow\", \"fallback_node\"),\n",
    ")\n",
    "\n",
    "if __name__ == \"__main__\":\n",
    "    check_happy_path(pipeline, happy_path)\n",
    "    if is_interactive_mode():\n",
    "        run_interactive_mode(pipeline)"
   ]
  }
 ],
 "metadata": {
  "jupytext": {
   "cell_metadata_filter": "-all",
   "main_language": "python",
   "notebook_metadata_filter": "-all",
   "text_representation": {
    "extension": ".py",
    "format_name": "percent"
   }
  },
  "language_info": {
   "codemirror_mode": {
    "name": "ipython",
    "version": 3
   },
   "file_extension": ".py",
   "mimetype": "text/x-python",
   "name": "python",
   "nbconvert_exporter": "python",
   "pygments_lexer": "ipython3",
   "version": "3.9.16"
  }
 },
 "nbformat": 4,
 "nbformat_minor": 5
}
