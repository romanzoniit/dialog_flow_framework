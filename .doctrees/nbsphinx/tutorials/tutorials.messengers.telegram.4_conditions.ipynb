{
 "cells": [
  {
   "cell_type": "markdown",
   "id": "676ebb33",
   "metadata": {
    "cell_marker": "\"\"\"",
    "lines_to_next_cell": 2
   },
   "source": [
    "# Telegram: 4. Conditions\n",
    "\n",
    "This tutorial shows how to process Telegram updates in your script\n",
    "and reuse handler triggers from the `pytelegrambotapi` library."
   ]
  },
  {
   "cell_type": "markdown",
   "id": "69e7c1a8",
   "metadata": {
    "cell_marker": "\"\"\""
   },
   "source": [
    "__Installing dependencies__"
   ]
  },
  {
   "cell_type": "code",
   "execution_count": 1,
   "id": "8e6ebd3e",
   "metadata": {
    "execution": {
     "iopub.execute_input": "2023-04-07T10:57:11.435783Z",
     "iopub.status.busy": "2023-04-07T10:57:11.435572Z",
     "iopub.status.idle": "2023-04-07T10:57:12.350645Z",
     "shell.execute_reply": "2023-04-07T10:57:12.349827Z"
    },
    "lines_to_next_cell": 2
   },
   "outputs": [
    {
     "name": "stdout",
     "output_type": "stream",
     "text": [
      "\u001b[33mWARNING: dff 0.3.2 does not provide the extra 'tutorials'\u001b[0m\u001b[33m\r\n",
      "\u001b[0m"
     ]
    }
   ],
   "source": [
    "!python3 -m pip install -q dff[tutorials]\n",
    "# Installs dff with dependencies for running tutorials\n",
    "# To install the minimal version of dff, use `pip install dff`\n",
    "# To install other options of dff, use `pip install dff[OPTION_NAME1,OPTION_NAME2]`\n",
    "# where OPTION_NAME can be one of the options from EXTRA_DEPENDENCIES.\n",
    "# e.g `pip install dff[ydb, mysql]` installs dff with dependencies for using Yandex Database and MySQL\n",
    "# EXTRA_DEPENDENCIES can be found in\n",
    "# https://github.com/deeppavlov/dialog_flow_framework/blob/dev/setup.py#L155"
   ]
  },
  {
   "cell_type": "markdown",
   "id": "dd04826a",
   "metadata": {
    "cell_marker": "\"\"\"",
    "lines_to_next_cell": 2
   },
   "source": [
    "__Running tutorial__"
   ]
  },
  {
   "cell_type": "code",
   "execution_count": 2,
   "id": "a2a7700e",
   "metadata": {
    "execution": {
     "iopub.execute_input": "2023-04-07T10:57:12.354607Z",
     "iopub.status.busy": "2023-04-07T10:57:12.353995Z",
     "iopub.status.idle": "2023-04-07T10:57:13.069131Z",
     "shell.execute_reply": "2023-04-07T10:57:13.068400Z"
    },
    "lines_to_next_cell": 2
   },
   "outputs": [],
   "source": [
    "import os\n",
    "\n",
    "from dff.script import TRANSITIONS, RESPONSE\n",
    "\n",
    "from dff.messengers.telegram import (\n",
    "    PollingTelegramInterface,\n",
    "    telegram_condition,\n",
    "    UpdateType,\n",
    ")\n",
    "from dff.pipeline import Pipeline\n",
    "from dff.messengers.telegram import TelegramMessage\n",
    "from dff.utils.testing.common import is_interactive_mode"
   ]
  },
  {
   "cell_type": "markdown",
   "id": "4bc6009f",
   "metadata": {
    "cell_marker": "\"\"\"",
    "lines_to_next_cell": 2
   },
   "source": [
    "In our Telegram module, we adopted the system of filters\n",
    "available in the `pytelegrambotapi` library.\n",
    "\n",
    "You can use `telegram_condition` to filter text messages from telegram in various ways.\n",
    "\n",
    "- Setting the `update_type` will allow filtering by update type:\n",
    "  if you want the condition to trigger only on updates of the type `edited_message`,\n",
    "  set it to `UpdateType.EDITED_MESSAGE`.\n",
    "  The field defaults to `message`.\n",
    "- Setting the `command` argument will cause the telegram_condition to only react to listed commands.\n",
    "- `func` argument on the other hand allows you to define arbitrary conditions.\n",
    "- `regexp` creates a regular expression filter, etc.\n",
    "\n",
    "Note:\n",
    "It is possible to use `cnd.exact_match` as a condition (as seen in previous tutorials).\n",
    "However, the functionality of that approach is lacking:\n",
    "At this moment only two fields of `Message` are set during update processing:\n",
    "\n",
    "- `text` stores the `text` field of `message` updates\n",
    "- `callback_query` stores the `data` field of `callback_query` updates\n",
    "\n",
    "For more information see tutorial `3_buttons_with_callback.py`."
   ]
  },
  {
   "cell_type": "code",
   "execution_count": 3,
   "id": "a5900001",
   "metadata": {
    "execution": {
     "iopub.execute_input": "2023-04-07T10:57:13.072520Z",
     "iopub.status.busy": "2023-04-07T10:57:13.072149Z",
     "iopub.status.idle": "2023-04-07T10:57:13.080574Z",
     "shell.execute_reply": "2023-04-07T10:57:13.079872Z"
    },
    "lines_to_next_cell": 2
   },
   "outputs": [],
   "source": [
    "script = {\n",
    "    \"greeting_flow\": {\n",
    "        \"start_node\": {\n",
    "            TRANSITIONS: {\"node1\": telegram_condition(commands=[\"start\", \"restart\"])},\n",
    "        },\n",
    "        \"node1\": {\n",
    "            RESPONSE: TelegramMessage(text=\"Hi, how are you?\"),\n",
    "            TRANSITIONS: {\n",
    "                \"node2\": telegram_condition(update_type=UpdateType.MESSAGE, regexp=\"fine\")\n",
    "            },\n",
    "            # this is the same as\n",
    "            # TRANSITIONS: {\"node2\": telegram_condition(regexp=\"fine\")},\n",
    "        },\n",
    "        \"node2\": {\n",
    "            RESPONSE: TelegramMessage(text=\"Good. What do you want to talk about?\"),\n",
    "            TRANSITIONS: {\"node3\": telegram_condition(func=lambda msg: \"music\" in msg.text)},\n",
    "        },\n",
    "        \"node3\": {\n",
    "            RESPONSE: TelegramMessage(text=\"Sorry, I can not talk about music now.\"),\n",
    "            TRANSITIONS: {\"node4\": telegram_condition(update_type=UpdateType.ALL)},\n",
    "            # This condition is true for any type of update\n",
    "        },\n",
    "        \"node4\": {\n",
    "            RESPONSE: TelegramMessage(text=\"bye\"),\n",
    "            TRANSITIONS: {\"node1\": telegram_condition()},\n",
    "            # This condition is true if the last update is of type `message`\n",
    "        },\n",
    "        \"fallback_node\": {\n",
    "            RESPONSE: TelegramMessage(text=\"Ooops\"),\n",
    "            TRANSITIONS: {\"node1\": telegram_condition(commands=[\"start\", \"restart\"])},\n",
    "        },\n",
    "    }\n",
    "}\n",
    "\n",
    "# this variable is only for testing\n",
    "happy_path = (\n",
    "    (TelegramMessage(text=\"/start\"), TelegramMessage(text=\"Hi, how are you?\")),\n",
    "    (\n",
    "        TelegramMessage(text=\"I'm fine\"),\n",
    "        TelegramMessage(text=\"Good. What do you want to talk about?\"),\n",
    "    ),\n",
    "    (\n",
    "        TelegramMessage(text=\"About music\"),\n",
    "        TelegramMessage(text=\"Sorry, I can not talk about music now.\"),\n",
    "    ),\n",
    "    (TelegramMessage(text=\"ok\"), TelegramMessage(text=\"bye\")),\n",
    "    (TelegramMessage(text=\"bye\"), TelegramMessage(text=\"Hi, how are you?\")),\n",
    ")"
   ]
  },
  {
   "cell_type": "code",
   "execution_count": 4,
   "id": "df9b485e",
   "metadata": {
    "execution": {
     "iopub.execute_input": "2023-04-07T10:57:13.083554Z",
     "iopub.status.busy": "2023-04-07T10:57:13.083068Z",
     "iopub.status.idle": "2023-04-07T10:57:13.087027Z",
     "shell.execute_reply": "2023-04-07T10:57:13.086421Z"
    },
    "lines_to_next_cell": 2
   },
   "outputs": [],
   "source": [
    "interface = PollingTelegramInterface(token=os.getenv(\"TG_BOT_TOKEN\", \"\"))"
   ]
  },
  {
   "cell_type": "code",
   "execution_count": 5,
   "id": "476419c1",
   "metadata": {
    "execution": {
     "iopub.execute_input": "2023-04-07T10:57:13.089864Z",
     "iopub.status.busy": "2023-04-07T10:57:13.089534Z",
     "iopub.status.idle": "2023-04-07T10:57:13.097013Z",
     "shell.execute_reply": "2023-04-07T10:57:13.096393Z"
    },
    "lines_to_next_cell": 2
   },
   "outputs": [],
   "source": [
    "pipeline = Pipeline.from_script(\n",
    "    script=script,\n",
    "    start_label=(\"greeting_flow\", \"start_node\"),\n",
    "    fallback_label=(\"greeting_flow\", \"fallback_node\"),\n",
    "    messenger_interface=interface,\n",
    ")\n",
    "\n",
    "\n",
    "def main():\n",
    "    if not os.getenv(\"TG_BOT_TOKEN\"):\n",
    "        print(\"`TG_BOT_TOKEN` variable needs to be set to use TelegramInterface.\")\n",
    "    pipeline.run()\n",
    "\n",
    "\n",
    "if __name__ == \"__main__\" and is_interactive_mode():  # prevent run during doc building\n",
    "    main()"
   ]
  }
 ],
 "metadata": {
  "jupytext": {
   "cell_metadata_filter": "-all",
   "main_language": "python",
   "notebook_metadata_filter": "-all",
   "text_representation": {
    "extension": ".py",
    "format_name": "percent"
   }
  },
  "language_info": {
   "codemirror_mode": {
    "name": "ipython",
    "version": 3
   },
   "file_extension": ".py",
   "mimetype": "text/x-python",
   "name": "python",
   "nbconvert_exporter": "python",
   "pygments_lexer": "ipython3",
   "version": "3.9.16"
  }
 },
 "nbformat": 4,
 "nbformat_minor": 5
}
