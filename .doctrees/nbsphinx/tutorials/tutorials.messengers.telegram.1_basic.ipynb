{
 "cells": [
  {
   "cell_type": "markdown",
   "id": "899673f0",
   "metadata": {
    "cell_marker": "\"\"\""
   },
   "source": [
    "# Telegram: 1. Basic\n",
    "\n",
    "The following tutorial shows how to run a regular DFF script in Telegram.\n",
    "It asks users for the '/start' command and then loops in one place."
   ]
  },
  {
   "cell_type": "markdown",
   "id": "90f5e569",
   "metadata": {
    "cell_marker": "\"\"\""
   },
   "source": [
    "__Installing dependencies__"
   ]
  },
  {
   "cell_type": "code",
   "execution_count": 1,
   "id": "b1704b76",
   "metadata": {
    "execution": {
     "iopub.execute_input": "2023-04-07T10:57:00.863734Z",
     "iopub.status.busy": "2023-04-07T10:57:00.862606Z",
     "iopub.status.idle": "2023-04-07T10:57:01.797429Z",
     "shell.execute_reply": "2023-04-07T10:57:01.796602Z"
    },
    "lines_to_next_cell": 2
   },
   "outputs": [
    {
     "name": "stdout",
     "output_type": "stream",
     "text": [
      "\u001b[33mWARNING: dff 0.3.2 does not provide the extra 'tutorials'\u001b[0m\u001b[33m\r\n",
      "\u001b[0m"
     ]
    }
   ],
   "source": [
    "!python3 -m pip install -q dff[tutorials]\n",
    "# Installs dff with dependencies for running tutorials\n",
    "# To install the minimal version of dff, use `pip install dff`\n",
    "# To install other options of dff, use `pip install dff[OPTION_NAME1,OPTION_NAME2]`\n",
    "# where OPTION_NAME can be one of the options from EXTRA_DEPENDENCIES.\n",
    "# e.g `pip install dff[ydb, mysql]` installs dff with dependencies for using Yandex Database and MySQL\n",
    "# EXTRA_DEPENDENCIES can be found in\n",
    "# https://github.com/deeppavlov/dialog_flow_framework/blob/dev/setup.py#L155"
   ]
  },
  {
   "cell_type": "markdown",
   "id": "7e9aacce",
   "metadata": {
    "cell_marker": "\"\"\"",
    "lines_to_next_cell": 2
   },
   "source": [
    "__Running tutorial__"
   ]
  },
  {
   "cell_type": "code",
   "execution_count": 2,
   "id": "54c37d37",
   "metadata": {
    "execution": {
     "iopub.execute_input": "2023-04-07T10:57:01.801022Z",
     "iopub.status.busy": "2023-04-07T10:57:01.800521Z",
     "iopub.status.idle": "2023-04-07T10:57:02.517672Z",
     "shell.execute_reply": "2023-04-07T10:57:02.516941Z"
    },
    "lines_to_next_cell": 2
   },
   "outputs": [],
   "source": [
    "import os\n",
    "\n",
    "from dff.script import conditions as cnd\n",
    "from dff.script import labels as lbl\n",
    "from dff.script import RESPONSE, TRANSITIONS, Message\n",
    "from dff.messengers.telegram import PollingTelegramInterface\n",
    "from dff.pipeline import Pipeline\n",
    "from dff.utils.testing.common import is_interactive_mode"
   ]
  },
  {
   "cell_type": "markdown",
   "id": "fcb3cccf",
   "metadata": {
    "cell_marker": "\"\"\"",
    "lines_to_next_cell": 2
   },
   "source": [
    "In order to integrate your script with Telegram, you need an instance of\n",
    "`TelegramMessenger` class and one of the following interfaces:\n",
    "`PollingMessengerInterface` or `WebhookMessengerInterface`.\n",
    "\n",
    "`TelegramMessenger` encapsulates the bot logic.\n",
    "Like Telebot, `TelegramMessenger` only requires a token to run.\n",
    "However, all parameters from the Telebot class can be passed as keyword arguments.\n",
    "\n",
    "The two interfaces connect the bot to Telegram. They can be passed directly\n",
    "to the DFF `Pipeline` instance."
   ]
  },
  {
   "cell_type": "code",
   "execution_count": 3,
   "id": "fc199bc8",
   "metadata": {
    "execution": {
     "iopub.execute_input": "2023-04-07T10:57:02.521148Z",
     "iopub.status.busy": "2023-04-07T10:57:02.520644Z",
     "iopub.status.idle": "2023-04-07T10:57:02.527459Z",
     "shell.execute_reply": "2023-04-07T10:57:02.526839Z"
    },
    "lines_to_next_cell": 2
   },
   "outputs": [],
   "source": [
    "script = {\n",
    "    \"greeting_flow\": {\n",
    "        \"start_node\": {\n",
    "            TRANSITIONS: {\"greeting_node\": cnd.exact_match(Message(text=\"/start\"))},\n",
    "        },\n",
    "        \"greeting_node\": {\n",
    "            RESPONSE: Message(text=\"Hi\"),\n",
    "            TRANSITIONS: {lbl.repeat(): cnd.true()},\n",
    "        },\n",
    "        \"fallback_node\": {\n",
    "            RESPONSE: Message(text=\"Please, repeat the request\"),\n",
    "            TRANSITIONS: {\"greeting_node\": cnd.exact_match(Message(text=\"/start\"))},\n",
    "        },\n",
    "    }\n",
    "}\n",
    "\n",
    "# this variable is only for testing\n",
    "happy_path = (\n",
    "    (Message(text=\"/start\"), Message(text=\"Hi\")),\n",
    "    (Message(text=\"Hi\"), Message(text=\"Hi\")),\n",
    "    (Message(text=\"Bye\"), Message(text=\"Hi\")),\n",
    ")"
   ]
  },
  {
   "cell_type": "code",
   "execution_count": 4,
   "id": "eb31a804",
   "metadata": {
    "execution": {
     "iopub.execute_input": "2023-04-07T10:57:02.529940Z",
     "iopub.status.busy": "2023-04-07T10:57:02.529736Z",
     "iopub.status.idle": "2023-04-07T10:57:02.533695Z",
     "shell.execute_reply": "2023-04-07T10:57:02.533093Z"
    },
    "lines_to_next_cell": 2
   },
   "outputs": [],
   "source": [
    "interface = PollingTelegramInterface(token=os.getenv(\"TG_BOT_TOKEN\", \"\"))"
   ]
  },
  {
   "cell_type": "code",
   "execution_count": 5,
   "id": "cb0f4110",
   "metadata": {
    "execution": {
     "iopub.execute_input": "2023-04-07T10:57:02.536313Z",
     "iopub.status.busy": "2023-04-07T10:57:02.535982Z",
     "iopub.status.idle": "2023-04-07T10:57:02.542630Z",
     "shell.execute_reply": "2023-04-07T10:57:02.542008Z"
    },
    "lines_to_next_cell": 2
   },
   "outputs": [],
   "source": [
    "pipeline = Pipeline.from_script(\n",
    "    script=script,\n",
    "    start_label=(\"greeting_flow\", \"start_node\"),\n",
    "    fallback_label=(\"greeting_flow\", \"fallback_node\"),\n",
    "    messenger_interface=interface,  # The interface can be passed as a pipeline argument.\n",
    ")\n",
    "\n",
    "\n",
    "def main():\n",
    "    if not os.getenv(\"TG_BOT_TOKEN\"):\n",
    "        print(\"`TG_BOT_TOKEN` variable needs to be set to use TelegramInterface.\")\n",
    "    pipeline.run()\n",
    "\n",
    "\n",
    "if __name__ == \"__main__\" and is_interactive_mode():  # prevent run during doc building\n",
    "    main()"
   ]
  }
 ],
 "metadata": {
  "jupytext": {
   "cell_metadata_filter": "-all",
   "main_language": "python",
   "notebook_metadata_filter": "-all",
   "text_representation": {
    "extension": ".py",
    "format_name": "percent"
   }
  },
  "language_info": {
   "codemirror_mode": {
    "name": "ipython",
    "version": 3
   },
   "file_extension": ".py",
   "mimetype": "text/x-python",
   "name": "python",
   "nbconvert_exporter": "python",
   "pygments_lexer": "ipython3",
   "version": "3.9.16"
  }
 },
 "nbformat": 4,
 "nbformat_minor": 5
}
