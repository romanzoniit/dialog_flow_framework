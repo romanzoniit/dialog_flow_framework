{
 "cells": [
  {
   "cell_type": "markdown",
   "id": "df4aece4",
   "metadata": {
    "cell_marker": "\"\"\""
   },
   "source": [
    "# 5. Asynchronous groups and services (full)\n",
    "\n",
    "The following tutorial shows `pipeline`\n",
    "asynchronous service and service group usage."
   ]
  },
  {
   "cell_type": "markdown",
   "id": "d6bc4a32",
   "metadata": {
    "cell_marker": "\"\"\""
   },
   "source": [
    "__Installing dependencies__"
   ]
  },
  {
   "cell_type": "code",
   "execution_count": 1,
   "id": "5dad8cfc",
   "metadata": {
    "execution": {
     "iopub.execute_input": "2023-04-07T10:57:54.055328Z",
     "iopub.status.busy": "2023-04-07T10:57:54.054638Z",
     "iopub.status.idle": "2023-04-07T10:57:54.981701Z",
     "shell.execute_reply": "2023-04-07T10:57:54.980876Z"
    },
    "lines_to_next_cell": 2
   },
   "outputs": [
    {
     "name": "stdout",
     "output_type": "stream",
     "text": [
      "\u001b[33mWARNING: dff 0.3.2 does not provide the extra 'tutorials'\u001b[0m\u001b[33m\r\n",
      "\u001b[0m"
     ]
    }
   ],
   "source": [
    "!python3 -m pip install -q dff[tutorials]\n",
    "# Installs dff with dependencies for running tutorials\n",
    "# To install the minimal version of dff, use `pip install dff`\n",
    "# To install other options of dff, use `pip install dff[OPTION_NAME1,OPTION_NAME2]`\n",
    "# where OPTION_NAME can be one of the options from EXTRA_DEPENDENCIES.\n",
    "# e.g `pip install dff[ydb, mysql]` installs dff with dependencies for using Yandex Database and MySQL\n",
    "# EXTRA_DEPENDENCIES can be found in\n",
    "# https://github.com/deeppavlov/dialog_flow_framework/blob/dev/setup.py#L155"
   ]
  },
  {
   "cell_type": "markdown",
   "id": "6776a3ef",
   "metadata": {
    "cell_marker": "\"\"\"",
    "lines_to_next_cell": 2
   },
   "source": [
    "__Running tutorial__"
   ]
  },
  {
   "cell_type": "code",
   "execution_count": 2,
   "id": "8872144c",
   "metadata": {
    "execution": {
     "iopub.execute_input": "2023-04-07T10:57:54.985548Z",
     "iopub.status.busy": "2023-04-07T10:57:54.984982Z",
     "iopub.status.idle": "2023-04-07T10:57:55.622714Z",
     "shell.execute_reply": "2023-04-07T10:57:55.621950Z"
    }
   },
   "outputs": [],
   "source": [
    "import asyncio\n",
    "import json\n",
    "import logging\n",
    "import urllib.request\n",
    "\n",
    "from dff.script import Context\n",
    "\n",
    "from dff.pipeline import ServiceGroup, Pipeline, ServiceRuntimeInfo, ACTOR\n",
    "\n",
    "from dff.utils.testing.common import (\n",
    "    check_happy_path,\n",
    "    is_interactive_mode,\n",
    "    run_interactive_mode,\n",
    ")\n",
    "from dff.utils.testing.toy_script import HAPPY_PATH, TOY_SCRIPT\n",
    "\n",
    "logger = logging.getLogger(__name__)"
   ]
  },
  {
   "cell_type": "markdown",
   "id": "e89c726b",
   "metadata": {
    "cell_marker": "\"\"\"",
    "lines_to_next_cell": 2
   },
   "source": [
    "Services and service groups can be synchronous and asynchronous.\n",
    "In synchronous service groups services are executed consequently,\n",
    "    some of them (`ACTOR`) can even return `Context` object,\n",
    "    modifying it.\n",
    "In asynchronous service groups all services\n",
    "    are executed simultaneously and should not return anything,\n",
    "    neither modify Context.\n",
    "\n",
    "To become asynchronous service or service group\n",
    "    should _be able_ to be asynchronous\n",
    "    and should not be marked synchronous.\n",
    "Service can be asynchronous if its handler is an async function.\n",
    "Service group can be asynchronous if all services\n",
    "and service groups inside it are asynchronous.\n",
    "If service or service group can be asynchronous\n",
    "the `asynchronous` constructor parameter is checked.\n",
    "If the parameter is not set,\n",
    "the service becomes asynchronous, and if set, it is used instead.\n",
    "If service can not be asynchronous,\n",
    "but is marked asynchronous, an exception is thrown.\n",
    "NB! ACTOR service is always synchronous.\n",
    "\n",
    "The timeout field only works for asynchronous services and service groups.\n",
    "If service execution takes more time than timeout,\n",
    "it is aborted and marked as failed.\n",
    "\n",
    "Pipeline `optimization_warnings` argument can be used to\n",
    "    display optimization warnings during pipeline construction.\n",
    "Generally for optimization purposes asynchronous\n",
    "    services should be combined into asynchronous\n",
    "    groups to run simultaneously.\n",
    "Synchronous services should be expelled from (mostly) asynchronous groups.\n",
    "\n",
    "Here service group `balanced_group` can be asynchronous,\n",
    "    however it is requested to be synchronous,\n",
    "    so its services are executed consequently.\n",
    "Service group `service_group_0` is asynchronous,\n",
    "    it doesn't run out of timeout of 0.02 seconds,\n",
    "    however contains 6 time consuming services,\n",
    "    each of them sleeps for 0.01 of a second.\n",
    "Service group `service_group_1` is also asynchronous,\n",
    "it logs HTTPS requests (from 1 to 15),\n",
    "    running simultaneously, in random order.\n",
    "Service group `pipeline` can't be asynchronous because\n",
    "`balanced_group` and ACTOR are synchronous."
   ]
  },
  {
   "cell_type": "code",
   "execution_count": 3,
   "id": "a9ba3b04",
   "metadata": {
    "execution": {
     "iopub.execute_input": "2023-04-07T10:57:55.626309Z",
     "iopub.status.busy": "2023-04-07T10:57:55.625662Z",
     "iopub.status.idle": "2023-04-07T10:57:55.633229Z",
     "shell.execute_reply": "2023-04-07T10:57:55.632619Z"
    }
   },
   "outputs": [],
   "source": [
    "async def simple_asynchronous_service(_, __, info: ServiceRuntimeInfo):\n",
    "    logger.info(f\"Service '{info['name']}' is running\")\n",
    "\n",
    "\n",
    "async def time_consuming_service(_):\n",
    "    await asyncio.sleep(0.01)\n",
    "\n",
    "\n",
    "def meta_web_querying_service(\n",
    "    photo_number: int,\n",
    "):  # This function returns services, a service factory\n",
    "    async def web_querying_service(ctx: Context, _, info: ServiceRuntimeInfo):\n",
    "        if ctx.misc.get(\"web_query\", None) is None:\n",
    "            ctx.misc[\"web_query\"] = {}\n",
    "        with urllib.request.urlopen(\n",
    "            f\"https://jsonplaceholder.typicode.com/photos/{photo_number}\"\n",
    "        ) as webpage:\n",
    "            web_content = webpage.read().decode(webpage.headers.get_content_charset())\n",
    "            ctx.misc[\"web_query\"].update(\n",
    "                {\n",
    "                    f\"{ctx.last_request}\"\n",
    "                    f\":photo_number_{photo_number}\": json.loads(web_content)[\"title\"]\n",
    "                }\n",
    "            )\n",
    "        logger.info(f\"Service '{info['name']}' has completed HTTPS request\")\n",
    "\n",
    "    return web_querying_service\n",
    "\n",
    "\n",
    "def context_printing_service(ctx: Context):\n",
    "    logger.info(f\"Context misc: {json.dumps(ctx.misc, indent=4, default=str)}\")"
   ]
  },
  {
   "cell_type": "code",
   "execution_count": 4,
   "id": "7b626aee",
   "metadata": {
    "execution": {
     "iopub.execute_input": "2023-04-07T10:57:55.635647Z",
     "iopub.status.busy": "2023-04-07T10:57:55.635445Z",
     "iopub.status.idle": "2023-04-07T10:57:55.641367Z",
     "shell.execute_reply": "2023-04-07T10:57:55.640750Z"
    }
   },
   "outputs": [],
   "source": [
    "pipeline_dict = {\n",
    "    \"script\": TOY_SCRIPT,\n",
    "    \"start_label\": (\"greeting_flow\", \"start_node\"),\n",
    "    \"fallback_label\": (\"greeting_flow\", \"fallback_node\"),\n",
    "    \"optimization_warnings\": True,\n",
    "    # There are no warnings - pipeline is well-optimized\n",
    "    \"components\": [\n",
    "        ServiceGroup(\n",
    "            name=\"balanced_group\",\n",
    "            asynchronous=False,\n",
    "            components=[\n",
    "                simple_asynchronous_service,\n",
    "                ServiceGroup(\n",
    "                    timeout=0.02,\n",
    "                    components=[time_consuming_service for _ in range(0, 6)],\n",
    "                ),\n",
    "                simple_asynchronous_service,\n",
    "            ],\n",
    "        ),\n",
    "        ACTOR,\n",
    "        [meta_web_querying_service(photo) for photo in range(1, 16)],\n",
    "        context_printing_service,\n",
    "    ],\n",
    "}"
   ]
  },
  {
   "cell_type": "code",
   "execution_count": 5,
   "id": "5a298490",
   "metadata": {
    "execution": {
     "iopub.execute_input": "2023-04-07T10:57:55.643831Z",
     "iopub.status.busy": "2023-04-07T10:57:55.643502Z",
     "iopub.status.idle": "2023-04-07T10:58:00.668285Z",
     "shell.execute_reply": "2023-04-07T10:58:00.667571Z"
    },
    "lines_to_next_cell": 2
   },
   "outputs": [
    {
     "name": "stdout",
     "output_type": "stream",
     "text": [
      "(user) >>> text='Hi'\n",
      " (bot) <<< text='Hi, how are you?'\n"
     ]
    },
    {
     "name": "stdout",
     "output_type": "stream",
     "text": [
      "(user) >>> text='i'm fine, how are you?'\n",
      " (bot) <<< text='Good. What do you want to talk about?'\n"
     ]
    },
    {
     "name": "stdout",
     "output_type": "stream",
     "text": [
      "(user) >>> text='Let's talk about music.'\n",
      " (bot) <<< text='Sorry, I can not talk about music now.'\n"
     ]
    },
    {
     "name": "stdout",
     "output_type": "stream",
     "text": [
      "(user) >>> text='Ok, goodbye.'\n",
      " (bot) <<< text='bye'\n"
     ]
    },
    {
     "name": "stdout",
     "output_type": "stream",
     "text": [
      "(user) >>> text='Hi'\n",
      " (bot) <<< text='Hi, how are you?'\n"
     ]
    }
   ],
   "source": [
    "pipeline = Pipeline.from_dict(pipeline_dict)\n",
    "\n",
    "if __name__ == \"__main__\":\n",
    "    check_happy_path(pipeline, HAPPY_PATH)\n",
    "    if is_interactive_mode():\n",
    "        run_interactive_mode(pipeline)"
   ]
  }
 ],
 "metadata": {
  "jupytext": {
   "cell_metadata_filter": "-all",
   "main_language": "python",
   "notebook_metadata_filter": "-all",
   "text_representation": {
    "extension": ".py",
    "format_name": "percent"
   }
  },
  "language_info": {
   "codemirror_mode": {
    "name": "ipython",
    "version": 3
   },
   "file_extension": ".py",
   "mimetype": "text/x-python",
   "name": "python",
   "nbconvert_exporter": "python",
   "pygments_lexer": "ipython3",
   "version": "3.9.16"
  }
 },
 "nbformat": 4,
 "nbformat_minor": 5
}
