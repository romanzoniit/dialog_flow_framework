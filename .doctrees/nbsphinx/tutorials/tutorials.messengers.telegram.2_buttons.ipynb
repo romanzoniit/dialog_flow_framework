{
 "cells": [
  {
   "cell_type": "markdown",
   "id": "a72a7403",
   "metadata": {
    "cell_marker": "\"\"\"",
    "lines_to_next_cell": 2
   },
   "source": [
    "# Telegram: 2. Buttons\n",
    "\n",
    "\n",
    "This tutorial shows how to display and hide a basic keyboard in Telegram."
   ]
  },
  {
   "cell_type": "markdown",
   "id": "2f1e7711",
   "metadata": {
    "cell_marker": "\"\"\""
   },
   "source": [
    "__Installing dependencies__"
   ]
  },
  {
   "cell_type": "code",
   "execution_count": 1,
   "id": "fdcacb9e",
   "metadata": {
    "execution": {
     "iopub.execute_input": "2023-04-07T10:57:04.286175Z",
     "iopub.status.busy": "2023-04-07T10:57:04.285930Z",
     "iopub.status.idle": "2023-04-07T10:57:05.223611Z",
     "shell.execute_reply": "2023-04-07T10:57:05.222732Z"
    },
    "lines_to_next_cell": 2
   },
   "outputs": [
    {
     "name": "stdout",
     "output_type": "stream",
     "text": [
      "\u001b[33mWARNING: dff 0.3.2 does not provide the extra 'tutorials'\u001b[0m\u001b[33m\r\n",
      "\u001b[0m"
     ]
    }
   ],
   "source": [
    "!python3 -m pip install -q dff[tutorials]\n",
    "# Installs dff with dependencies for running tutorials\n",
    "# To install the minimal version of dff, use `pip install dff`\n",
    "# To install other options of dff, use `pip install dff[OPTION_NAME1,OPTION_NAME2]`\n",
    "# where OPTION_NAME can be one of the options from EXTRA_DEPENDENCIES.\n",
    "# e.g `pip install dff[ydb, mysql]` installs dff with dependencies for using Yandex Database and MySQL\n",
    "# EXTRA_DEPENDENCIES can be found in\n",
    "# https://github.com/deeppavlov/dialog_flow_framework/blob/dev/setup.py#L155"
   ]
  },
  {
   "cell_type": "markdown",
   "id": "dd78d403",
   "metadata": {
    "cell_marker": "\"\"\"",
    "lines_to_next_cell": 2
   },
   "source": [
    "__Running tutorial__"
   ]
  },
  {
   "cell_type": "code",
   "execution_count": 2,
   "id": "5890ddce",
   "metadata": {
    "execution": {
     "iopub.execute_input": "2023-04-07T10:57:05.227196Z",
     "iopub.status.busy": "2023-04-07T10:57:05.226716Z",
     "iopub.status.idle": "2023-04-07T10:57:05.954698Z",
     "shell.execute_reply": "2023-04-07T10:57:05.954040Z"
    },
    "lines_to_next_cell": 2
   },
   "outputs": [],
   "source": [
    "import os\n",
    "\n",
    "import dff.script.conditions as cnd\n",
    "from dff.script import TRANSITIONS, RESPONSE\n",
    "from dff.script.core.message import Button\n",
    "from dff.pipeline import Pipeline\n",
    "from dff.messengers.telegram import (\n",
    "    PollingTelegramInterface,\n",
    "    TelegramUI,\n",
    "    TelegramMessage,\n",
    "    RemoveKeyboard,\n",
    ")\n",
    "from dff.utils.testing.common import is_interactive_mode"
   ]
  },
  {
   "cell_type": "markdown",
   "id": "6033f999",
   "metadata": {
    "cell_marker": "\"\"\"",
    "lines_to_next_cell": 2
   },
   "source": [
    "To display or hide a keyboard, you can utilize the `ui` field of the `TelegramMessage` class.\n",
    "It can be initialized either with a `TelegramUI` instance or with a custom telebot keyboard.\n",
    "\n",
    "Passing an instance of `RemoveKeyboard` to the `ui` field will indicate that the keyboard\n",
    "should be removed."
   ]
  },
  {
   "cell_type": "code",
   "execution_count": 3,
   "id": "9494ee75",
   "metadata": {
    "execution": {
     "iopub.execute_input": "2023-04-07T10:57:05.958336Z",
     "iopub.status.busy": "2023-04-07T10:57:05.957976Z",
     "iopub.status.idle": "2023-04-07T10:57:05.971190Z",
     "shell.execute_reply": "2023-04-07T10:57:05.970607Z"
    },
    "lines_to_next_cell": 2
   },
   "outputs": [],
   "source": [
    "script = {\n",
    "    \"root\": {\n",
    "        \"start\": {\n",
    "            TRANSITIONS: {\n",
    "                (\"general\", \"native_keyboard\"): (\n",
    "                    lambda ctx, _: ctx.last_request.text in (\"/start\", \"/restart\")\n",
    "                ),\n",
    "            },\n",
    "        },\n",
    "        \"fallback\": {\n",
    "            RESPONSE: TelegramMessage(text=\"Finishing test, send /restart command to restart\"),\n",
    "            TRANSITIONS: {\n",
    "                (\"general\", \"native_keyboard\"): (\n",
    "                    lambda ctx, _: ctx.last_request.text in (\"/start\", \"/restart\")\n",
    "                ),\n",
    "            },\n",
    "        },\n",
    "    },\n",
    "    \"general\": {\n",
    "        \"native_keyboard\": {\n",
    "            RESPONSE: TelegramMessage(\n",
    "                text=\"Question: What's 2 + 2?\",\n",
    "                # In this case, we use telegram-specific classes.\n",
    "                # They derive from the generic ones and include more options,\n",
    "                # e.g. simple keyboard or inline keyboard.\n",
    "                ui=TelegramUI(\n",
    "                    buttons=[\n",
    "                        Button(text=\"5\"),\n",
    "                        Button(text=\"4\"),\n",
    "                    ],\n",
    "                    is_inline=False,\n",
    "                    row_width=4,\n",
    "                ),\n",
    "            ),\n",
    "            TRANSITIONS: {\n",
    "                (\"general\", \"success\"): cnd.exact_match(TelegramMessage(text=\"4\")),\n",
    "                (\"general\", \"fail\"): cnd.true(),\n",
    "            },\n",
    "        },\n",
    "        \"success\": {\n",
    "            RESPONSE: TelegramMessage(**{\"text\": \"Success!\", \"ui\": RemoveKeyboard()}),\n",
    "            TRANSITIONS: {(\"root\", \"fallback\"): cnd.true()},\n",
    "        },\n",
    "        \"fail\": {\n",
    "            RESPONSE: TelegramMessage(\n",
    "                **{\n",
    "                    \"text\": \"Incorrect answer, type anything to try again\",\n",
    "                    \"ui\": RemoveKeyboard(),\n",
    "                }\n",
    "            ),\n",
    "            TRANSITIONS: {(\"general\", \"native_keyboard\"): cnd.true()},\n",
    "        },\n",
    "    },\n",
    "}\n",
    "\n",
    "interface = PollingTelegramInterface(token=os.getenv(\"TG_BOT_TOKEN\", \"\"))\n",
    "\n",
    "# this variable is only for testing\n",
    "happy_path = (\n",
    "    (\n",
    "        TelegramMessage(text=\"/start\"),\n",
    "        TelegramMessage(\n",
    "            text=\"Question: What's 2 + 2?\",\n",
    "            ui=TelegramUI(\n",
    "                buttons=[\n",
    "                    Button(text=\"5\"),\n",
    "                    Button(text=\"4\"),\n",
    "                ],\n",
    "                is_inline=False,\n",
    "                row_width=4,\n",
    "            ),\n",
    "        ),\n",
    "    ),\n",
    "    (\n",
    "        TelegramMessage(text=\"5\"),\n",
    "        TelegramMessage(text=\"Incorrect answer, type anything to try again\", ui=RemoveKeyboard()),\n",
    "    ),\n",
    "    (\n",
    "        TelegramMessage(text=\"ok\"),\n",
    "        TelegramMessage(\n",
    "            text=\"Question: What's 2 + 2?\",\n",
    "            ui=TelegramUI(\n",
    "                buttons=[\n",
    "                    Button(text=\"5\"),\n",
    "                    Button(text=\"4\"),\n",
    "                ],\n",
    "                is_inline=False,\n",
    "                row_width=4,\n",
    "            ),\n",
    "        ),\n",
    "    ),\n",
    "    (TelegramMessage(text=\"4\"), TelegramMessage(text=\"Success!\", ui=RemoveKeyboard())),\n",
    "    (\n",
    "        TelegramMessage(text=\"Yay!\"),\n",
    "        TelegramMessage(text=\"Finishing test, send /restart command to restart\"),\n",
    "    ),\n",
    "    (\n",
    "        TelegramMessage(text=\"/start\"),\n",
    "        TelegramMessage(\n",
    "            text=\"Question: What's 2 + 2?\",\n",
    "            ui=TelegramUI(\n",
    "                buttons=[\n",
    "                    Button(text=\"5\"),\n",
    "                    Button(text=\"4\"),\n",
    "                ],\n",
    "                is_inline=False,\n",
    "                row_width=4,\n",
    "            ),\n",
    "        ),\n",
    "    ),\n",
    ")"
   ]
  },
  {
   "cell_type": "code",
   "execution_count": 4,
   "id": "2b6c8e28",
   "metadata": {
    "execution": {
     "iopub.execute_input": "2023-04-07T10:57:05.974118Z",
     "iopub.status.busy": "2023-04-07T10:57:05.973564Z",
     "iopub.status.idle": "2023-04-07T10:57:05.980774Z",
     "shell.execute_reply": "2023-04-07T10:57:05.980167Z"
    },
    "lines_to_next_cell": 2
   },
   "outputs": [],
   "source": [
    "pipeline = Pipeline.from_script(\n",
    "    script=script,\n",
    "    start_label=(\"root\", \"start\"),\n",
    "    fallback_label=(\"root\", \"fallback\"),\n",
    "    messenger_interface=interface,\n",
    ")\n",
    "\n",
    "\n",
    "def main():\n",
    "    if not os.getenv(\"TG_BOT_TOKEN\"):\n",
    "        print(\"`TG_BOT_TOKEN` variable needs to be set to use TelegramInterface.\")\n",
    "    pipeline.run()\n",
    "\n",
    "\n",
    "if __name__ == \"__main__\" and is_interactive_mode():  # prevent run during doc building\n",
    "    main()"
   ]
  }
 ],
 "metadata": {
  "jupytext": {
   "cell_metadata_filter": "-all",
   "main_language": "python",
   "notebook_metadata_filter": "-all",
   "text_representation": {
    "extension": ".py",
    "format_name": "percent"
   }
  },
  "language_info": {
   "codemirror_mode": {
    "name": "ipython",
    "version": 3
   },
   "file_extension": ".py",
   "mimetype": "text/x-python",
   "name": "python",
   "nbconvert_exporter": "python",
   "pygments_lexer": "ipython3",
   "version": "3.9.16"
  }
 },
 "nbformat": 4,
 "nbformat_minor": 5
}
