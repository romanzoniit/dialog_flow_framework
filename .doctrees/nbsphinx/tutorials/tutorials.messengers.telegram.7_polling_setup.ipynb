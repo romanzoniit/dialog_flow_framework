{
 "cells": [
  {
   "cell_type": "markdown",
   "id": "b08fa73f",
   "metadata": {
    "cell_marker": "\"\"\""
   },
   "source": [
    "# Telegram: 7. Polling Setup\n",
    "\n",
    "The following tutorial shows how to configure `PollingTelegramInterface`."
   ]
  },
  {
   "cell_type": "markdown",
   "id": "f0e24dc5",
   "metadata": {
    "cell_marker": "\"\"\""
   },
   "source": [
    "__Installing dependencies__"
   ]
  },
  {
   "cell_type": "code",
   "execution_count": 1,
   "id": "1ff3cbb6",
   "metadata": {
    "execution": {
     "iopub.execute_input": "2023-04-07T10:57:22.392375Z",
     "iopub.status.busy": "2023-04-07T10:57:22.392164Z",
     "iopub.status.idle": "2023-04-07T10:57:23.342457Z",
     "shell.execute_reply": "2023-04-07T10:57:23.341644Z"
    },
    "lines_to_next_cell": 2
   },
   "outputs": [
    {
     "name": "stdout",
     "output_type": "stream",
     "text": [
      "\u001b[33mWARNING: dff 0.3.2 does not provide the extra 'tutorials'\u001b[0m\u001b[33m\r\n",
      "\u001b[0m"
     ]
    }
   ],
   "source": [
    "!python3 -m pip install -q dff[tutorials]\n",
    "# Installs dff with dependencies for running tutorials\n",
    "# To install the minimal version of dff, use `pip install dff`\n",
    "# To install other options of dff, use `pip install dff[OPTION_NAME1,OPTION_NAME2]`\n",
    "# where OPTION_NAME can be one of the options from EXTRA_DEPENDENCIES.\n",
    "# e.g `pip install dff[ydb, mysql]` installs dff with dependencies for using Yandex Database and MySQL\n",
    "# EXTRA_DEPENDENCIES can be found in\n",
    "# https://github.com/deeppavlov/dialog_flow_framework/blob/dev/setup.py#L155"
   ]
  },
  {
   "cell_type": "markdown",
   "id": "1af1221d",
   "metadata": {
    "cell_marker": "\"\"\"",
    "lines_to_next_cell": 2
   },
   "source": [
    "__Running tutorial__"
   ]
  },
  {
   "cell_type": "code",
   "execution_count": 2,
   "id": "c005b5e5",
   "metadata": {
    "execution": {
     "iopub.execute_input": "2023-04-07T10:57:23.346410Z",
     "iopub.status.busy": "2023-04-07T10:57:23.345796Z",
     "iopub.status.idle": "2023-04-07T10:57:24.077336Z",
     "shell.execute_reply": "2023-04-07T10:57:24.076681Z"
    },
    "lines_to_next_cell": 2
   },
   "outputs": [],
   "source": [
    "import os\n",
    "\n",
    "from dff.messengers.telegram.interface import PollingTelegramInterface\n",
    "from dff.pipeline import Pipeline\n",
    "\n",
    "from dff.utils.testing.common import is_interactive_mode\n",
    "from dff.utils.testing.toy_script import TOY_SCRIPT, HAPPY_PATH\n",
    "from telebot.util import update_types"
   ]
  },
  {
   "cell_type": "markdown",
   "id": "ad4a6f88",
   "metadata": {
    "cell_marker": "\"\"\"",
    "lines_to_next_cell": 2
   },
   "source": [
    "`PollingTelegramInterface` can be configured with the same parameters\n",
    "that are used in the `pytelegrambotapi` library, specifically:\n",
    "\n",
    "* interval - time between calls to the API.\n",
    "* allowed updates - updates that should be fetched.\n",
    "* timeout - general timeout.\n",
    "* long polling timeout - timeout for polling."
   ]
  },
  {
   "cell_type": "code",
   "execution_count": 3,
   "id": "52fe1fcf",
   "metadata": {
    "execution": {
     "iopub.execute_input": "2023-04-07T10:57:24.081318Z",
     "iopub.status.busy": "2023-04-07T10:57:24.080686Z",
     "iopub.status.idle": "2023-04-07T10:57:24.085434Z",
     "shell.execute_reply": "2023-04-07T10:57:24.084913Z"
    },
    "lines_to_next_cell": 2
   },
   "outputs": [],
   "source": [
    "interface = PollingTelegramInterface(\n",
    "    token=os.getenv(\"TG_BOT_TOKEN\", \"\"),\n",
    "    interval=2,\n",
    "    allowed_updates=update_types,\n",
    "    timeout=30,\n",
    "    long_polling_timeout=30,\n",
    ")\n",
    "\n",
    "\n",
    "# testing\n",
    "happy_path = HAPPY_PATH"
   ]
  },
  {
   "cell_type": "code",
   "execution_count": 4,
   "id": "bc187452",
   "metadata": {
    "execution": {
     "iopub.execute_input": "2023-04-07T10:57:24.088822Z",
     "iopub.status.busy": "2023-04-07T10:57:24.088364Z",
     "iopub.status.idle": "2023-04-07T10:57:24.095175Z",
     "shell.execute_reply": "2023-04-07T10:57:24.094669Z"
    },
    "lines_to_next_cell": 2
   },
   "outputs": [],
   "source": [
    "pipeline = Pipeline.from_script(\n",
    "    script=TOY_SCRIPT,\n",
    "    start_label=(\"greeting_flow\", \"start_node\"),\n",
    "    fallback_label=(\"greeting_flow\", \"fallback_node\"),\n",
    "    messenger_interface=interface,  # The interface can be passed as a pipeline argument.\n",
    ")\n",
    "\n",
    "\n",
    "def main():\n",
    "    if not os.getenv(\"TG_BOT_TOKEN\"):\n",
    "        print(\"`TG_BOT_TOKEN` variable needs to be set to use TelegramInterface.\")\n",
    "    pipeline.run()\n",
    "\n",
    "\n",
    "if __name__ == \"__main__\" and is_interactive_mode():  # prevent run during doc building\n",
    "    main()"
   ]
  }
 ],
 "metadata": {
  "jupytext": {
   "cell_metadata_filter": "-all",
   "main_language": "python",
   "notebook_metadata_filter": "-all",
   "text_representation": {
    "extension": ".py",
    "format_name": "percent"
   }
  },
  "language_info": {
   "codemirror_mode": {
    "name": "ipython",
    "version": 3
   },
   "file_extension": ".py",
   "mimetype": "text/x-python",
   "name": "python",
   "nbconvert_exporter": "python",
   "pygments_lexer": "ipython3",
   "version": "3.9.16"
  }
 },
 "nbformat": 4,
 "nbformat_minor": 5
}
