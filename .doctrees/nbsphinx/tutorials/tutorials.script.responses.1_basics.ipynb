{
 "cells": [
  {
   "cell_type": "markdown",
   "id": "46d2cce5",
   "metadata": {
    "cell_marker": "\"\"\""
   },
   "source": [
    "# Responses: 1. Basics"
   ]
  },
  {
   "cell_type": "markdown",
   "id": "b4688d8c",
   "metadata": {
    "cell_marker": "\"\"\""
   },
   "source": [
    "__Installing dependencies__"
   ]
  },
  {
   "cell_type": "code",
   "execution_count": 1,
   "id": "f53ba59e",
   "metadata": {
    "execution": {
     "iopub.execute_input": "2023-04-07T10:58:49.128267Z",
     "iopub.status.busy": "2023-04-07T10:58:49.127857Z",
     "iopub.status.idle": "2023-04-07T10:58:50.065342Z",
     "shell.execute_reply": "2023-04-07T10:58:50.064487Z"
    },
    "lines_to_next_cell": 2
   },
   "outputs": [
    {
     "name": "stdout",
     "output_type": "stream",
     "text": [
      "\u001b[33mWARNING: dff 0.3.2 does not provide the extra 'tutorials'\u001b[0m\u001b[33m\r\n",
      "\u001b[0m"
     ]
    }
   ],
   "source": [
    "!python3 -m pip install -q dff[tutorials]\n",
    "# Installs dff with dependencies for running tutorials\n",
    "# To install the minimal version of dff, use `pip install dff`\n",
    "# To install other options of dff, use `pip install dff[OPTION_NAME1,OPTION_NAME2]`\n",
    "# where OPTION_NAME can be one of the options from EXTRA_DEPENDENCIES.\n",
    "# e.g `pip install dff[ydb, mysql]` installs dff with dependencies for using Yandex Database and MySQL\n",
    "# EXTRA_DEPENDENCIES can be found in\n",
    "# https://github.com/deeppavlov/dialog_flow_framework/blob/dev/setup.py#L155"
   ]
  },
  {
   "cell_type": "markdown",
   "id": "83b5d853",
   "metadata": {
    "cell_marker": "\"\"\"",
    "lines_to_next_cell": 2
   },
   "source": [
    "__Running tutorial__"
   ]
  },
  {
   "cell_type": "code",
   "execution_count": 2,
   "id": "b29778d1",
   "metadata": {
    "execution": {
     "iopub.execute_input": "2023-04-07T10:58:50.069159Z",
     "iopub.status.busy": "2023-04-07T10:58:50.068522Z",
     "iopub.status.idle": "2023-04-07T10:58:50.694970Z",
     "shell.execute_reply": "2023-04-07T10:58:50.694208Z"
    },
    "lines_to_next_cell": 2
   },
   "outputs": [],
   "source": [
    "from typing import NamedTuple\n",
    "\n",
    "from dff.script import Message\n",
    "from dff.script.conditions import exact_match\n",
    "from dff.script import RESPONSE, TRANSITIONS\n",
    "from dff.pipeline import Pipeline\n",
    "from dff.utils.testing import check_happy_path, is_interactive_mode, run_interactive_mode"
   ]
  },
  {
   "cell_type": "code",
   "execution_count": 3,
   "id": "aecc6803",
   "metadata": {
    "execution": {
     "iopub.execute_input": "2023-04-07T10:58:50.698295Z",
     "iopub.status.busy": "2023-04-07T10:58:50.697702Z",
     "iopub.status.idle": "2023-04-07T10:58:50.707912Z",
     "shell.execute_reply": "2023-04-07T10:58:50.707251Z"
    }
   },
   "outputs": [],
   "source": [
    "toy_script = {\n",
    "    \"greeting_flow\": {\n",
    "        \"start_node\": {\n",
    "            RESPONSE: Message(text=\"\"),\n",
    "            TRANSITIONS: {\"node1\": exact_match(Message(text=\"Hi\"))},\n",
    "        },\n",
    "        \"node1\": {\n",
    "            RESPONSE: Message(text=\"Hi, how are you?\"),\n",
    "            TRANSITIONS: {\"node2\": exact_match(Message(text=\"i'm fine, how are you?\"))},\n",
    "        },\n",
    "        \"node2\": {\n",
    "            RESPONSE: Message(text=\"Good. What do you want to talk about?\"),\n",
    "            TRANSITIONS: {\"node3\": exact_match(Message(text=\"Let's talk about music.\"))},\n",
    "        },\n",
    "        \"node3\": {\n",
    "            RESPONSE: Message(text=\"Sorry, I can not talk about music now.\"),\n",
    "            TRANSITIONS: {\"node4\": exact_match(Message(text=\"Ok, goodbye.\"))},\n",
    "        },\n",
    "        \"node4\": {\n",
    "            RESPONSE: Message(text=\"bye\"),\n",
    "            TRANSITIONS: {\"node1\": exact_match(Message(text=\"Hi\"))},\n",
    "        },\n",
    "        \"fallback_node\": {\n",
    "            RESPONSE: Message(text=\"Ooops\"),\n",
    "            TRANSITIONS: {\"node1\": exact_match(Message(text=\"Hi\"))},\n",
    "        },\n",
    "    }\n",
    "}\n",
    "\n",
    "happy_path = (\n",
    "    (Message(text=\"Hi\"), Message(text=\"Hi, how are you?\")),\n",
    "    (Message(text=\"i'm fine, how are you?\"), Message(text=\"Good. What do you want to talk about?\")),\n",
    "    (\n",
    "        Message(text=\"Let's talk about music.\"),\n",
    "        Message(text=\"Sorry, I can not talk about music now.\"),\n",
    "    ),\n",
    "    (Message(text=\"Ok, goodbye.\"), Message(text=\"bye\")),\n",
    "    (Message(text=\"Hi\"), Message(text=\"Hi, how are you?\")),\n",
    "    (Message(text=\"stop\"), Message(text=\"Ooops\")),\n",
    "    (Message(text=\"stop\"), Message(text=\"Ooops\")),\n",
    "    (Message(text=\"Hi\"), Message(text=\"Hi, how are you?\")),\n",
    "    (Message(text=\"i'm fine, how are you?\"), Message(text=\"Good. What do you want to talk about?\")),\n",
    "    (\n",
    "        Message(text=\"Let's talk about music.\"),\n",
    "        Message(text=\"Sorry, I can not talk about music now.\"),\n",
    "    ),\n",
    "    (Message(text=\"Ok, goodbye.\"), Message(text=\"bye\")),\n",
    ")"
   ]
  },
  {
   "cell_type": "code",
   "execution_count": 4,
   "id": "99a227b5",
   "metadata": {
    "execution": {
     "iopub.execute_input": "2023-04-07T10:58:50.710722Z",
     "iopub.status.busy": "2023-04-07T10:58:50.710126Z",
     "iopub.status.idle": "2023-04-07T10:58:50.713909Z",
     "shell.execute_reply": "2023-04-07T10:58:50.713314Z"
    }
   },
   "outputs": [],
   "source": [
    "class CallbackRequest(NamedTuple):\n",
    "    payload: str"
   ]
  },
  {
   "cell_type": "code",
   "execution_count": 5,
   "id": "7515cdc1",
   "metadata": {
    "execution": {
     "iopub.execute_input": "2023-04-07T10:58:50.717409Z",
     "iopub.status.busy": "2023-04-07T10:58:50.717044Z",
     "iopub.status.idle": "2023-04-07T10:58:50.741357Z",
     "shell.execute_reply": "2023-04-07T10:58:50.740787Z"
    },
    "lines_to_next_cell": 2
   },
   "outputs": [
    {
     "name": "stdout",
     "output_type": "stream",
     "text": [
      "(user) >>> text='Hi'\n",
      " (bot) <<< text='Hi, how are you?'\n",
      "(user) >>> text='i'm fine, how are you?'\n",
      " (bot) <<< text='Good. What do you want to talk about?'\n",
      "(user) >>> text='Let's talk about music.'\n",
      " (bot) <<< text='Sorry, I can not talk about music now.'\n",
      "(user) >>> text='Ok, goodbye.'\n",
      " (bot) <<< text='bye'\n",
      "(user) >>> text='Hi'\n",
      " (bot) <<< text='Hi, how are you?'\n",
      "(user) >>> text='stop'\n",
      " (bot) <<< text='Ooops'\n",
      "(user) >>> text='stop'\n",
      " (bot) <<< text='Ooops'\n",
      "(user) >>> text='Hi'\n",
      " (bot) <<< text='Hi, how are you?'\n",
      "(user) >>> text='i'm fine, how are you?'\n",
      " (bot) <<< text='Good. What do you want to talk about?'\n",
      "(user) >>> text='Let's talk about music.'\n",
      " (bot) <<< text='Sorry, I can not talk about music now.'\n",
      "(user) >>> text='Ok, goodbye.'\n",
      " (bot) <<< text='bye'\n"
     ]
    }
   ],
   "source": [
    "pipeline = Pipeline.from_script(\n",
    "    toy_script,\n",
    "    start_label=(\"greeting_flow\", \"start_node\"),\n",
    "    fallback_label=(\"greeting_flow\", \"fallback_node\"),\n",
    ")\n",
    "\n",
    "if __name__ == \"__main__\":\n",
    "    check_happy_path(\n",
    "        pipeline,\n",
    "        happy_path,\n",
    "    )  # This is a function for automatic tutorial running\n",
    "    # (testing) with `happy_path`\n",
    "\n",
    "    # This runs tutorial in interactive mode if not in IPython env\n",
    "    # and if `DISABLE_INTERACTIVE_MODE` is not set\n",
    "    if is_interactive_mode():\n",
    "        run_interactive_mode(pipeline)  # This runs tutorial in interactive mode"
   ]
  }
 ],
 "metadata": {
  "jupytext": {
   "cell_metadata_filter": "-all",
   "main_language": "python",
   "notebook_metadata_filter": "-all",
   "text_representation": {
    "extension": ".py",
    "format_name": "percent"
   }
  },
  "language_info": {
   "codemirror_mode": {
    "name": "ipython",
    "version": 3
   },
   "file_extension": ".py",
   "mimetype": "text/x-python",
   "name": "python",
   "nbconvert_exporter": "python",
   "pygments_lexer": "ipython3",
   "version": "3.9.16"
  }
 },
 "nbformat": 4,
 "nbformat_minor": 5
}
