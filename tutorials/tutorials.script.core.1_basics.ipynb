{
 "cells": [
  {
   "cell_type": "markdown",
   "id": "5126159d",
   "metadata": {
    "cell_marker": "\"\"\""
   },
   "source": [
    "# Core: 1. Basics\n",
    "\n",
    "This notebook shows basic tutorial of creating a simple dialog bot (agent).\n",
    "Let's do all the necessary imports from DFF:"
   ]
  },
  {
   "cell_type": "markdown",
   "id": "4959b4c6",
   "metadata": {
    "cell_marker": "\"\"\""
   },
   "source": [
    "__Installing dependencies__"
   ]
  },
  {
   "cell_type": "code",
   "execution_count": 1,
   "id": "e28fcbb2",
   "metadata": {
    "execution": {
     "iopub.execute_input": "2023-04-07T10:58:17.324068Z",
     "iopub.status.busy": "2023-04-07T10:58:17.323846Z",
     "iopub.status.idle": "2023-04-07T10:58:18.243731Z",
     "shell.execute_reply": "2023-04-07T10:58:18.242941Z"
    },
    "lines_to_next_cell": 2
   },
   "outputs": [
    {
     "name": "stdout",
     "output_type": "stream",
     "text": [
      "\u001b[33mWARNING: dff 0.3.2 does not provide the extra 'tutorials'\u001b[0m\u001b[33m\r\n",
      "\u001b[0m"
     ]
    }
   ],
   "source": [
    "!python3 -m pip install -q dff[tutorials]\n",
    "# Installs dff with dependencies for running tutorials\n",
    "# To install the minimal version of dff, use `pip install dff`\n",
    "# To install other options of dff, use `pip install dff[OPTION_NAME1,OPTION_NAME2]`\n",
    "# where OPTION_NAME can be one of the options from EXTRA_DEPENDENCIES.\n",
    "# e.g `pip install dff[ydb, mysql]` installs dff with dependencies for using Yandex Database and MySQL\n",
    "# EXTRA_DEPENDENCIES can be found in\n",
    "# https://github.com/deeppavlov/dialog_flow_framework/blob/dev/setup.py#L155"
   ]
  },
  {
   "cell_type": "markdown",
   "id": "5cf9c309",
   "metadata": {
    "cell_marker": "\"\"\"",
    "lines_to_next_cell": 2
   },
   "source": [
    "__Running tutorial__"
   ]
  },
  {
   "cell_type": "code",
   "execution_count": 2,
   "id": "62ba894e",
   "metadata": {
    "execution": {
     "iopub.execute_input": "2023-04-07T10:58:18.247614Z",
     "iopub.status.busy": "2023-04-07T10:58:18.246959Z",
     "iopub.status.idle": "2023-04-07T10:58:18.877005Z",
     "shell.execute_reply": "2023-04-07T10:58:18.876302Z"
    },
    "lines_to_next_cell": 2
   },
   "outputs": [],
   "source": [
    "from dff.script import TRANSITIONS, RESPONSE, Message\n",
    "from dff.pipeline import Pipeline\n",
    "import dff.script.conditions as cnd\n",
    "\n",
    "from dff.utils.testing.common import (\n",
    "    check_happy_path,\n",
    "    is_interactive_mode,\n",
    "    run_interactive_mode,\n",
    ")"
   ]
  },
  {
   "cell_type": "markdown",
   "id": "332c1492",
   "metadata": {
    "cell_marker": "\"\"\"",
    "lines_to_next_cell": 2
   },
   "source": [
    "First of all, to create a dialog agent, we need to create a dialog script.\n",
    "Below script means a dialog script.\n",
    "A script is a dictionary, where the keys are the names of the flows.\n",
    "A script can contain multiple scripts, which is needed in order to divide\n",
    "a dialog into sub-dialogs and process them separately.\n",
    "For example, the separation can be tied to the topic of the dialog.\n",
    "In this tutorial there is one flow called `greeting_flow`.\n",
    "\n",
    "Flow describes a sub-dialog using linked nodes.\n",
    "Each node has the keywords `RESPONSE` and `TRANSITIONS`.\n",
    "\n",
    "* `RESPONSE` contains the response\n",
    "    that the agent will return from the current node.\n",
    "* `TRANSITIONS` describes transitions from the\n",
    "    current node to another nodes. This is a dictionary,\n",
    "    where keys are names of the nodes and\n",
    "    values are conditions of transition to them."
   ]
  },
  {
   "cell_type": "code",
   "execution_count": 3,
   "id": "7d27022a",
   "metadata": {
    "execution": {
     "iopub.execute_input": "2023-04-07T10:58:18.880648Z",
     "iopub.status.busy": "2023-04-07T10:58:18.879947Z",
     "iopub.status.idle": "2023-04-07T10:58:18.889902Z",
     "shell.execute_reply": "2023-04-07T10:58:18.889318Z"
    },
    "lines_to_next_cell": 2
   },
   "outputs": [],
   "source": [
    "toy_script = {\n",
    "    \"greeting_flow\": {\n",
    "        \"start_node\": {  # This is the initial node,\n",
    "            # it doesn't contain a `RESPONSE`.\n",
    "            RESPONSE: Message(),\n",
    "            TRANSITIONS: {\"node1\": cnd.exact_match(Message(text=\"Hi\"))},\n",
    "            # If \"Hi\" == request of the user then we make the transition.\n",
    "        },\n",
    "        \"node1\": {\n",
    "            RESPONSE: Message(text=\"Hi, how are you?\"),  # When the agent enters node1,\n",
    "            # return \"Hi, how are you?\".\n",
    "            TRANSITIONS: {\"node2\": cnd.exact_match(Message(text=\"I'm fine, how are you?\"))},\n",
    "        },\n",
    "        \"node2\": {\n",
    "            RESPONSE: Message(text=\"Good. What do you want to talk about?\"),\n",
    "            TRANSITIONS: {\"node3\": cnd.exact_match(Message(text=\"Let's talk about music.\"))},\n",
    "        },\n",
    "        \"node3\": {\n",
    "            RESPONSE: Message(text=\"Sorry, I can not talk about music now.\"),\n",
    "            TRANSITIONS: {\"node4\": cnd.exact_match(Message(text=\"Ok, goodbye.\"))},\n",
    "        },\n",
    "        \"node4\": {\n",
    "            RESPONSE: Message(text=\"Bye\"),\n",
    "            TRANSITIONS: {\"node1\": cnd.exact_match(Message(text=\"Hi\"))},\n",
    "        },\n",
    "        \"fallback_node\": {\n",
    "            # We get to this node if the conditions\n",
    "            # for switching to other nodes are not performed.\n",
    "            RESPONSE: Message(text=\"Ooops\"),\n",
    "            TRANSITIONS: {\"node1\": cnd.exact_match(Message(text=\"Hi\"))},\n",
    "        },\n",
    "    }\n",
    "}\n",
    "\n",
    "\n",
    "happy_path = (\n",
    "    (Message(text=\"Hi\"), Message(text=\"Hi, how are you?\")),  # start_node -> node1\n",
    "    (\n",
    "        Message(text=\"I'm fine, how are you?\"),\n",
    "        Message(text=\"Good. What do you want to talk about?\"),\n",
    "    ),  # node1 -> node2\n",
    "    (\n",
    "        Message(text=\"Let's talk about music.\"),\n",
    "        Message(text=\"Sorry, I can not talk about music now.\"),\n",
    "    ),  # node2 -> node3\n",
    "    (Message(text=\"Ok, goodbye.\"), Message(text=\"Bye\")),  # node3 -> node4\n",
    "    (Message(text=\"Hi\"), Message(text=\"Hi, how are you?\")),  # node4 -> node1\n",
    "    (Message(text=\"stop\"), Message(text=\"Ooops\")),  # node1 -> fallback_node\n",
    "    (Message(text=\"stop\"), Message(text=\"Ooops\")),  # fallback_node -> fallback_node\n",
    "    (Message(text=\"Hi\"), Message(text=\"Hi, how are you?\")),  # fallback_node -> node1\n",
    "    (\n",
    "        Message(text=\"I'm fine, how are you?\"),\n",
    "        Message(text=\"Good. What do you want to talk about?\"),\n",
    "    ),  # node1 -> node2\n",
    "    (\n",
    "        Message(text=\"Let's talk about music.\"),\n",
    "        Message(text=\"Sorry, I can not talk about music now.\"),\n",
    "    ),  # node2 -> node3\n",
    "    (Message(text=\"Ok, goodbye.\"), Message(text=\"Bye\")),  # node3 -> node4\n",
    ")"
   ]
  },
  {
   "cell_type": "markdown",
   "id": "6734d212",
   "metadata": {
    "cell_marker": "\"\"\"",
    "lines_to_next_cell": 2
   },
   "source": [
    "A `Pipeline` is an object that processes user\n",
    "inputs and returns responses.\n",
    "To create the pipeline you need to pass the script (`toy_script`),\n",
    "initial node (`start_label`) and\n",
    "the node to which the default transition will take place\n",
    "if none of the current conditions are met (`fallback_label`).\n",
    "By default, if `fallback_label` is not set,\n",
    "then its value becomes equal to `start_label`."
   ]
  },
  {
   "cell_type": "code",
   "execution_count": 4,
   "id": "43727baf",
   "metadata": {
    "execution": {
     "iopub.execute_input": "2023-04-07T10:58:18.892987Z",
     "iopub.status.busy": "2023-04-07T10:58:18.892351Z",
     "iopub.status.idle": "2023-04-07T10:58:18.912050Z",
     "shell.execute_reply": "2023-04-07T10:58:18.911445Z"
    },
    "lines_to_next_cell": 2
   },
   "outputs": [
    {
     "name": "stdout",
     "output_type": "stream",
     "text": [
      "(user) >>> text='Hi'\n",
      " (bot) <<< text='Hi, how are you?'\n",
      "(user) >>> text='I'm fine, how are you?'\n",
      " (bot) <<< text='Good. What do you want to talk about?'\n",
      "(user) >>> text='Let's talk about music.'\n",
      " (bot) <<< text='Sorry, I can not talk about music now.'\n",
      "(user) >>> text='Ok, goodbye.'\n",
      " (bot) <<< text='Bye'\n",
      "(user) >>> text='Hi'\n",
      " (bot) <<< text='Hi, how are you?'\n",
      "(user) >>> text='stop'\n",
      " (bot) <<< text='Ooops'\n",
      "(user) >>> text='stop'\n",
      " (bot) <<< text='Ooops'\n",
      "(user) >>> text='Hi'\n",
      " (bot) <<< text='Hi, how are you?'\n",
      "(user) >>> text='I'm fine, how are you?'\n",
      " (bot) <<< text='Good. What do you want to talk about?'\n",
      "(user) >>> text='Let's talk about music.'\n",
      " (bot) <<< text='Sorry, I can not talk about music now.'\n",
      "(user) >>> text='Ok, goodbye.'\n",
      " (bot) <<< text='Bye'\n"
     ]
    }
   ],
   "source": [
    "pipeline = Pipeline.from_script(\n",
    "    toy_script,\n",
    "    start_label=(\"greeting_flow\", \"start_node\"),\n",
    "    fallback_label=(\"greeting_flow\", \"fallback_node\"),\n",
    ")\n",
    "\n",
    "if __name__ == \"__main__\":\n",
    "    check_happy_path(\n",
    "        pipeline,\n",
    "        happy_path,\n",
    "    )  # This is a function for automatic tutorial\n",
    "    # running (testing tutorial) with `happy_path`.\n",
    "\n",
    "    # Run tutorial in interactive mode if not in IPython env\n",
    "    # and if `DISABLE_INTERACTIVE_MODE` is not set.\n",
    "    if is_interactive_mode():\n",
    "        run_interactive_mode(pipeline)  # This runs tutorial in interactive mode."
   ]
  }
 ],
 "metadata": {
  "jupytext": {
   "cell_metadata_filter": "-all",
   "main_language": "python",
   "notebook_metadata_filter": "-all",
   "text_representation": {
    "extension": ".py",
    "format_name": "percent"
   }
  },
  "language_info": {
   "codemirror_mode": {
    "name": "ipython",
    "version": 3
   },
   "file_extension": ".py",
   "mimetype": "text/x-python",
   "name": "python",
   "nbconvert_exporter": "python",
   "pygments_lexer": "ipython3",
   "version": "3.9.16"
  }
 },
 "nbformat": 4,
 "nbformat_minor": 5
}
