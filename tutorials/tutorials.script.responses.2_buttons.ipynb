{
 "cells": [
  {
   "cell_type": "markdown",
   "id": "8a2596ca",
   "metadata": {
    "cell_marker": "\"\"\"",
    "lines_to_next_cell": 2
   },
   "source": [
    "# Responses: 2. Buttons"
   ]
  },
  {
   "cell_type": "markdown",
   "id": "92424f8f",
   "metadata": {
    "cell_marker": "\"\"\""
   },
   "source": [
    "__Installing dependencies__"
   ]
  },
  {
   "cell_type": "code",
   "execution_count": 1,
   "id": "f4682822",
   "metadata": {
    "execution": {
     "iopub.execute_input": "2023-04-07T10:58:52.482443Z",
     "iopub.status.busy": "2023-04-07T10:58:52.482215Z",
     "iopub.status.idle": "2023-04-07T10:58:53.412864Z",
     "shell.execute_reply": "2023-04-07T10:58:53.412008Z"
    },
    "lines_to_next_cell": 2
   },
   "outputs": [
    {
     "name": "stdout",
     "output_type": "stream",
     "text": [
      "\u001b[33mWARNING: dff 0.3.2 does not provide the extra 'tutorials'\u001b[0m\u001b[33m\r\n",
      "\u001b[0m"
     ]
    }
   ],
   "source": [
    "!python3 -m pip install -q dff[tutorials]\n",
    "# Installs dff with dependencies for running tutorials\n",
    "# To install the minimal version of dff, use `pip install dff`\n",
    "# To install other options of dff, use `pip install dff[OPTION_NAME1,OPTION_NAME2]`\n",
    "# where OPTION_NAME can be one of the options from EXTRA_DEPENDENCIES.\n",
    "# e.g `pip install dff[ydb, mysql]` installs dff with dependencies for using Yandex Database and MySQL\n",
    "# EXTRA_DEPENDENCIES can be found in\n",
    "# https://github.com/deeppavlov/dialog_flow_framework/blob/dev/setup.py#L155"
   ]
  },
  {
   "cell_type": "markdown",
   "id": "de4fb74a",
   "metadata": {
    "cell_marker": "\"\"\"",
    "lines_to_next_cell": 2
   },
   "source": [
    "__Running tutorial__"
   ]
  },
  {
   "cell_type": "code",
   "execution_count": 2,
   "id": "97a9b2f8",
   "metadata": {
    "execution": {
     "iopub.execute_input": "2023-04-07T10:58:53.416335Z",
     "iopub.status.busy": "2023-04-07T10:58:53.416102Z",
     "iopub.status.idle": "2023-04-07T10:58:54.043237Z",
     "shell.execute_reply": "2023-04-07T10:58:54.042429Z"
    }
   },
   "outputs": [],
   "source": [
    "import dff.script.conditions as cnd\n",
    "import dff.script.labels as lbl\n",
    "from dff.script import Context, TRANSITIONS, RESPONSE\n",
    "\n",
    "from dff.script.core.message import Button, Keyboard, Message\n",
    "from dff.pipeline import Pipeline\n",
    "from dff.utils.testing import (\n",
    "    check_happy_path,\n",
    "    is_interactive_mode,\n",
    "    run_interactive_mode,\n",
    ")"
   ]
  },
  {
   "cell_type": "code",
   "execution_count": 3,
   "id": "7c15ce19",
   "metadata": {
    "execution": {
     "iopub.execute_input": "2023-04-07T10:58:54.046539Z",
     "iopub.status.busy": "2023-04-07T10:58:54.046177Z",
     "iopub.status.idle": "2023-04-07T10:58:54.050777Z",
     "shell.execute_reply": "2023-04-07T10:58:54.050184Z"
    }
   },
   "outputs": [],
   "source": [
    "def check_button_payload(value: str):\n",
    "    def payload_check_inner(ctx: Context, _: Pipeline):\n",
    "        if ctx.last_request.misc is not None:\n",
    "            return ctx.last_request.misc.get(\"payload\") == value\n",
    "        else:\n",
    "            return False\n",
    "\n",
    "    return payload_check_inner"
   ]
  },
  {
   "cell_type": "code",
   "execution_count": 4,
   "id": "5d0ba57d",
   "metadata": {
    "execution": {
     "iopub.execute_input": "2023-04-07T10:58:54.053770Z",
     "iopub.status.busy": "2023-04-07T10:58:54.053461Z",
     "iopub.status.idle": "2023-04-07T10:58:54.071865Z",
     "shell.execute_reply": "2023-04-07T10:58:54.071252Z"
    }
   },
   "outputs": [],
   "source": [
    "toy_script = {\n",
    "    \"root\": {\n",
    "        \"start\": {\n",
    "            RESPONSE: Message(text=\"\"),\n",
    "            TRANSITIONS: {\n",
    "                (\"general\", \"question_1\"): cnd.true(),\n",
    "            },\n",
    "        },\n",
    "        \"fallback\": {RESPONSE: Message(text=\"Finishing test\")},\n",
    "    },\n",
    "    \"general\": {\n",
    "        \"question_1\": {\n",
    "            RESPONSE: Message(\n",
    "                **{\n",
    "                    \"text\": \"Starting test! What's 2 + 2?\"\n",
    "                    \" (type in the index of the correct option)\",\n",
    "                    \"misc\": {\n",
    "                        \"ui\": Keyboard(\n",
    "                            buttons=[\n",
    "                                Button(text=\"5\", payload=\"5\"),\n",
    "                                Button(text=\"4\", payload=\"4\"),\n",
    "                            ]\n",
    "                        ),\n",
    "                    },\n",
    "                }\n",
    "            ),\n",
    "            TRANSITIONS: {\n",
    "                lbl.forward(): check_button_payload(\"4\"),\n",
    "                (\"general\", \"question_1\"): check_button_payload(\"5\"),\n",
    "            },\n",
    "        },\n",
    "        \"question_2\": {\n",
    "            RESPONSE: Message(\n",
    "                **{\n",
    "                    \"text\": \"Next question: what's 6 * 8?\"\n",
    "                    \" (type in the index of the correct option)\",\n",
    "                    \"misc\": {\n",
    "                        \"ui\": Keyboard(\n",
    "                            buttons=[\n",
    "                                Button(text=\"38\", payload=\"38\"),\n",
    "                                Button(text=\"48\", payload=\"48\"),\n",
    "                            ]\n",
    "                        ),\n",
    "                    },\n",
    "                }\n",
    "            ),\n",
    "            TRANSITIONS: {\n",
    "                lbl.forward(): check_button_payload(\"48\"),\n",
    "                (\"general\", \"question_2\"): check_button_payload(\"38\"),\n",
    "            },\n",
    "        },\n",
    "        \"question_3\": {\n",
    "            RESPONSE: Message(\n",
    "                **{\n",
    "                    \"text\": \"What's 114 + 115? (type in the index of the correct option)\",\n",
    "                    \"misc\": {\n",
    "                        \"ui\": Keyboard(\n",
    "                            buttons=[\n",
    "                                Button(text=\"229\", payload=\"229\"),\n",
    "                                Button(text=\"283\", payload=\"283\"),\n",
    "                            ]\n",
    "                        ),\n",
    "                    },\n",
    "                }\n",
    "            ),\n",
    "            TRANSITIONS: {\n",
    "                lbl.forward(): check_button_payload(\"229\"),\n",
    "                (\"general\", \"question_3\"): check_button_payload(\"283\"),\n",
    "            },\n",
    "        },\n",
    "        \"success\": {\n",
    "            RESPONSE: Message(text=\"Success!\"),\n",
    "            TRANSITIONS: {(\"root\", \"fallback\"): cnd.true()},\n",
    "        },\n",
    "    },\n",
    "}\n",
    "\n",
    "happy_path = (\n",
    "    (\n",
    "        Message(text=\"Hi\"),\n",
    "        Message(\n",
    "            **{\n",
    "                \"text\": \"Starting test! What's 2 + 2? (type in the index of the correct option)\",\n",
    "                \"misc\": {\n",
    "                    \"ui\": Keyboard(\n",
    "                        buttons=[\n",
    "                            Button(text=\"5\", payload=\"5\"),\n",
    "                            Button(text=\"4\", payload=\"4\"),\n",
    "                        ]\n",
    "                    )\n",
    "                },\n",
    "            }\n",
    "        ),\n",
    "    ),\n",
    "    (\n",
    "        Message(text=\"0\"),\n",
    "        Message(\n",
    "            **{\n",
    "                \"text\": \"Starting test! What's 2 + 2? (type in the index of the correct option)\",\n",
    "                \"misc\": {\n",
    "                    \"ui\": Keyboard(\n",
    "                        buttons=[\n",
    "                            Button(text=\"5\", payload=\"5\"),\n",
    "                            Button(text=\"4\", payload=\"4\"),\n",
    "                        ]\n",
    "                    ),\n",
    "                },\n",
    "            }\n",
    "        ),\n",
    "    ),\n",
    "    (\n",
    "        Message(text=\"1\"),\n",
    "        Message(\n",
    "            **{\n",
    "                \"text\": \"Next question: what's 6 * 8? (type in the index of the correct option)\",\n",
    "                \"misc\": {\n",
    "                    \"ui\": Keyboard(\n",
    "                        buttons=[\n",
    "                            Button(text=\"38\", payload=\"38\"),\n",
    "                            Button(text=\"48\", payload=\"48\"),\n",
    "                        ]\n",
    "                    ),\n",
    "                },\n",
    "            }\n",
    "        ),\n",
    "    ),\n",
    "    (\n",
    "        Message(text=\"0\"),\n",
    "        Message(\n",
    "            **{\n",
    "                \"text\": \"Next question: what's 6 * 8? (type in the index of the correct option)\",\n",
    "                \"misc\": {\n",
    "                    \"ui\": Keyboard(\n",
    "                        buttons=[\n",
    "                            Button(text=\"38\", payload=\"38\"),\n",
    "                            Button(text=\"48\", payload=\"48\"),\n",
    "                        ]\n",
    "                    ),\n",
    "                },\n",
    "            }\n",
    "        ),\n",
    "    ),\n",
    "    (\n",
    "        Message(text=\"1\"),\n",
    "        Message(\n",
    "            **{\n",
    "                \"text\": \"What's 114 + 115? (type in the index of the correct option)\",\n",
    "                \"misc\": {\n",
    "                    \"ui\": Keyboard(\n",
    "                        buttons=[\n",
    "                            Button(text=\"229\", payload=\"229\"),\n",
    "                            Button(text=\"283\", payload=\"283\"),\n",
    "                        ]\n",
    "                    ),\n",
    "                },\n",
    "            }\n",
    "        ),\n",
    "    ),\n",
    "    (\n",
    "        Message(text=\"1\"),\n",
    "        Message(\n",
    "            **{\n",
    "                \"text\": \"What's 114 + 115? (type in the index of the correct option)\",\n",
    "                \"misc\": {\n",
    "                    \"ui\": Keyboard(\n",
    "                        buttons=[\n",
    "                            Button(text=\"229\", payload=\"229\"),\n",
    "                            Button(text=\"283\", payload=\"283\"),\n",
    "                        ]\n",
    "                    ),\n",
    "                },\n",
    "            }\n",
    "        ),\n",
    "    ),\n",
    "    (Message(text=\"0\"), Message(text=\"Success!\")),\n",
    "    (Message(text=\"ok\"), Message(text=\"Finishing test\")),\n",
    ")\n",
    "\n",
    "\n",
    "def process_request(ctx: Context):\n",
    "    ui = ctx.last_response and ctx.last_response.misc and ctx.last_response.misc.get(\"ui\")\n",
    "    if ui and ui.buttons:\n",
    "        try:\n",
    "            chosen_button = ui.buttons[int(ctx.last_request.text)]\n",
    "        except (IndexError, ValueError):\n",
    "            raise ValueError(\"Type in the index of the correct option to choose from the buttons.\")\n",
    "        ctx.last_request = Message(misc={\"payload\": chosen_button.payload})"
   ]
  },
  {
   "cell_type": "code",
   "execution_count": 5,
   "id": "f485ff3a",
   "metadata": {
    "execution": {
     "iopub.execute_input": "2023-04-07T10:58:54.074757Z",
     "iopub.status.busy": "2023-04-07T10:58:54.074428Z",
     "iopub.status.idle": "2023-04-07T10:58:54.097481Z",
     "shell.execute_reply": "2023-04-07T10:58:54.096699Z"
    },
    "lines_to_next_cell": 2
   },
   "outputs": [
    {
     "name": "stdout",
     "output_type": "stream",
     "text": [
      "(user) >>> text='Hi'\n",
      " (bot) <<< text='Starting test! What's 2 + 2? (type in the index of the correct option)' misc='{'ui': {'buttons': [{'text': '5', 'payload': '5'}, {'text': '4', 'payload': '4'}]}}'\n",
      "(user) >>> text='0'\n",
      " (bot) <<< text='Starting test! What's 2 + 2? (type in the index of the correct option)' misc='{'ui': {'buttons': [{'text': '5', 'payload': '5'}, {'text': '4', 'payload': '4'}]}}'\n",
      "(user) >>> text='1'\n",
      " (bot) <<< text='Next question: what's 6 * 8? (type in the index of the correct option)' misc='{'ui': {'buttons': [{'text': '38', 'payload': '38'}, {'text': '48', 'payload': '48'}]}}'\n",
      "(user) >>> text='0'\n",
      " (bot) <<< text='Next question: what's 6 * 8? (type in the index of the correct option)' misc='{'ui': {'buttons': [{'text': '38', 'payload': '38'}, {'text': '48', 'payload': '48'}]}}'\n",
      "(user) >>> text='1'\n",
      " (bot) <<< text='What's 114 + 115? (type in the index of the correct option)' misc='{'ui': {'buttons': [{'text': '229', 'payload': '229'}, {'text': '283', 'payload': '283'}]}}'\n",
      "(user) >>> text='1'\n",
      " (bot) <<< text='What's 114 + 115? (type in the index of the correct option)' misc='{'ui': {'buttons': [{'text': '229', 'payload': '229'}, {'text': '283', 'payload': '283'}]}}'\n",
      "(user) >>> text='0'\n",
      " (bot) <<< text='Success!'\n",
      "(user) >>> text='ok'\n",
      " (bot) <<< text='Finishing test'\n"
     ]
    }
   ],
   "source": [
    "pipeline = Pipeline.from_script(\n",
    "    toy_script,\n",
    "    start_label=(\"root\", \"start\"),\n",
    "    fallback_label=(\"root\", \"fallback\"),\n",
    "    pre_services=[process_request],\n",
    ")\n",
    "\n",
    "if __name__ == \"__main__\":\n",
    "    check_happy_path(\n",
    "        pipeline,\n",
    "        happy_path,\n",
    "    )  # For response object with `happy_path` string comparing,\n",
    "    # a special `generics_comparer` comparator is used\n",
    "    if is_interactive_mode():\n",
    "        run_interactive_mode(pipeline)"
   ]
  }
 ],
 "metadata": {
  "jupytext": {
   "cell_metadata_filter": "-all",
   "main_language": "python",
   "notebook_metadata_filter": "-all",
   "text_representation": {
    "extension": ".py",
    "format_name": "percent"
   }
  },
  "language_info": {
   "codemirror_mode": {
    "name": "ipython",
    "version": 3
   },
   "file_extension": ".py",
   "mimetype": "text/x-python",
   "name": "python",
   "nbconvert_exporter": "python",
   "pygments_lexer": "ipython3",
   "version": "3.9.16"
  }
 },
 "nbformat": 4,
 "nbformat_minor": 5
}
