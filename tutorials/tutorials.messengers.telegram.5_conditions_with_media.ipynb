{
 "cells": [
  {
   "cell_type": "markdown",
   "id": "73dfac53",
   "metadata": {
    "cell_marker": "\"\"\"",
    "lines_to_next_cell": 2
   },
   "source": [
    "# Telegram: 5. Conditions with Media\n",
    "\n",
    "This tutorial shows how to use media-related logic in your script."
   ]
  },
  {
   "cell_type": "markdown",
   "id": "2886d1e8",
   "metadata": {
    "cell_marker": "\"\"\""
   },
   "source": [
    "__Installing dependencies__"
   ]
  },
  {
   "cell_type": "code",
   "execution_count": 1,
   "id": "38362917",
   "metadata": {
    "execution": {
     "iopub.execute_input": "2023-04-07T10:57:15.080863Z",
     "iopub.status.busy": "2023-04-07T10:57:15.080648Z",
     "iopub.status.idle": "2023-04-07T10:57:15.992054Z",
     "shell.execute_reply": "2023-04-07T10:57:15.991221Z"
    },
    "lines_to_next_cell": 2
   },
   "outputs": [
    {
     "name": "stdout",
     "output_type": "stream",
     "text": [
      "\u001b[33mWARNING: dff 0.3.2 does not provide the extra 'tutorials'\u001b[0m\u001b[33m\r\n",
      "\u001b[0m"
     ]
    }
   ],
   "source": [
    "!python3 -m pip install -q dff[tutorials]\n",
    "# Installs dff with dependencies for running tutorials\n",
    "# To install the minimal version of dff, use `pip install dff`\n",
    "# To install other options of dff, use `pip install dff[OPTION_NAME1,OPTION_NAME2]`\n",
    "# where OPTION_NAME can be one of the options from EXTRA_DEPENDENCIES.\n",
    "# e.g `pip install dff[ydb, mysql]` installs dff with dependencies for using Yandex Database and MySQL\n",
    "# EXTRA_DEPENDENCIES can be found in\n",
    "# https://github.com/deeppavlov/dialog_flow_framework/blob/dev/setup.py#L155"
   ]
  },
  {
   "cell_type": "markdown",
   "id": "a41232d2",
   "metadata": {
    "cell_marker": "\"\"\"",
    "lines_to_next_cell": 2
   },
   "source": [
    "__Running tutorial__"
   ]
  },
  {
   "cell_type": "code",
   "execution_count": 2,
   "id": "33fc030f",
   "metadata": {
    "execution": {
     "iopub.execute_input": "2023-04-07T10:57:15.995583Z",
     "iopub.status.busy": "2023-04-07T10:57:15.995202Z",
     "iopub.status.idle": "2023-04-07T10:57:16.715820Z",
     "shell.execute_reply": "2023-04-07T10:57:16.715069Z"
    },
    "lines_to_next_cell": 2
   },
   "outputs": [],
   "source": [
    "import os\n",
    "\n",
    "from telebot.types import Message\n",
    "\n",
    "import dff.script.conditions as cnd\n",
    "from dff.script import Context, TRANSITIONS, RESPONSE\n",
    "from dff.script.core.message import Image, Attachments\n",
    "from dff.messengers.telegram import (\n",
    "    PollingTelegramInterface,\n",
    "    TelegramMessage,\n",
    "    telegram_condition,\n",
    ")\n",
    "from dff.pipeline import Pipeline\n",
    "from dff.utils.testing.common import is_interactive_mode"
   ]
  },
  {
   "cell_type": "code",
   "execution_count": 3,
   "id": "7fb13507",
   "metadata": {
    "execution": {
     "iopub.execute_input": "2023-04-07T10:57:16.719358Z",
     "iopub.status.busy": "2023-04-07T10:57:16.718719Z",
     "iopub.status.idle": "2023-04-07T10:57:16.723005Z",
     "shell.execute_reply": "2023-04-07T10:57:16.722423Z"
    },
    "lines_to_next_cell": 2
   },
   "outputs": [],
   "source": [
    "\n",
    "picture_url = (\n",
    "    \"https://gist.githubusercontent.com/scotthaleen/\"\n",
    "    \"32f76a413e0dfd4b4d79c2a534d49c0b/raw\"\n",
    "    \"/6c1036b1eca90b341caf06d4056d36f64fc11e88/tiny.jpg\"\n",
    ")"
   ]
  },
  {
   "cell_type": "markdown",
   "id": "6f7819f1",
   "metadata": {
    "cell_marker": "\"\"\"",
    "lines_to_next_cell": 2
   },
   "source": [
    "To filter user messages depending on whether or not media files were sent,\n",
    "you can use the `content_types` parameter of the `telegram_condition`."
   ]
  },
  {
   "cell_type": "code",
   "execution_count": 4,
   "id": "c6cb13ba",
   "metadata": {
    "execution": {
     "iopub.execute_input": "2023-04-07T10:57:16.726052Z",
     "iopub.status.busy": "2023-04-07T10:57:16.725357Z",
     "iopub.status.idle": "2023-04-07T10:57:16.728882Z",
     "shell.execute_reply": "2023-04-07T10:57:16.728255Z"
    },
    "lines_to_next_cell": 2
   },
   "outputs": [],
   "source": [
    "interface = PollingTelegramInterface(token=os.getenv(\"TG_BOT_TOKEN\", \"\"))"
   ]
  },
  {
   "cell_type": "code",
   "execution_count": 5,
   "id": "1171256f",
   "metadata": {
    "execution": {
     "iopub.execute_input": "2023-04-07T10:57:16.731598Z",
     "iopub.status.busy": "2023-04-07T10:57:16.731379Z",
     "iopub.status.idle": "2023-04-07T10:57:16.746151Z",
     "shell.execute_reply": "2023-04-07T10:57:16.745240Z"
    }
   },
   "outputs": [],
   "source": [
    "script = {\n",
    "    \"root\": {\n",
    "        \"start\": {\n",
    "            TRANSITIONS: {\n",
    "                (\"pics\", \"ask_picture\"): telegram_condition(commands=[\"start\", \"restart\"])\n",
    "            },\n",
    "        },\n",
    "        \"fallback\": {\n",
    "            RESPONSE: TelegramMessage(text=\"Finishing test, send /restart command to restart\"),\n",
    "            TRANSITIONS: {\n",
    "                (\"pics\", \"ask_picture\"): telegram_condition(commands=[\"start\", \"restart\"])\n",
    "            },\n",
    "        },\n",
    "    },\n",
    "    \"pics\": {\n",
    "        \"ask_picture\": {\n",
    "            RESPONSE: TelegramMessage(text=\"Send me a picture\"),\n",
    "            TRANSITIONS: {\n",
    "                (\"pics\", \"send_one\"): cnd.any(\n",
    "                    [\n",
    "                        # Telegram can put photos both in 'photo' and 'document' fields.\n",
    "                        # We should consider both cases when we check the message for media.\n",
    "                        telegram_condition(content_types=[\"photo\"]),\n",
    "                        telegram_condition(\n",
    "                            func=lambda message: (\n",
    "                                # check attachments in message properties\n",
    "                                message.document\n",
    "                                and message.document.mime_type == \"image/jpeg\"\n",
    "                            ),\n",
    "                            content_types=[\"document\"],\n",
    "                        ),\n",
    "                    ]\n",
    "                ),\n",
    "                (\"pics\", \"send_many\"): telegram_condition(content_types=[\"text\"]),\n",
    "                (\"pics\", \"ask_picture\"): cnd.true(),\n",
    "            },\n",
    "        },\n",
    "        \"send_one\": {\n",
    "            # An HTTP path or a path to a local file can be used here.\n",
    "            RESPONSE: TelegramMessage(\n",
    "                text=\"Here's my picture!\",\n",
    "                attachments=Attachments(files=[Image(source=picture_url)]),\n",
    "            ),\n",
    "            TRANSITIONS: {(\"root\", \"fallback\"): cnd.true()},\n",
    "        },\n",
    "        \"send_many\": {\n",
    "            RESPONSE: TelegramMessage(\n",
    "                text=\"Look at my pictures!\",\n",
    "                # An HTTP path or a path to a local file can be used here.\n",
    "                attachments=Attachments(files=[Image(source=picture_url)] * 2),\n",
    "            ),\n",
    "            TRANSITIONS: {(\"root\", \"fallback\"): cnd.true()},\n",
    "        },\n",
    "    },\n",
    "}\n",
    "\n",
    "\n",
    "# testing\n",
    "happy_path = (\n",
    "    (TelegramMessage(text=\"/start\"), TelegramMessage(text=\"Send me a picture\")),\n",
    "    (\n",
    "        TelegramMessage(attachments=Attachments(files=[Image(source=picture_url)])),\n",
    "        TelegramMessage(\n",
    "            text=\"Here's my picture!\",\n",
    "            attachments=Attachments(files=[Image(source=picture_url)]),\n",
    "        ),\n",
    "    ),\n",
    "    (\n",
    "        TelegramMessage(text=\"ok\"),\n",
    "        TelegramMessage(text=\"Finishing test, send /restart command to restart\"),\n",
    "    ),\n",
    "    (TelegramMessage(text=\"/restart\"), TelegramMessage(text=\"Send me a picture\")),\n",
    "    (\n",
    "        TelegramMessage(text=\"No\"),\n",
    "        TelegramMessage(\n",
    "            text=\"Look at my pictures!\",\n",
    "            attachments=Attachments(files=[Image(source=picture_url)] * 2),\n",
    "        ),\n",
    "    ),\n",
    "    (\n",
    "        TelegramMessage(text=\"ok\"),\n",
    "        TelegramMessage(text=\"Finishing test, send /restart command to restart\"),\n",
    "    ),\n",
    "    (TelegramMessage(text=\"/restart\"), TelegramMessage(text=\"Send me a picture\")),\n",
    ")"
   ]
  },
  {
   "cell_type": "code",
   "execution_count": 6,
   "id": "cdec5fa0",
   "metadata": {
    "execution": {
     "iopub.execute_input": "2023-04-07T10:57:16.749609Z",
     "iopub.status.busy": "2023-04-07T10:57:16.749072Z",
     "iopub.status.idle": "2023-04-07T10:57:16.754767Z",
     "shell.execute_reply": "2023-04-07T10:57:16.754195Z"
    }
   },
   "outputs": [],
   "source": [
    "def extract_data(ctx: Context, _: Pipeline):  # A function to extract data with\n",
    "    message = ctx.last_request\n",
    "    if message is None:\n",
    "        return ctx\n",
    "    update = getattr(message, \"update\", None)\n",
    "    if update is None:\n",
    "        return ctx\n",
    "    if not isinstance(update, Message):\n",
    "        return ctx\n",
    "    if (\n",
    "        # check attachments in update properties\n",
    "        not update.photo\n",
    "        and not (update.document and update.document.mime_type == \"image/jpeg\")\n",
    "    ):\n",
    "        return ctx\n",
    "    photo = update.document or update.photo[-1]\n",
    "    file = interface.messenger.get_file(photo.file_id)\n",
    "    result = interface.messenger.download_file(file.file_path)\n",
    "    with open(\"photo.jpg\", \"wb+\") as new_file:\n",
    "        new_file.write(result)\n",
    "    return ctx"
   ]
  },
  {
   "cell_type": "code",
   "execution_count": 7,
   "id": "8f3fa7f6",
   "metadata": {
    "execution": {
     "iopub.execute_input": "2023-04-07T10:57:16.757453Z",
     "iopub.status.busy": "2023-04-07T10:57:16.757086Z",
     "iopub.status.idle": "2023-04-07T10:57:16.763968Z",
     "shell.execute_reply": "2023-04-07T10:57:16.763346Z"
    },
    "lines_to_next_cell": 2
   },
   "outputs": [],
   "source": [
    "pipeline = Pipeline.from_script(\n",
    "    script=script,\n",
    "    start_label=(\"root\", \"start\"),\n",
    "    fallback_label=(\"root\", \"fallback\"),\n",
    "    messenger_interface=interface,\n",
    "    pre_services=[extract_data],\n",
    ")\n",
    "\n",
    "\n",
    "def main():\n",
    "    if not os.getenv(\"TG_BOT_TOKEN\"):\n",
    "        print(\"`TG_BOT_TOKEN` variable needs to be set to use TelegramInterface.\")\n",
    "    pipeline.run()\n",
    "\n",
    "\n",
    "if __name__ == \"__main__\" and is_interactive_mode():  # prevent run during doc building\n",
    "    main()"
   ]
  }
 ],
 "metadata": {
  "jupytext": {
   "cell_metadata_filter": "-all",
   "main_language": "python",
   "notebook_metadata_filter": "-all",
   "text_representation": {
    "extension": ".py",
    "format_name": "percent"
   }
  },
  "language_info": {
   "codemirror_mode": {
    "name": "ipython",
    "version": 3
   },
   "file_extension": ".py",
   "mimetype": "text/x-python",
   "name": "python",
   "nbconvert_exporter": "python",
   "pygments_lexer": "ipython3",
   "version": "3.9.16"
  }
 },
 "nbformat": 4,
 "nbformat_minor": 5
}
