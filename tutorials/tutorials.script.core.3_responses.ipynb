{
 "cells": [
  {
   "cell_type": "markdown",
   "id": "e963d3b1",
   "metadata": {
    "cell_marker": "\"\"\""
   },
   "source": [
    "# Core: 3. Responses\n",
    "\n",
    "This tutorial shows different options for setting responses.\n",
    "Let's do all the necessary imports from DFF."
   ]
  },
  {
   "cell_type": "markdown",
   "id": "3fff315f",
   "metadata": {
    "cell_marker": "\"\"\""
   },
   "source": [
    "__Installing dependencies__"
   ]
  },
  {
   "cell_type": "code",
   "execution_count": 1,
   "id": "e2cd1ab3",
   "metadata": {
    "execution": {
     "iopub.execute_input": "2023-04-07T10:58:24.425916Z",
     "iopub.status.busy": "2023-04-07T10:58:24.425689Z",
     "iopub.status.idle": "2023-04-07T10:58:25.361593Z",
     "shell.execute_reply": "2023-04-07T10:58:25.360778Z"
    },
    "lines_to_next_cell": 2
   },
   "outputs": [
    {
     "name": "stdout",
     "output_type": "stream",
     "text": [
      "\u001b[33mWARNING: dff 0.3.2 does not provide the extra 'tutorials'\u001b[0m\u001b[33m\r\n",
      "\u001b[0m"
     ]
    }
   ],
   "source": [
    "!python3 -m pip install -q dff[tutorials]\n",
    "# Installs dff with dependencies for running tutorials\n",
    "# To install the minimal version of dff, use `pip install dff`\n",
    "# To install other options of dff, use `pip install dff[OPTION_NAME1,OPTION_NAME2]`\n",
    "# where OPTION_NAME can be one of the options from EXTRA_DEPENDENCIES.\n",
    "# e.g `pip install dff[ydb, mysql]` installs dff with dependencies for using Yandex Database and MySQL\n",
    "# EXTRA_DEPENDENCIES can be found in\n",
    "# https://github.com/deeppavlov/dialog_flow_framework/blob/dev/setup.py#L155"
   ]
  },
  {
   "cell_type": "markdown",
   "id": "621d97fc",
   "metadata": {
    "cell_marker": "\"\"\"",
    "lines_to_next_cell": 2
   },
   "source": [
    "__Running tutorial__"
   ]
  },
  {
   "cell_type": "code",
   "execution_count": 2,
   "id": "3d4c9152",
   "metadata": {
    "execution": {
     "iopub.execute_input": "2023-04-07T10:58:25.365139Z",
     "iopub.status.busy": "2023-04-07T10:58:25.364520Z",
     "iopub.status.idle": "2023-04-07T10:58:25.986189Z",
     "shell.execute_reply": "2023-04-07T10:58:25.985446Z"
    },
    "lines_to_next_cell": 2
   },
   "outputs": [],
   "source": [
    "import re\n",
    "import random\n",
    "\n",
    "from dff.script import TRANSITIONS, RESPONSE, Context, Message\n",
    "import dff.script.responses as rsp\n",
    "import dff.script.conditions as cnd\n",
    "\n",
    "from dff.pipeline import Pipeline\n",
    "from dff.utils.testing.common import (\n",
    "    check_happy_path,\n",
    "    is_interactive_mode,\n",
    "    run_interactive_mode,\n",
    ")"
   ]
  },
  {
   "cell_type": "markdown",
   "id": "8cc08515",
   "metadata": {
    "cell_marker": "\"\"\""
   },
   "source": [
    "The response can be set by Callable or *Message:\n",
    "\n",
    "* Callable objects. If the object is callable it must have a special signature:\n",
    "\n",
    "        func(ctx: Context, pipeline: Pipeline, *args, **kwargs) -> Any\n",
    "\n",
    "* *Message objects. If the object is *Message\n",
    "    it will be returned by the agent as a response.\n",
    "\n",
    "\n",
    "The functions to be used in the `toy_script` are declared here."
   ]
  },
  {
   "cell_type": "code",
   "execution_count": 3,
   "id": "191bfe72",
   "metadata": {
    "execution": {
     "iopub.execute_input": "2023-04-07T10:58:25.989867Z",
     "iopub.status.busy": "2023-04-07T10:58:25.989177Z",
     "iopub.status.idle": "2023-04-07T10:58:25.996627Z",
     "shell.execute_reply": "2023-04-07T10:58:25.996019Z"
    }
   },
   "outputs": [],
   "source": [
    "def cannot_talk_about_topic_response(ctx: Context, _: Pipeline, *args, **kwargs) -> Message:\n",
    "    request = ctx.last_request\n",
    "    if request is None or request.text is None:\n",
    "        topic = None\n",
    "    else:\n",
    "        topic_pattern = re.compile(r\"(.*talk about )(.*)\\.\")\n",
    "        topic = topic_pattern.findall(request.text)\n",
    "        topic = topic and topic[0] and topic[0][-1]\n",
    "    if topic:\n",
    "        return Message(text=f\"Sorry, I can not talk about {topic} now.\")\n",
    "    else:\n",
    "        return Message(text=\"Sorry, I can not talk about that now.\")\n",
    "\n",
    "\n",
    "def upper_case_response(response: Message):\n",
    "    # wrapper for internal response function\n",
    "    def func(_: Context, __: Pipeline, *args, **kwargs) -> Message:\n",
    "        if response.text is not None:\n",
    "            response.text = response.text.upper()\n",
    "        return response\n",
    "\n",
    "    return func\n",
    "\n",
    "\n",
    "def fallback_trace_response(ctx: Context, _: Pipeline, *args, **kwargs) -> Message:\n",
    "    return Message(\n",
    "        misc={\n",
    "            \"previous_node\": list(ctx.labels.values())[-2],\n",
    "            \"last_request\": ctx.last_request,\n",
    "        }\n",
    "    )"
   ]
  },
  {
   "cell_type": "code",
   "execution_count": 4,
   "id": "7a6602ee",
   "metadata": {
    "execution": {
     "iopub.execute_input": "2023-04-07T10:58:25.999251Z",
     "iopub.status.busy": "2023-04-07T10:58:25.999036Z",
     "iopub.status.idle": "2023-04-07T10:58:26.011830Z",
     "shell.execute_reply": "2023-04-07T10:58:26.011231Z"
    }
   },
   "outputs": [],
   "source": [
    "toy_script = {\n",
    "    \"greeting_flow\": {\n",
    "        \"start_node\": {  # This is an initial node,\n",
    "            # it doesn't need a `RESPONSE`.\n",
    "            RESPONSE: Message(),\n",
    "            TRANSITIONS: {\"node1\": cnd.exact_match(Message(text=\"Hi\"))},\n",
    "            # If \"Hi\" == request of user then we make the transition\n",
    "        },\n",
    "        \"node1\": {\n",
    "            RESPONSE: rsp.choice(\n",
    "                [Message(text=\"Hi, what is up?\"), Message(text=\"Hello, how are you?\")]\n",
    "            ),\n",
    "            # Random choice from candidate list.\n",
    "            TRANSITIONS: {\"node2\": cnd.exact_match(Message(text=\"I'm fine, how are you?\"))},\n",
    "        },\n",
    "        \"node2\": {\n",
    "            RESPONSE: Message(text=\"Good. What do you want to talk about?\"),\n",
    "            TRANSITIONS: {\"node3\": cnd.exact_match(Message(text=\"Let's talk about music.\"))},\n",
    "        },\n",
    "        \"node3\": {\n",
    "            RESPONSE: cannot_talk_about_topic_response,\n",
    "            TRANSITIONS: {\"node4\": cnd.exact_match(Message(text=\"Ok, goodbye.\"))},\n",
    "        },\n",
    "        \"node4\": {\n",
    "            RESPONSE: upper_case_response(Message(text=\"bye\")),\n",
    "            TRANSITIONS: {\"node1\": cnd.exact_match(Message(text=\"Hi\"))},\n",
    "        },\n",
    "        \"fallback_node\": {  # We get to this node\n",
    "            # if an error occurred while the agent was running.\n",
    "            RESPONSE: fallback_trace_response,\n",
    "            TRANSITIONS: {\"node1\": cnd.exact_match(Message(text=\"Hi\"))},\n",
    "        },\n",
    "    }\n",
    "}\n",
    "\n",
    "# testing\n",
    "happy_path = (\n",
    "    (Message(text=\"Hi\"), Message(text=\"Hello, how are you?\")),  # start_node -> node1\n",
    "    (\n",
    "        Message(text=\"I'm fine, how are you?\"),\n",
    "        Message(text=\"Good. What do you want to talk about?\"),\n",
    "    ),  # node1 -> node2\n",
    "    (\n",
    "        Message(text=\"Let's talk about music.\"),\n",
    "        Message(text=\"Sorry, I can not talk about music now.\"),\n",
    "    ),  # node2 -> node3\n",
    "    (Message(text=\"Ok, goodbye.\"), Message(text=\"BYE\")),  # node3 -> node4\n",
    "    (Message(text=\"Hi\"), Message(text=\"Hi, what is up?\")),  # node4 -> node1\n",
    "    (\n",
    "        Message(text=\"stop\"),\n",
    "        Message(\n",
    "            misc={\"previous_node\": (\"greeting_flow\", \"node1\"), \"last_request\": Message(text=\"stop\")}\n",
    "        ),\n",
    "    ),\n",
    "    # node1 -> fallback_node\n",
    "    (\n",
    "        Message(text=\"one\"),\n",
    "        Message(\n",
    "            misc={\n",
    "                \"previous_node\": (\"greeting_flow\", \"fallback_node\"),\n",
    "                \"last_request\": Message(text=\"one\"),\n",
    "            }\n",
    "        ),\n",
    "    ),  # f_n->f_n\n",
    "    (\n",
    "        Message(text=\"help\"),\n",
    "        Message(\n",
    "            misc={\n",
    "                \"previous_node\": (\"greeting_flow\", \"fallback_node\"),\n",
    "                \"last_request\": Message(text=\"help\"),\n",
    "            }\n",
    "        ),\n",
    "    ),  # f_n->f_n\n",
    "    (\n",
    "        Message(text=\"nope\"),\n",
    "        Message(\n",
    "            misc={\n",
    "                \"previous_node\": (\"greeting_flow\", \"fallback_node\"),\n",
    "                \"last_request\": Message(text=\"nope\"),\n",
    "            }\n",
    "        ),\n",
    "    ),  # f_n->f_n\n",
    "    (Message(text=\"Hi\"), Message(text=\"Hello, how are you?\")),  # fallback_node -> node1\n",
    "    (\n",
    "        Message(text=\"I'm fine, how are you?\"),\n",
    "        Message(text=\"Good. What do you want to talk about?\"),\n",
    "    ),  # node1 -> node2\n",
    "    (\n",
    "        Message(text=\"Let's talk about music.\"),\n",
    "        Message(text=\"Sorry, I can not talk about music now.\"),\n",
    "    ),  # node2 -> node3\n",
    "    (Message(text=\"Ok, goodbye.\"), Message(text=\"BYE\")),  # node3 -> node4\n",
    ")"
   ]
  },
  {
   "cell_type": "code",
   "execution_count": 5,
   "id": "58725d83",
   "metadata": {
    "execution": {
     "iopub.execute_input": "2023-04-07T10:58:26.014771Z",
     "iopub.status.busy": "2023-04-07T10:58:26.014223Z",
     "iopub.status.idle": "2023-04-07T10:58:26.036723Z",
     "shell.execute_reply": "2023-04-07T10:58:26.035997Z"
    },
    "lines_to_next_cell": 2
   },
   "outputs": [
    {
     "name": "stdout",
     "output_type": "stream",
     "text": [
      "(user) >>> text='Hi'\n",
      " (bot) <<< text='Hello, how are you?'\n",
      "(user) >>> text='I'm fine, how are you?'\n",
      " (bot) <<< text='Good. What do you want to talk about?'\n",
      "(user) >>> text='Let's talk about music.'\n",
      " (bot) <<< text='Sorry, I can not talk about music now.'\n",
      "(user) >>> text='Ok, goodbye.'\n",
      " (bot) <<< text='BYE'\n",
      "(user) >>> text='Hi'\n",
      " (bot) <<< text='Hi, what is up?'\n",
      "(user) >>> text='stop'\n",
      " (bot) <<< misc='{'previous_node': ('greeting_flow', 'node1'), 'last_request': {'text': 'stop'}}'\n",
      "(user) >>> text='one'\n",
      " (bot) <<< misc='{'previous_node': ('greeting_flow', 'fallback_node'), 'last_request': {'text': 'one'}}'\n",
      "(user) >>> text='help'\n",
      " (bot) <<< misc='{'previous_node': ('greeting_flow', 'fallback_node'), 'last_request': {'text': 'help'}}'\n",
      "(user) >>> text='nope'\n",
      " (bot) <<< misc='{'previous_node': ('greeting_flow', 'fallback_node'), 'last_request': {'text': 'nope'}}'\n",
      "(user) >>> text='Hi'\n",
      " (bot) <<< text='Hello, how are you?'\n",
      "(user) >>> text='I'm fine, how are you?'\n",
      " (bot) <<< text='Good. What do you want to talk about?'\n",
      "(user) >>> text='Let's talk about music.'\n",
      " (bot) <<< text='Sorry, I can not talk about music now.'\n",
      "(user) >>> text='Ok, goodbye.'\n",
      " (bot) <<< text='BYE'\n"
     ]
    }
   ],
   "source": [
    "random.seed(31415)  # predestination of choice\n",
    "\n",
    "\n",
    "pipeline = Pipeline.from_script(\n",
    "    toy_script,\n",
    "    start_label=(\"greeting_flow\", \"start_node\"),\n",
    "    fallback_label=(\"greeting_flow\", \"fallback_node\"),\n",
    ")\n",
    "\n",
    "if __name__ == \"__main__\":\n",
    "    check_happy_path(pipeline, happy_path)\n",
    "    if is_interactive_mode():\n",
    "        run_interactive_mode(pipeline)"
   ]
  }
 ],
 "metadata": {
  "jupytext": {
   "cell_metadata_filter": "-all",
   "main_language": "python",
   "notebook_metadata_filter": "-all",
   "text_representation": {
    "extension": ".py",
    "format_name": "percent"
   }
  },
  "language_info": {
   "codemirror_mode": {
    "name": "ipython",
    "version": 3
   },
   "file_extension": ".py",
   "mimetype": "text/x-python",
   "name": "python",
   "nbconvert_exporter": "python",
   "pygments_lexer": "ipython3",
   "version": "3.9.16"
  }
 },
 "nbformat": 4,
 "nbformat_minor": 5
}
