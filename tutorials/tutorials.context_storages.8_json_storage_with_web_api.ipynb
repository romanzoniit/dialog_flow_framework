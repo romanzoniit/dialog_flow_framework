{
 "cells": [
  {
   "cell_type": "markdown",
   "id": "3c295ff0",
   "metadata": {
    "cell_marker": "\"\"\""
   },
   "source": [
    "# 8. JSON storage with web API\n",
    "\n",
    "This is a tutorial on using JSON with web API."
   ]
  },
  {
   "cell_type": "markdown",
   "id": "8dccd8d9",
   "metadata": {
    "cell_marker": "\"\"\""
   },
   "source": [
    "__Installing dependencies__"
   ]
  },
  {
   "cell_type": "code",
   "execution_count": 1,
   "id": "0f7efb31",
   "metadata": {
    "execution": {
     "iopub.execute_input": "2023-04-07T10:56:57.435986Z",
     "iopub.status.busy": "2023-04-07T10:56:57.435213Z",
     "iopub.status.idle": "2023-04-07T10:56:58.363265Z",
     "shell.execute_reply": "2023-04-07T10:56:58.362487Z"
    },
    "lines_to_next_cell": 2
   },
   "outputs": [
    {
     "name": "stdout",
     "output_type": "stream",
     "text": [
      "\u001b[33mWARNING: dff 0.3.2 does not provide the extra 'tutorials'\u001b[0m\u001b[33m\r\n",
      "\u001b[0m"
     ]
    }
   ],
   "source": [
    "!python3 -m pip install -q dff[tutorials]\n",
    "# Installs dff with dependencies for running tutorials\n",
    "# To install the minimal version of dff, use `pip install dff`\n",
    "# To install other options of dff, use `pip install dff[OPTION_NAME1,OPTION_NAME2]`\n",
    "# where OPTION_NAME can be one of the options from EXTRA_DEPENDENCIES.\n",
    "# e.g `pip install dff[ydb, mysql]` installs dff with dependencies for using Yandex Database and MySQL\n",
    "# EXTRA_DEPENDENCIES can be found in\n",
    "# https://github.com/deeppavlov/dialog_flow_framework/blob/dev/setup.py#L155"
   ]
  },
  {
   "cell_type": "markdown",
   "id": "f95a87d2",
   "metadata": {
    "cell_marker": "\"\"\"",
    "lines_to_next_cell": 2
   },
   "source": [
    "__Running tutorial__"
   ]
  },
  {
   "cell_type": "code",
   "execution_count": 2,
   "id": "c5e98d6c",
   "metadata": {
    "execution": {
     "iopub.execute_input": "2023-04-07T10:56:58.366954Z",
     "iopub.status.busy": "2023-04-07T10:56:58.366561Z",
     "iopub.status.idle": "2023-04-07T10:56:59.074562Z",
     "shell.execute_reply": "2023-04-07T10:56:59.073735Z"
    },
    "lines_to_next_cell": 2
   },
   "outputs": [],
   "source": [
    "import pathlib\n",
    "\n",
    "from dff.context_storages import context_storage_factory\n",
    "\n",
    "from dff.pipeline import Pipeline\n",
    "from dff.utils.testing.common import check_happy_path, is_interactive_mode\n",
    "from dff.utils.testing.toy_script import TOY_SCRIPT, HAPPY_PATH\n",
    "\n",
    "from flask import Flask, request"
   ]
  },
  {
   "cell_type": "code",
   "execution_count": 3,
   "id": "0aae9535",
   "metadata": {
    "execution": {
     "iopub.execute_input": "2023-04-07T10:56:59.078283Z",
     "iopub.status.busy": "2023-04-07T10:56:59.077596Z",
     "iopub.status.idle": "2023-04-07T10:56:59.086668Z",
     "shell.execute_reply": "2023-04-07T10:56:59.085950Z"
    }
   },
   "outputs": [],
   "source": [
    "app = Flask(__name__)\n",
    "\n",
    "pathlib.Path(\"dbs\").mkdir(exist_ok=True)\n",
    "db = context_storage_factory(\"json://dbs/file.json\")\n",
    "\n",
    "\n",
    "@app.route(\"/chat\", methods=[\"GET\", \"POST\"])\n",
    "def respond():\n",
    "    user_id = str(request.values.get(\"id\"))\n",
    "    user_message = str(request.values.get(\"message\"))\n",
    "    context = pipeline(user_message, user_id)\n",
    "    return {\"response\": str(context.last_response)}"
   ]
  },
  {
   "cell_type": "code",
   "execution_count": 4,
   "id": "7d0c9750",
   "metadata": {
    "execution": {
     "iopub.execute_input": "2023-04-07T10:56:59.089834Z",
     "iopub.status.busy": "2023-04-07T10:56:59.089215Z",
     "iopub.status.idle": "2023-04-07T10:56:59.095348Z",
     "shell.execute_reply": "2023-04-07T10:56:59.094811Z"
    },
    "lines_to_next_cell": 2
   },
   "outputs": [],
   "source": [
    "pipeline = Pipeline.from_script(\n",
    "    TOY_SCRIPT,\n",
    "    context_storage=db,\n",
    "    start_label=(\"greeting_flow\", \"start_node\"),\n",
    "    fallback_label=(\"greeting_flow\", \"fallback_node\"),\n",
    ")"
   ]
  },
  {
   "cell_type": "code",
   "execution_count": 5,
   "id": "7f2feeeb",
   "metadata": {
    "execution": {
     "iopub.execute_input": "2023-04-07T10:56:59.098114Z",
     "iopub.status.busy": "2023-04-07T10:56:59.097500Z",
     "iopub.status.idle": "2023-04-07T10:56:59.119813Z",
     "shell.execute_reply": "2023-04-07T10:56:59.119270Z"
    },
    "lines_to_next_cell": 2
   },
   "outputs": [
    {
     "name": "stdout",
     "output_type": "stream",
     "text": [
      "(user) >>> text='Hi'\n",
      " (bot) <<< text='Hi, how are you?'\n",
      "(user) >>> text='i'm fine, how are you?'\n",
      " (bot) <<< text='Good. What do you want to talk about?'\n",
      "(user) >>> text='Let's talk about music.'\n",
      " (bot) <<< text='Sorry, I can not talk about music now.'\n",
      "(user) >>> text='Ok, goodbye.'\n",
      " (bot) <<< text='bye'\n",
      "(user) >>> text='Hi'\n",
      " (bot) <<< text='Hi, how are you?'\n"
     ]
    }
   ],
   "source": [
    "if __name__ == \"__main__\":\n",
    "    check_happy_path(pipeline, HAPPY_PATH)\n",
    "    if is_interactive_mode():\n",
    "        app.run(\n",
    "            host=\"0.0.0.0\", port=5000, debug=True\n",
    "        )  # This runs tutorial in interactive mode (via flask, as a web server)"
   ]
  }
 ],
 "metadata": {
  "jupytext": {
   "cell_metadata_filter": "-all",
   "main_language": "python",
   "notebook_metadata_filter": "-all",
   "text_representation": {
    "extension": ".py",
    "format_name": "percent"
   }
  },
  "language_info": {
   "codemirror_mode": {
    "name": "ipython",
    "version": 3
   },
   "file_extension": ".py",
   "mimetype": "text/x-python",
   "name": "python",
   "nbconvert_exporter": "python",
   "pygments_lexer": "ipython3",
   "version": "3.9.16"
  }
 },
 "nbformat": 4,
 "nbformat_minor": 5
}
