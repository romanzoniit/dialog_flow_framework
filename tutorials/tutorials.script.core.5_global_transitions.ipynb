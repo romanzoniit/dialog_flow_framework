{
 "cells": [
  {
   "cell_type": "markdown",
   "id": "c6ec583d",
   "metadata": {
    "cell_marker": "\"\"\"",
    "lines_to_next_cell": 2
   },
   "source": [
    "# Core: 5. Global transitions\n",
    "\n",
    "This tutorial shows the global setting of transitions.\n",
    "First of all, let's do all the necessary imports from DFF."
   ]
  },
  {
   "cell_type": "markdown",
   "id": "5526a137",
   "metadata": {
    "cell_marker": "\"\"\""
   },
   "source": [
    "__Installing dependencies__"
   ]
  },
  {
   "cell_type": "code",
   "execution_count": 1,
   "id": "55725e27",
   "metadata": {
    "execution": {
     "iopub.execute_input": "2023-04-07T10:58:31.653565Z",
     "iopub.status.busy": "2023-04-07T10:58:31.653074Z",
     "iopub.status.idle": "2023-04-07T10:58:32.586953Z",
     "shell.execute_reply": "2023-04-07T10:58:32.586146Z"
    },
    "lines_to_next_cell": 2
   },
   "outputs": [
    {
     "name": "stdout",
     "output_type": "stream",
     "text": [
      "\u001b[33mWARNING: dff 0.3.2 does not provide the extra 'tutorials'\u001b[0m\u001b[33m\r\n",
      "\u001b[0m"
     ]
    }
   ],
   "source": [
    "!python3 -m pip install -q dff[tutorials]\n",
    "# Installs dff with dependencies for running tutorials\n",
    "# To install the minimal version of dff, use `pip install dff`\n",
    "# To install other options of dff, use `pip install dff[OPTION_NAME1,OPTION_NAME2]`\n",
    "# where OPTION_NAME can be one of the options from EXTRA_DEPENDENCIES.\n",
    "# e.g `pip install dff[ydb, mysql]` installs dff with dependencies for using Yandex Database and MySQL\n",
    "# EXTRA_DEPENDENCIES can be found in\n",
    "# https://github.com/deeppavlov/dialog_flow_framework/blob/dev/setup.py#L155"
   ]
  },
  {
   "cell_type": "markdown",
   "id": "dd870ca7",
   "metadata": {
    "cell_marker": "\"\"\"",
    "lines_to_next_cell": 2
   },
   "source": [
    "__Running tutorial__"
   ]
  },
  {
   "cell_type": "code",
   "execution_count": 2,
   "id": "7bb26242",
   "metadata": {
    "execution": {
     "iopub.execute_input": "2023-04-07T10:58:32.590281Z",
     "iopub.status.busy": "2023-04-07T10:58:32.589948Z",
     "iopub.status.idle": "2023-04-07T10:58:33.217919Z",
     "shell.execute_reply": "2023-04-07T10:58:33.217212Z"
    }
   },
   "outputs": [],
   "source": [
    "import re\n",
    "\n",
    "from dff.script import GLOBAL, TRANSITIONS, RESPONSE, Message\n",
    "import dff.script.conditions as cnd\n",
    "import dff.script.labels as lbl\n",
    "from dff.pipeline import Pipeline\n",
    "from dff.utils.testing.common import (\n",
    "    check_happy_path,\n",
    "    is_interactive_mode,\n",
    "    run_interactive_mode,\n",
    ")"
   ]
  },
  {
   "cell_type": "markdown",
   "id": "2cdb64f2",
   "metadata": {
    "cell_marker": "\"\"\""
   },
   "source": [
    "The keyword `GLOBAL` is used to define a global node.\n",
    "There can be only one global node in a script.\n",
    "The value that corresponds to this key has the\n",
    "`dict` type with the same keywords as regular nodes.\n",
    "The global node is defined above the flow level as opposed to regular nodes.\n",
    "This node allows to define default global values for all nodes.\n",
    "\n",
    "There are `GLOBAL` node and three flows:\n",
    "`global_flow`, `greeting_flow`, `music_flow`."
   ]
  },
  {
   "cell_type": "code",
   "execution_count": 3,
   "id": "523ce8e3",
   "metadata": {
    "execution": {
     "iopub.execute_input": "2023-04-07T10:58:33.221321Z",
     "iopub.status.busy": "2023-04-07T10:58:33.220952Z",
     "iopub.status.idle": "2023-04-07T10:58:33.249440Z",
     "shell.execute_reply": "2023-04-07T10:58:33.248809Z"
    }
   },
   "outputs": [],
   "source": [
    "toy_script = {\n",
    "    GLOBAL: {\n",
    "        TRANSITIONS: {\n",
    "            (\"greeting_flow\", \"node1\", 1.1): cnd.regexp(r\"\\b(hi|hello)\\b\", re.I),  # first check\n",
    "            (\"music_flow\", \"node1\", 1.1): cnd.regexp(r\"talk about music\"),  # second check\n",
    "            lbl.to_fallback(0.1): cnd.true(),  # fifth check\n",
    "            lbl.forward(): cnd.all(\n",
    "                [\n",
    "                    cnd.regexp(r\"next\\b\"),\n",
    "                    cnd.has_last_labels(labels=[(\"music_flow\", i) for i in [\"node2\", \"node3\"]]),\n",
    "                ]  # third check\n",
    "            ),\n",
    "            lbl.repeat(0.2): cnd.all(\n",
    "                [\n",
    "                    cnd.regexp(r\"repeat\", re.I),\n",
    "                    cnd.negation(cnd.has_last_labels(flow_labels=[\"global_flow\"])),\n",
    "                ]  # fourth check\n",
    "            ),\n",
    "        }\n",
    "    },\n",
    "    \"global_flow\": {\n",
    "        \"start_node\": {\n",
    "            RESPONSE: Message()\n",
    "        },  # This is an initial node, it doesn't need a `RESPONSE`.\n",
    "        \"fallback_node\": {  # We get to this node\n",
    "            # if an error occurred while the agent was running.\n",
    "            RESPONSE: Message(text=\"Ooops\"),\n",
    "            TRANSITIONS: {lbl.previous(): cnd.regexp(r\"previous\", re.I)},\n",
    "            # lbl.previous() is equivalent to\n",
    "            # (\"previous_flow\", \"previous_node\", 1.0)\n",
    "        },\n",
    "    },\n",
    "    \"greeting_flow\": {\n",
    "        \"node1\": {\n",
    "            RESPONSE: Message(text=\"Hi, how are you?\"),\n",
    "            TRANSITIONS: {\"node2\": cnd.regexp(r\"how are you\")},\n",
    "            # \"node2\" is equivalent to (\"greeting_flow\", \"node2\", 1.0)\n",
    "        },\n",
    "        \"node2\": {\n",
    "            RESPONSE: Message(text=\"Good. What do you want to talk about?\"),\n",
    "            TRANSITIONS: {\n",
    "                lbl.forward(0.5): cnd.regexp(r\"talk about\"),\n",
    "                # lbl.forward(0.5) is equivalent to\n",
    "                # (\"greeting_flow\", \"node3\", 0.5)\n",
    "                lbl.previous(): cnd.regexp(r\"previous\", re.I),\n",
    "            },\n",
    "        },\n",
    "        \"node3\": {\n",
    "            RESPONSE: Message(text=\"Sorry, I can not talk about that now.\"),\n",
    "            TRANSITIONS: {lbl.forward(): cnd.regexp(r\"bye\")},\n",
    "        },\n",
    "        \"node4\": {RESPONSE: Message(text=\"bye\")},\n",
    "        # Only the global transitions setting are used in this node.\n",
    "    },\n",
    "    \"music_flow\": {\n",
    "        \"node1\": {\n",
    "            RESPONSE: Message(\n",
    "                text=\"I love `System of a Down` group, would you like to talk about it?\"\n",
    "            ),\n",
    "            TRANSITIONS: {lbl.forward(): cnd.regexp(r\"yes|yep|ok\", re.I)},\n",
    "        },\n",
    "        \"node2\": {\n",
    "            RESPONSE: Message(\n",
    "                text=\"System of a Down is an Armenian-American heavy metal band formed in 1994.\"\n",
    "            )\n",
    "            # Only the global transitions setting are used in this node.\n",
    "        },\n",
    "        \"node3\": {\n",
    "            RESPONSE: Message(\n",
    "                text=\"The band achieved commercial success with the release of five studio albums.\"\n",
    "            ),\n",
    "            TRANSITIONS: {lbl.backward(): cnd.regexp(r\"back\", re.I)},\n",
    "        },\n",
    "        \"node4\": {\n",
    "            RESPONSE: Message(text=\"That's all what I know.\"),\n",
    "            TRANSITIONS: {\n",
    "                (\"greeting_flow\", \"node4\"): cnd.regexp(r\"next time\", re.I),\n",
    "                (\"greeting_flow\", \"node2\"): cnd.regexp(r\"next\", re.I),\n",
    "            },\n",
    "        },\n",
    "    },\n",
    "}\n",
    "\n",
    "# testing\n",
    "happy_path = (\n",
    "    (Message(text=\"hi\"), Message(text=\"Hi, how are you?\")),\n",
    "    (Message(text=\"i'm fine, how are you?\"), Message(text=\"Good. What do you want to talk about?\")),\n",
    "    (\n",
    "        Message(text=\"talk about music.\"),\n",
    "        Message(text=\"I love `System of a Down` group, would you like to talk about it?\"),\n",
    "    ),\n",
    "    (\n",
    "        Message(text=\"yes\"),\n",
    "        Message(text=\"System of a Down is an Armenian-American heavy metal band formed in 1994.\"),\n",
    "    ),\n",
    "    (\n",
    "        Message(text=\"next\"),\n",
    "        Message(\n",
    "            text=\"The band achieved commercial success with the release of five studio albums.\"\n",
    "        ),\n",
    "    ),\n",
    "    (\n",
    "        Message(text=\"back\"),\n",
    "        Message(text=\"System of a Down is an Armenian-American heavy metal band formed in 1994.\"),\n",
    "    ),\n",
    "    (\n",
    "        Message(text=\"repeat\"),\n",
    "        Message(text=\"System of a Down is an Armenian-American heavy metal band formed in 1994.\"),\n",
    "    ),\n",
    "    (\n",
    "        Message(text=\"next\"),\n",
    "        Message(\n",
    "            text=\"The band achieved commercial success with the release of five studio albums.\"\n",
    "        ),\n",
    "    ),\n",
    "    (Message(text=\"next\"), Message(text=\"That's all what I know.\")),\n",
    "    (Message(text=\"next\"), Message(text=\"Good. What do you want to talk about?\")),\n",
    "    (Message(text=\"previous\"), Message(text=\"That's all what I know.\")),\n",
    "    (Message(text=\"next time\"), Message(text=\"bye\")),\n",
    "    (Message(text=\"stop\"), Message(text=\"Ooops\")),\n",
    "    (Message(text=\"previous\"), Message(text=\"bye\")),\n",
    "    (Message(text=\"stop\"), Message(text=\"Ooops\")),\n",
    "    (Message(text=\"nope\"), Message(text=\"Ooops\")),\n",
    "    (Message(text=\"hi\"), Message(text=\"Hi, how are you?\")),\n",
    "    (Message(text=\"stop\"), Message(text=\"Ooops\")),\n",
    "    (Message(text=\"previous\"), Message(text=\"Hi, how are you?\")),\n",
    "    (Message(text=\"i'm fine, how are you?\"), Message(text=\"Good. What do you want to talk about?\")),\n",
    "    (\n",
    "        Message(text=\"let's talk about something.\"),\n",
    "        Message(text=\"Sorry, I can not talk about that now.\"),\n",
    "    ),\n",
    "    (Message(text=\"Ok, goodbye.\"), Message(text=\"bye\")),\n",
    ")"
   ]
  },
  {
   "cell_type": "code",
   "execution_count": 4,
   "id": "0d86a9ab",
   "metadata": {
    "execution": {
     "iopub.execute_input": "2023-04-07T10:58:33.252800Z",
     "iopub.status.busy": "2023-04-07T10:58:33.252084Z",
     "iopub.status.idle": "2023-04-07T10:58:33.297343Z",
     "shell.execute_reply": "2023-04-07T10:58:33.296477Z"
    },
    "lines_to_next_cell": 2
   },
   "outputs": [
    {
     "name": "stdout",
     "output_type": "stream",
     "text": [
      "(user) >>> text='hi'\n",
      " (bot) <<< text='Hi, how are you?'\n",
      "(user) >>> text='i'm fine, how are you?'\n",
      " (bot) <<< text='Good. What do you want to talk about?'\n",
      "(user) >>> text='talk about music.'\n",
      " (bot) <<< text='I love `System of a Down` group, would you like to talk about it?'\n",
      "(user) >>> text='yes'\n",
      " (bot) <<< text='System of a Down is an Armenian-American heavy metal band formed in 1994.'\n",
      "(user) >>> text='next'\n",
      " (bot) <<< text='The band achieved commercial success with the release of five studio albums.'\n",
      "(user) >>> text='back'\n",
      " (bot) <<< text='System of a Down is an Armenian-American heavy metal band formed in 1994.'\n",
      "(user) >>> text='repeat'\n",
      " (bot) <<< text='System of a Down is an Armenian-American heavy metal band formed in 1994.'\n",
      "(user) >>> text='next'\n",
      " (bot) <<< text='The band achieved commercial success with the release of five studio albums.'\n",
      "(user) >>> text='next'\n",
      " (bot) <<< text='That's all what I know.'\n",
      "(user) >>> text='next'\n",
      " (bot) <<< text='Good. What do you want to talk about?'\n",
      "(user) >>> text='previous'\n",
      " (bot) <<< text='That's all what I know.'\n",
      "(user) >>> text='next time'\n",
      " (bot) <<< text='bye'\n",
      "(user) >>> text='stop'\n",
      " (bot) <<< text='Ooops'\n",
      "(user) >>> text='previous'\n",
      " (bot) <<< text='bye'\n",
      "(user) >>> text='stop'\n",
      " (bot) <<< text='Ooops'\n",
      "(user) >>> text='nope'\n",
      " (bot) <<< text='Ooops'\n",
      "(user) >>> text='hi'\n",
      " (bot) <<< text='Hi, how are you?'\n",
      "(user) >>> text='stop'\n",
      " (bot) <<< text='Ooops'\n",
      "(user) >>> text='previous'\n",
      " (bot) <<< text='Hi, how are you?'\n",
      "(user) >>> text='i'm fine, how are you?'\n",
      " (bot) <<< text='Good. What do you want to talk about?'\n",
      "(user) >>> text='let's talk about something.'\n",
      " (bot) <<< text='Sorry, I can not talk about that now.'\n",
      "(user) >>> text='Ok, goodbye.'\n",
      " (bot) <<< text='bye'\n"
     ]
    }
   ],
   "source": [
    "pipeline = Pipeline.from_script(\n",
    "    toy_script,\n",
    "    start_label=(\"global_flow\", \"start_node\"),\n",
    "    fallback_label=(\"global_flow\", \"fallback_node\"),\n",
    ")\n",
    "\n",
    "if __name__ == \"__main__\":\n",
    "    check_happy_path(pipeline, happy_path)\n",
    "    if is_interactive_mode():\n",
    "        run_interactive_mode(pipeline)"
   ]
  }
 ],
 "metadata": {
  "jupytext": {
   "cell_metadata_filter": "-all",
   "main_language": "python",
   "notebook_metadata_filter": "-all",
   "text_representation": {
    "extension": ".py",
    "format_name": "percent"
   }
  },
  "language_info": {
   "codemirror_mode": {
    "name": "ipython",
    "version": 3
   },
   "file_extension": ".py",
   "mimetype": "text/x-python",
   "name": "python",
   "nbconvert_exporter": "python",
   "pygments_lexer": "ipython3",
   "version": "3.9.16"
  }
 },
 "nbformat": 4,
 "nbformat_minor": 5
}
