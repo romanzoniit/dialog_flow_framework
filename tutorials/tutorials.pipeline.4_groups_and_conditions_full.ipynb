{
 "cells": [
  {
   "cell_type": "markdown",
   "id": "d95baa10",
   "metadata": {
    "cell_marker": "\"\"\""
   },
   "source": [
    "# 4. Groups and conditions (full)\n",
    "\n",
    "The following tutorial shows `pipeline` service group usage and start conditions."
   ]
  },
  {
   "cell_type": "markdown",
   "id": "da8a926c",
   "metadata": {
    "cell_marker": "\"\"\""
   },
   "source": [
    "__Installing dependencies__"
   ]
  },
  {
   "cell_type": "code",
   "execution_count": 1,
   "id": "d6fca810",
   "metadata": {
    "execution": {
     "iopub.execute_input": "2023-04-07T10:57:46.954081Z",
     "iopub.status.busy": "2023-04-07T10:57:46.953725Z",
     "iopub.status.idle": "2023-04-07T10:57:47.879786Z",
     "shell.execute_reply": "2023-04-07T10:57:47.878980Z"
    },
    "lines_to_next_cell": 2
   },
   "outputs": [
    {
     "name": "stdout",
     "output_type": "stream",
     "text": [
      "\u001b[33mWARNING: dff 0.3.2 does not provide the extra 'tutorials'\u001b[0m\u001b[33m\r\n",
      "\u001b[0m"
     ]
    }
   ],
   "source": [
    "!python3 -m pip install -q dff[tutorials]\n",
    "# Installs dff with dependencies for running tutorials\n",
    "# To install the minimal version of dff, use `pip install dff`\n",
    "# To install other options of dff, use `pip install dff[OPTION_NAME1,OPTION_NAME2]`\n",
    "# where OPTION_NAME can be one of the options from EXTRA_DEPENDENCIES.\n",
    "# e.g `pip install dff[ydb, mysql]` installs dff with dependencies for using Yandex Database and MySQL\n",
    "# EXTRA_DEPENDENCIES can be found in\n",
    "# https://github.com/deeppavlov/dialog_flow_framework/blob/dev/setup.py#L155"
   ]
  },
  {
   "cell_type": "markdown",
   "id": "7291b13d",
   "metadata": {
    "cell_marker": "\"\"\"",
    "lines_to_next_cell": 2
   },
   "source": [
    "__Running tutorial__"
   ]
  },
  {
   "cell_type": "code",
   "execution_count": 2,
   "id": "25013d83",
   "metadata": {
    "execution": {
     "iopub.execute_input": "2023-04-07T10:57:47.883542Z",
     "iopub.status.busy": "2023-04-07T10:57:47.882982Z",
     "iopub.status.idle": "2023-04-07T10:57:48.516235Z",
     "shell.execute_reply": "2023-04-07T10:57:48.515160Z"
    },
    "lines_to_next_cell": 2
   },
   "outputs": [],
   "source": [
    "import json\n",
    "import logging\n",
    "\n",
    "from dff.pipeline import (\n",
    "    Service,\n",
    "    Pipeline,\n",
    "    ServiceGroup,\n",
    "    not_condition,\n",
    "    service_successful_condition,\n",
    "    all_condition,\n",
    "    ServiceRuntimeInfo,\n",
    "    ACTOR,\n",
    ")\n",
    "\n",
    "from dff.utils.testing.common import (\n",
    "    check_happy_path,\n",
    "    is_interactive_mode,\n",
    "    run_interactive_mode,\n",
    ")\n",
    "from dff.utils.testing.toy_script import HAPPY_PATH, TOY_SCRIPT\n",
    "\n",
    "logger = logging.getLogger(__name__)"
   ]
  },
  {
   "cell_type": "markdown",
   "id": "72c069f6",
   "metadata": {
    "cell_marker": "\"\"\""
   },
   "source": [
    "Pipeline can contain not only single services, but also service groups.\n",
    "Service groups can be defined as lists of `ServiceBuilders`\n",
    "    (in fact, all of the pipeline services are combined\n",
    "    into root service group named \"pipeline\").\n",
    "Alternatively, the groups can be defined as objects\n",
    "    with following constructor arguments:\n",
    "\n",
    "* `components` (required) - A list of ServiceBuilder objects,\n",
    "    ServiceGroup objects and lists of them.\n",
    "* `wrappers` - A list of pipeline wrappers, see tutorial 7.\n",
    "* `timeout` - Pipeline timeout, see tutorial 5.\n",
    "* `asynchronous` - Whether or not this service group _should_ be asynchronous\n",
    "    (keep in mind that not all service groups _can_ be asynchronous),\n",
    "    see tutorial 5.\n",
    "* `start_condition` - Service group start condition.\n",
    "* `name` - Custom defined name for the service group\n",
    "    (keep in mind that names in one ServiceGroup should be unique).\n",
    "\n",
    "Service (and service group) object fields\n",
    "are mostly the same as constructor parameters,\n",
    "however there are some differences:\n",
    "\n",
    "* `requested_async_flag` - Contains the value received\n",
    "    from `asynchronous` constructor parameter.\n",
    "* `calculated_async_flag` - Contains automatically calculated\n",
    "    possibility of the service to be asynchronous.\n",
    "* `asynchronous` - Combination af `..._async_flag` fields,\n",
    "    requested value overrides calculated (if not `None`),\n",
    "    see tutorial 5.\n",
    "* `path` - Contains globally unique (for pipeline)\n",
    "    path to the service or service group.\n",
    "\n",
    "If no name is specified for a service or service group,\n",
    "    the name will be generated according to the following rules:\n",
    "\n",
    "1. If service's handler is an Actor, service will be named 'actor'.\n",
    "2. If service's handler is callable,\n",
    "    service will be named callable.\n",
    "3. Service group will be named 'service_group'.\n",
    "4. Otherwise, it will be named 'noname_service'.\n",
    "5. After that an index will be added to service name.\n",
    "\n",
    "To receive serialized information about service, service group\n",
    "or pipeline a property `info_dict` can be used,\n",
    "it returns important object properties as a dict.\n",
    "In addition to that `pretty_format` method of Pipeline\n",
    "can be used to get all pipeline properties as a formatted string\n",
    "(e.g. for logging or debugging purposes).\n",
    "\n",
    "Services and service groups can be executed conditionally.\n",
    "Conditions are functions passed to `start_condition` argument.\n",
    "These functions should have following signature:\n",
    "\n",
    "    (ctx: Context, pipeline: Pipeline) -> bool.\n",
    "\n",
    "Service is only executed if its start_condition returned `True`.\n",
    "By default all the services start unconditionally.\n",
    "There are number of built-in condition functions as well\n",
    "as possibility to create custom ones.\n",
    "Custom condition functions can rely on data in `ctx.misc`\n",
    "as well as on any external data source.\n",
    "Built-in condition functions check other service states.\n",
    "All of the services store their execution status in context,\n",
    "    this status can be one of the following:\n",
    "\n",
    "* `NOT_RUN` - Service hasn't bee executed yet.\n",
    "* `RUNNING` - Service is currently being executed\n",
    "    (important for asynchronous services).\n",
    "* `FINISHED` - Service finished successfully.\n",
    "* `FAILED` - Service execution failed (that also throws an exception).\n",
    "\n",
    "There are following built-in condition functions:\n",
    "\n",
    "* `always_start_condition` - Default condition function,\n",
    "    always starts service.\n",
    "* `service_successful_condition(path)` -\n",
    "    Function that checks, whether service\n",
    "    with given `path` executed successfully (is `FINISHED`).\n",
    "* `not_condition(function)` -\n",
    "    Function that returns result opposite\n",
    "    from the one returned by\n",
    "    the `function` (condition function) argument.\n",
    "* `aggregate_condition(aggregator, *functions)` -\n",
    "    Function that aggregated results of\n",
    "    numerous `functions` (condition functions)\n",
    "    using special `aggregator` function.\n",
    "* `all_condition(*functions)` -\n",
    "    Function that returns True only if all\n",
    "    of the given `functions`\n",
    "    (condition functions) return `True`.\n",
    "* `any_condition(*functions)` -\n",
    "    Function that returns `True`\n",
    "    if any of the given `functions`\n",
    "    (condition functions) return `True`.\n",
    "NB! Actor service ALWAYS runs unconditionally.\n",
    "\n",
    "Here there are two conditionally executed services:\n",
    "a service named `running_service` is executed\n",
    "    only if both `simple_services` in `service_group_0`\n",
    "    are finished successfully.\n",
    "`never_running_service` is executed only if `running_service` is not finished,\n",
    "this should never happen.\n",
    "`context_printing_service` prints pipeline runtime information,\n",
    "    that contains execution state of all previously run services."
   ]
  },
  {
   "cell_type": "code",
   "execution_count": 3,
   "id": "68a9439a",
   "metadata": {
    "execution": {
     "iopub.execute_input": "2023-04-07T10:57:48.519749Z",
     "iopub.status.busy": "2023-04-07T10:57:48.519413Z",
     "iopub.status.idle": "2023-04-07T10:57:48.523839Z",
     "shell.execute_reply": "2023-04-07T10:57:48.523349Z"
    }
   },
   "outputs": [],
   "source": [
    "def simple_service(_, __, info: ServiceRuntimeInfo):\n",
    "    logger.info(f\"Service '{info['name']}' is running...\")\n",
    "\n",
    "\n",
    "def never_running_service(_, __, info: ServiceRuntimeInfo):\n",
    "    raise Exception(f\"Oh no! The '{info['name']}' service is running!\")\n",
    "\n",
    "\n",
    "def runtime_info_printing_service(_, __, info: ServiceRuntimeInfo):\n",
    "    logger.info(\n",
    "        f\"Service '{info['name']}' runtime execution info:\"\n",
    "        f\"{json.dumps(info, indent=4, default=str)}\"\n",
    "    )"
   ]
  },
  {
   "cell_type": "code",
   "execution_count": 4,
   "id": "6377c102",
   "metadata": {
    "execution": {
     "iopub.execute_input": "2023-04-07T10:57:48.526924Z",
     "iopub.status.busy": "2023-04-07T10:57:48.526560Z",
     "iopub.status.idle": "2023-04-07T10:57:48.531511Z",
     "shell.execute_reply": "2023-04-07T10:57:48.531018Z"
    }
   },
   "outputs": [],
   "source": [
    "pipeline_dict = {\n",
    "    \"script\": TOY_SCRIPT,\n",
    "    \"start_label\": (\"greeting_flow\", \"start_node\"),\n",
    "    \"fallback_label\": (\"greeting_flow\", \"fallback_node\"),\n",
    "    \"components\": [\n",
    "        [\n",
    "            simple_service,  # This simple service\n",
    "            # will be named `simple_service_0`\n",
    "            simple_service,  # This simple service\n",
    "            # will be named `simple_service_1`\n",
    "        ],  # Despite this is the unnamed service group in the root\n",
    "        # service group, it will be named `service_group_0`\n",
    "        ACTOR,\n",
    "        ServiceGroup(\n",
    "            name=\"named_group\",\n",
    "            components=[\n",
    "                Service(\n",
    "                    handler=simple_service,\n",
    "                    start_condition=all_condition(\n",
    "                        service_successful_condition(\".pipeline.service_group_0.simple_service_0\"),\n",
    "                        service_successful_condition(\".pipeline.service_group_0.simple_service_1\"),\n",
    "                    ),  # Alternative:\n",
    "                    # service_successful_condition(\".pipeline.service_group_0\")\n",
    "                    name=\"running_service\",\n",
    "                ),  # This simple service will be named `running_service`,\n",
    "                # because its name is manually overridden\n",
    "                Service(\n",
    "                    handler=never_running_service,\n",
    "                    start_condition=not_condition(\n",
    "                        service_successful_condition(\".pipeline.named_group.running_service\")\n",
    "                    ),\n",
    "                ),\n",
    "            ],\n",
    "        ),\n",
    "        runtime_info_printing_service,\n",
    "    ],\n",
    "}"
   ]
  },
  {
   "cell_type": "code",
   "execution_count": 5,
   "id": "ab6010a1",
   "metadata": {
    "execution": {
     "iopub.execute_input": "2023-04-07T10:57:48.538044Z",
     "iopub.status.busy": "2023-04-07T10:57:48.537587Z",
     "iopub.status.idle": "2023-04-07T10:57:48.557759Z",
     "shell.execute_reply": "2023-04-07T10:57:48.557031Z"
    },
    "lines_to_next_cell": 2
   },
   "outputs": [
    {
     "name": "stdout",
     "output_type": "stream",
     "text": [
      "(user) >>> text='Hi'\n",
      " (bot) <<< text='Hi, how are you?'\n",
      "(user) >>> text='i'm fine, how are you?'\n",
      " (bot) <<< text='Good. What do you want to talk about?'\n",
      "(user) >>> text='Let's talk about music.'\n",
      " (bot) <<< text='Sorry, I can not talk about music now.'\n",
      "(user) >>> text='Ok, goodbye.'\n",
      " (bot) <<< text='bye'\n",
      "(user) >>> text='Hi'\n",
      " (bot) <<< text='Hi, how are you?'\n"
     ]
    }
   ],
   "source": [
    "pipeline = Pipeline.from_dict(pipeline_dict)\n",
    "\n",
    "if __name__ == \"__main__\":\n",
    "    check_happy_path(pipeline, HAPPY_PATH)\n",
    "    if is_interactive_mode():\n",
    "        logger.info(f\"Pipeline structure:\\n{pipeline.pretty_format()}\")\n",
    "        run_interactive_mode(pipeline)"
   ]
  }
 ],
 "metadata": {
  "jupytext": {
   "cell_metadata_filter": "-all",
   "main_language": "python",
   "notebook_metadata_filter": "-all",
   "text_representation": {
    "extension": ".py",
    "format_name": "percent"
   }
  },
  "language_info": {
   "codemirror_mode": {
    "name": "ipython",
    "version": 3
   },
   "file_extension": ".py",
   "mimetype": "text/x-python",
   "name": "python",
   "nbconvert_exporter": "python",
   "pygments_lexer": "ipython3",
   "version": "3.9.16"
  }
 },
 "nbformat": 4,
 "nbformat_minor": 5
}
