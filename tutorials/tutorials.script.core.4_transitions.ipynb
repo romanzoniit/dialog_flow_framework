{
 "cells": [
  {
   "cell_type": "markdown",
   "id": "7e645f99",
   "metadata": {
    "cell_marker": "\"\"\"",
    "lines_to_next_cell": 2
   },
   "source": [
    "# Core: 4. Transitions\n",
    "\n",
    "This tutorial shows settings for transitions between flows and nodes.\n",
    "First of all, let's do all the necessary imports from DFF."
   ]
  },
  {
   "cell_type": "markdown",
   "id": "4569a692",
   "metadata": {
    "cell_marker": "\"\"\""
   },
   "source": [
    "__Installing dependencies__"
   ]
  },
  {
   "cell_type": "code",
   "execution_count": 1,
   "id": "37b25c5f",
   "metadata": {
    "execution": {
     "iopub.execute_input": "2023-04-07T10:58:28.061072Z",
     "iopub.status.busy": "2023-04-07T10:58:28.060654Z",
     "iopub.status.idle": "2023-04-07T10:58:29.020223Z",
     "shell.execute_reply": "2023-04-07T10:58:29.019340Z"
    },
    "lines_to_next_cell": 2
   },
   "outputs": [
    {
     "name": "stdout",
     "output_type": "stream",
     "text": [
      "\u001b[33mWARNING: dff 0.3.2 does not provide the extra 'tutorials'\u001b[0m\u001b[33m\r\n",
      "\u001b[0m"
     ]
    }
   ],
   "source": [
    "!python3 -m pip install -q dff[tutorials]\n",
    "# Installs dff with dependencies for running tutorials\n",
    "# To install the minimal version of dff, use `pip install dff`\n",
    "# To install other options of dff, use `pip install dff[OPTION_NAME1,OPTION_NAME2]`\n",
    "# where OPTION_NAME can be one of the options from EXTRA_DEPENDENCIES.\n",
    "# e.g `pip install dff[ydb, mysql]` installs dff with dependencies for using Yandex Database and MySQL\n",
    "# EXTRA_DEPENDENCIES can be found in\n",
    "# https://github.com/deeppavlov/dialog_flow_framework/blob/dev/setup.py#L155"
   ]
  },
  {
   "cell_type": "markdown",
   "id": "8d691390",
   "metadata": {
    "cell_marker": "\"\"\"",
    "lines_to_next_cell": 2
   },
   "source": [
    "__Running tutorial__"
   ]
  },
  {
   "cell_type": "code",
   "execution_count": 2,
   "id": "89d3f57b",
   "metadata": {
    "execution": {
     "iopub.execute_input": "2023-04-07T10:58:29.023970Z",
     "iopub.status.busy": "2023-04-07T10:58:29.023496Z",
     "iopub.status.idle": "2023-04-07T10:58:29.650546Z",
     "shell.execute_reply": "2023-04-07T10:58:29.649841Z"
    }
   },
   "outputs": [],
   "source": [
    "import re\n",
    "\n",
    "from dff.script import TRANSITIONS, RESPONSE, Context, NodeLabel3Type, Message\n",
    "import dff.script.conditions as cnd\n",
    "import dff.script.labels as lbl\n",
    "from dff.pipeline import Pipeline\n",
    "from dff.utils.testing.common import (\n",
    "    check_happy_path,\n",
    "    is_interactive_mode,\n",
    "    run_interactive_mode,\n",
    ")"
   ]
  },
  {
   "cell_type": "markdown",
   "id": "1bc1ccd5",
   "metadata": {
    "cell_marker": "\"\"\""
   },
   "source": [
    "Let's define the functions with a special type of return value:\n",
    "\n",
    "    NodeLabel3Type == tuple[str, str, float]\n",
    "\n",
    "which means that transition returns a `tuple`\n",
    "with flow name, node name and priority."
   ]
  },
  {
   "cell_type": "code",
   "execution_count": 3,
   "id": "16ff37a2",
   "metadata": {
    "execution": {
     "iopub.execute_input": "2023-04-07T10:58:29.654188Z",
     "iopub.status.busy": "2023-04-07T10:58:29.653548Z",
     "iopub.status.idle": "2023-04-07T10:58:29.658846Z",
     "shell.execute_reply": "2023-04-07T10:58:29.658232Z"
    }
   },
   "outputs": [],
   "source": [
    "def greeting_flow_n2_transition(_: Context, __: Pipeline, *args, **kwargs) -> NodeLabel3Type:\n",
    "    return (\"greeting_flow\", \"node2\", 1.0)\n",
    "\n",
    "\n",
    "def high_priority_node_transition(flow_label, label):\n",
    "    def transition(_: Context, __: Pipeline, *args, **kwargs) -> NodeLabel3Type:\n",
    "        return (flow_label, label, 2.0)\n",
    "\n",
    "    return transition"
   ]
  },
  {
   "cell_type": "markdown",
   "id": "8f69d8dd",
   "metadata": {
    "cell_marker": "\"\"\""
   },
   "source": [
    "Priority is needed to select a condition\n",
    "in the situation where more than one condition is `True`.\n",
    "All conditions in `TRANSITIONS` are being checked.\n",
    "Of the set of `True` conditions,\n",
    "the one that has the highest priority will be executed.\n",
    "Of the set of `True` conditions with largest\n",
    "priority the first met condition will be executed.\n",
    "\n",
    "Out of the box `dff.script.core.labels`\n",
    "offers the following methods:\n",
    "\n",
    "* `lbl.repeat()` returns transition handler\n",
    "    which returns `NodeLabelType` to the last node,\n",
    "\n",
    "* `lbl.previous()` returns transition handler\n",
    "    which returns `NodeLabelType` to the previous node,\n",
    "\n",
    "* `lbl.to_start()` returns transition handler\n",
    "    which returns `NodeLabelType` to the start node,\n",
    "\n",
    "* `lbl.to_fallback()` returns transition\n",
    "    handler which returns `NodeLabelType` to the fallback node,\n",
    "\n",
    "* `lbl.forward()` returns transition handler\n",
    "    which returns `NodeLabelType` to the forward node,\n",
    "\n",
    "* `lbl.backward()` returns transition handler\n",
    "    which returns `NodeLabelType` to the backward node.\n",
    "\n",
    "There are three flows here: `global_flow`, `greeting_flow`, `music_flow`."
   ]
  },
  {
   "cell_type": "code",
   "execution_count": 4,
   "id": "2c0f683d",
   "metadata": {
    "execution": {
     "iopub.execute_input": "2023-04-07T10:58:29.661931Z",
     "iopub.status.busy": "2023-04-07T10:58:29.661713Z",
     "iopub.status.idle": "2023-04-07T10:58:29.683072Z",
     "shell.execute_reply": "2023-04-07T10:58:29.682453Z"
    }
   },
   "outputs": [],
   "source": [
    "toy_script = {\n",
    "    \"global_flow\": {\n",
    "        \"start_node\": {  # This is an initial node,\n",
    "            # it doesn't need a `RESPONSE`.\n",
    "            RESPONSE: Message(),\n",
    "            TRANSITIONS: {\n",
    "                (\"music_flow\", \"node1\"): cnd.regexp(r\"talk about music\"),  # first check\n",
    "                (\"greeting_flow\", \"node1\"): cnd.regexp(r\"hi|hello\", re.IGNORECASE),  # second check\n",
    "                \"fallback_node\": cnd.true(),  # third check\n",
    "                # \"fallback_node\" is equivalent to\n",
    "                # (\"global_flow\", \"fallback_node\").\n",
    "            },\n",
    "        },\n",
    "        \"fallback_node\": {  # We get to this node if\n",
    "            # an error occurred while the agent was running.\n",
    "            RESPONSE: Message(text=\"Ooops\"),\n",
    "            TRANSITIONS: {\n",
    "                (\"music_flow\", \"node1\"): cnd.regexp(r\"talk about music\"),  # first check\n",
    "                (\"greeting_flow\", \"node1\"): cnd.regexp(r\"hi|hello\", re.IGNORECASE),  # second check\n",
    "                lbl.previous(): cnd.regexp(r\"previous\", re.IGNORECASE),  # third check\n",
    "                # lbl.previous() is equivalent\n",
    "                # to (\"previous_flow\", \"previous_node\")\n",
    "                lbl.repeat(): cnd.true(),  # fourth check\n",
    "                # lbl.repeat() is equivalent to (\"global_flow\", \"fallback_node\")\n",
    "            },\n",
    "        },\n",
    "    },\n",
    "    \"greeting_flow\": {\n",
    "        \"node1\": {\n",
    "            RESPONSE: Message(text=\"Hi, how are you?\"),\n",
    "            # When the agent goes to node1, we return \"Hi, how are you?\"\n",
    "            TRANSITIONS: {\n",
    "                (\n",
    "                    \"global_flow\",\n",
    "                    \"fallback_node\",\n",
    "                    0.1,\n",
    "                ): cnd.true(),  # second check\n",
    "                \"node2\": cnd.regexp(r\"how are you\"),  # first check\n",
    "                # \"node2\" is equivalent to (\"greeting_flow\", \"node2\", 1.0)\n",
    "            },\n",
    "        },\n",
    "        \"node2\": {\n",
    "            RESPONSE: Message(text=\"Good. What do you want to talk about?\"),\n",
    "            TRANSITIONS: {\n",
    "                lbl.to_fallback(0.1): cnd.true(),  # third check\n",
    "                # lbl.to_fallback(0.1) is equivalent\n",
    "                # to (\"global_flow\", \"fallback_node\", 0.1)\n",
    "                lbl.forward(0.5): cnd.regexp(r\"talk about\"),  # second check\n",
    "                # lbl.forward(0.5) is equivalent\n",
    "                # to (\"greeting_flow\", \"node3\", 0.5)\n",
    "                (\"music_flow\", \"node1\"): cnd.regexp(r\"talk about music\"),  # first check\n",
    "                # (\"music_flow\", \"node1\") is equivalent\n",
    "                # to (\"music_flow\", \"node1\", 1.0)\n",
    "                lbl.previous(): cnd.regexp(r\"previous\", re.IGNORECASE),  # third check\n",
    "            },\n",
    "        },\n",
    "        \"node3\": {\n",
    "            RESPONSE: Message(text=\"Sorry, I can not talk about that now.\"),\n",
    "            TRANSITIONS: {lbl.forward(): cnd.regexp(r\"bye\")},\n",
    "        },\n",
    "        \"node4\": {\n",
    "            RESPONSE: Message(text=\"Bye\"),\n",
    "            TRANSITIONS: {\n",
    "                \"node1\": cnd.regexp(r\"hi|hello\", re.IGNORECASE),  # first check\n",
    "                lbl.to_fallback(): cnd.true(),  # second check\n",
    "            },\n",
    "        },\n",
    "    },\n",
    "    \"music_flow\": {\n",
    "        \"node1\": {\n",
    "            RESPONSE: Message(\n",
    "                text=\"I love `System of a Down` group, would you like to talk about it?\"\n",
    "            ),\n",
    "            TRANSITIONS: {\n",
    "                lbl.forward(): cnd.regexp(r\"yes|yep|ok\", re.IGNORECASE),\n",
    "                lbl.to_fallback(): cnd.true(),\n",
    "            },\n",
    "        },\n",
    "        \"node2\": {\n",
    "            RESPONSE: Message(\n",
    "                text=\"System of a Down is an Armenian-American heavy metal band formed in 1994.\"\n",
    "            ),\n",
    "            TRANSITIONS: {\n",
    "                lbl.forward(): cnd.regexp(r\"next\", re.IGNORECASE),\n",
    "                lbl.repeat(): cnd.regexp(r\"repeat\", re.IGNORECASE),\n",
    "                lbl.to_fallback(): cnd.true(),\n",
    "            },\n",
    "        },\n",
    "        \"node3\": {\n",
    "            RESPONSE: Message(\n",
    "                text=\"The band achieved commercial success with the release of five studio albums.\"\n",
    "            ),\n",
    "            TRANSITIONS: {\n",
    "                lbl.forward(): cnd.regexp(r\"next\", re.IGNORECASE),\n",
    "                lbl.backward(): cnd.regexp(r\"back\", re.IGNORECASE),\n",
    "                lbl.repeat(): cnd.regexp(r\"repeat\", re.IGNORECASE),\n",
    "                lbl.to_fallback(): cnd.true(),\n",
    "            },\n",
    "        },\n",
    "        \"node4\": {\n",
    "            RESPONSE: Message(text=\"That's all what I know.\"),\n",
    "            TRANSITIONS: {\n",
    "                greeting_flow_n2_transition: cnd.regexp(r\"next\", re.IGNORECASE),  # second check\n",
    "                high_priority_node_transition(\"greeting_flow\", \"node4\"): cnd.regexp(\n",
    "                    r\"next time\", re.IGNORECASE\n",
    "                ),  # first check\n",
    "                lbl.to_fallback(): cnd.true(),  # third check\n",
    "            },\n",
    "        },\n",
    "    },\n",
    "}\n",
    "\n",
    "# testing\n",
    "happy_path = (\n",
    "    (Message(text=\"hi\"), Message(text=\"Hi, how are you?\")),\n",
    "    (Message(text=\"i'm fine, how are you?\"), Message(text=\"Good. What do you want to talk about?\")),\n",
    "    (\n",
    "        Message(text=\"talk about music.\"),\n",
    "        Message(text=\"I love `System of a Down` group, would you like to talk about it?\"),\n",
    "    ),\n",
    "    (\n",
    "        Message(text=\"yes\"),\n",
    "        Message(text=\"System of a Down is an Armenian-American heavy metal band formed in 1994.\"),\n",
    "    ),\n",
    "    (\n",
    "        Message(text=\"next\"),\n",
    "        Message(\n",
    "            text=\"The band achieved commercial success with the release of five studio albums.\"\n",
    "        ),\n",
    "    ),\n",
    "    (\n",
    "        Message(text=\"back\"),\n",
    "        Message(text=\"System of a Down is an Armenian-American heavy metal band formed in 1994.\"),\n",
    "    ),\n",
    "    (\n",
    "        Message(text=\"repeat\"),\n",
    "        Message(text=\"System of a Down is an Armenian-American heavy metal band formed in 1994.\"),\n",
    "    ),\n",
    "    (\n",
    "        Message(text=\"next\"),\n",
    "        Message(\n",
    "            text=\"The band achieved commercial success with the release of five studio albums.\"\n",
    "        ),\n",
    "    ),\n",
    "    (Message(text=\"next\"), Message(text=\"That's all what I know.\")),\n",
    "    (Message(text=\"next\"), Message(text=\"Good. What do you want to talk about?\")),\n",
    "    (Message(text=\"previous\"), Message(text=\"That's all what I know.\")),\n",
    "    (Message(text=\"next time\"), Message(text=\"Bye\")),\n",
    "    (Message(text=\"stop\"), Message(text=\"Ooops\")),\n",
    "    (Message(text=\"previous\"), Message(text=\"Bye\")),\n",
    "    (Message(text=\"stop\"), Message(text=\"Ooops\")),\n",
    "    (Message(text=\"nope\"), Message(text=\"Ooops\")),\n",
    "    (Message(text=\"hi\"), Message(text=\"Hi, how are you?\")),\n",
    "    (Message(text=\"stop\"), Message(text=\"Ooops\")),\n",
    "    (Message(text=\"previous\"), Message(text=\"Hi, how are you?\")),\n",
    "    (Message(text=\"i'm fine, how are you?\"), Message(text=\"Good. What do you want to talk about?\")),\n",
    "    (\n",
    "        Message(text=\"let's talk about something.\"),\n",
    "        Message(text=\"Sorry, I can not talk about that now.\"),\n",
    "    ),\n",
    "    (Message(text=\"Ok, goodbye.\"), Message(text=\"Bye\")),\n",
    ")"
   ]
  },
  {
   "cell_type": "code",
   "execution_count": 5,
   "id": "a68bc708",
   "metadata": {
    "execution": {
     "iopub.execute_input": "2023-04-07T10:58:29.686215Z",
     "iopub.status.busy": "2023-04-07T10:58:29.685704Z",
     "iopub.status.idle": "2023-04-07T10:58:29.728452Z",
     "shell.execute_reply": "2023-04-07T10:58:29.722697Z"
    },
    "lines_to_next_cell": 2
   },
   "outputs": [
    {
     "name": "stdout",
     "output_type": "stream",
     "text": [
      "(user) >>> text='hi'\n",
      " (bot) <<< text='Hi, how are you?'\n",
      "(user) >>> text='i'm fine, how are you?'\n",
      " (bot) <<< text='Good. What do you want to talk about?'\n",
      "(user) >>> text='talk about music.'\n",
      " (bot) <<< text='I love `System of a Down` group, would you like to talk about it?'\n",
      "(user) >>> text='yes'\n",
      " (bot) <<< text='System of a Down is an Armenian-American heavy metal band formed in 1994.'\n",
      "(user) >>> text='next'\n",
      " (bot) <<< text='The band achieved commercial success with the release of five studio albums.'\n",
      "(user) >>> text='back'\n",
      " (bot) <<< text='System of a Down is an Armenian-American heavy metal band formed in 1994.'\n",
      "(user) >>> text='repeat'\n",
      " (bot) <<< text='System of a Down is an Armenian-American heavy metal band formed in 1994.'\n",
      "(user) >>> text='next'\n",
      " (bot) <<< text='The band achieved commercial success with the release of five studio albums.'\n",
      "(user) >>> text='next'\n",
      " (bot) <<< text='That's all what I know.'\n",
      "(user) >>> text='next'\n",
      " (bot) <<< text='Good. What do you want to talk about?'\n",
      "(user) >>> text='previous'\n",
      " (bot) <<< text='That's all what I know.'\n",
      "(user) >>> text='next time'\n",
      " (bot) <<< text='Bye'\n",
      "(user) >>> text='stop'\n",
      " (bot) <<< text='Ooops'\n",
      "(user) >>> text='previous'\n",
      " (bot) <<< text='Bye'\n",
      "(user) >>> text='stop'\n",
      " (bot) <<< text='Ooops'\n",
      "(user) >>> text='nope'\n",
      " (bot) <<< text='Ooops'\n",
      "(user) >>> text='hi'\n",
      " (bot) <<< text='Hi, how are you?'\n",
      "(user) >>> text='stop'\n",
      " (bot) <<< text='Ooops'\n",
      "(user) >>> text='previous'\n",
      " (bot) <<< text='Hi, how are you?'\n",
      "(user) >>> text='i'm fine, how are you?'\n",
      " (bot) <<< text='Good. What do you want to talk about?'\n",
      "(user) >>> text='let's talk about something.'\n",
      " (bot) <<< text='Sorry, I can not talk about that now.'\n",
      "(user) >>> text='Ok, goodbye.'\n",
      " (bot) <<< text='Bye'\n"
     ]
    }
   ],
   "source": [
    "pipeline = Pipeline.from_script(\n",
    "    toy_script,\n",
    "    start_label=(\"global_flow\", \"start_node\"),\n",
    "    fallback_label=(\"global_flow\", \"fallback_node\"),\n",
    ")\n",
    "\n",
    "if __name__ == \"__main__\":\n",
    "    check_happy_path(pipeline, happy_path)\n",
    "    if is_interactive_mode():\n",
    "        run_interactive_mode(pipeline)"
   ]
  }
 ],
 "metadata": {
  "jupytext": {
   "cell_metadata_filter": "-all",
   "main_language": "python",
   "notebook_metadata_filter": "-all",
   "text_representation": {
    "extension": ".py",
    "format_name": "percent"
   }
  },
  "language_info": {
   "codemirror_mode": {
    "name": "ipython",
    "version": 3
   },
   "file_extension": ".py",
   "mimetype": "text/x-python",
   "name": "python",
   "nbconvert_exporter": "python",
   "pygments_lexer": "ipython3",
   "version": "3.9.16"
  }
 },
 "nbformat": 4,
 "nbformat_minor": 5
}
