{
 "cells": [
  {
   "cell_type": "markdown",
   "id": "89889a20",
   "metadata": {
    "cell_marker": "\"\"\"",
    "lines_to_next_cell": 2
   },
   "source": [
    "# Telegram: 6. Conditions Extras\n",
    "\n",
    "This tutorial shows how to use additional update filters\n",
    "inherited from the `pytelegrambotapi` library."
   ]
  },
  {
   "cell_type": "markdown",
   "id": "a8e1a9ba",
   "metadata": {
    "cell_marker": "\"\"\""
   },
   "source": [
    "__Installing dependencies__"
   ]
  },
  {
   "cell_type": "code",
   "execution_count": 1,
   "id": "23559c1d",
   "metadata": {
    "execution": {
     "iopub.execute_input": "2023-04-07T10:57:18.722847Z",
     "iopub.status.busy": "2023-04-07T10:57:18.722645Z",
     "iopub.status.idle": "2023-04-07T10:57:19.653431Z",
     "shell.execute_reply": "2023-04-07T10:57:19.652603Z"
    },
    "lines_to_next_cell": 2
   },
   "outputs": [
    {
     "name": "stdout",
     "output_type": "stream",
     "text": [
      "\u001b[33mWARNING: dff 0.3.2 does not provide the extra 'tutorials'\u001b[0m\u001b[33m\r\n",
      "\u001b[0m"
     ]
    }
   ],
   "source": [
    "!python3 -m pip install -q dff[tutorials]\n",
    "# Installs dff with dependencies for running tutorials\n",
    "# To install the minimal version of dff, use `pip install dff`\n",
    "# To install other options of dff, use `pip install dff[OPTION_NAME1,OPTION_NAME2]`\n",
    "# where OPTION_NAME can be one of the options from EXTRA_DEPENDENCIES.\n",
    "# e.g `pip install dff[ydb, mysql]` installs dff with dependencies for using Yandex Database and MySQL\n",
    "# EXTRA_DEPENDENCIES can be found in\n",
    "# https://github.com/deeppavlov/dialog_flow_framework/blob/dev/setup.py#L155"
   ]
  },
  {
   "cell_type": "markdown",
   "id": "07a28988",
   "metadata": {
    "cell_marker": "\"\"\"",
    "lines_to_next_cell": 2
   },
   "source": [
    "__Running tutorial__"
   ]
  },
  {
   "cell_type": "code",
   "execution_count": 2,
   "id": "03b8225b",
   "metadata": {
    "execution": {
     "iopub.execute_input": "2023-04-07T10:57:19.657053Z",
     "iopub.status.busy": "2023-04-07T10:57:19.656389Z",
     "iopub.status.idle": "2023-04-07T10:57:20.361685Z",
     "shell.execute_reply": "2023-04-07T10:57:20.361006Z"
    },
    "lines_to_next_cell": 2
   },
   "outputs": [],
   "source": [
    "import os\n",
    "\n",
    "from dff.script import TRANSITIONS, RESPONSE, GLOBAL\n",
    "import dff.script.conditions as cnd\n",
    "from dff.messengers.telegram import (\n",
    "    PollingTelegramInterface,\n",
    "    TelegramMessage,\n",
    "    telegram_condition,\n",
    "    UpdateType,\n",
    ")\n",
    "from dff.pipeline import Pipeline\n",
    "from dff.utils.testing.common import is_interactive_mode"
   ]
  },
  {
   "cell_type": "markdown",
   "id": "0026b00c",
   "metadata": {
    "cell_marker": "\"\"\"",
    "lines_to_next_cell": 2
   },
   "source": [
    "In our Telegram module, we adopted the system of filters\n",
    "available in the `pytelegrambotapi` library.\n",
    "\n",
    "Aside from `MESSAGE` you can use\n",
    "other triggers to interact with the api. In this tutorial, we use\n",
    "handlers of other type as global conditions that trigger a response\n",
    "from the bot.\n",
    "\n",
    "Here, we use the following triggers:\n",
    "\n",
    "* `chat_join_request`: join request is sent to the chat where the bot is.\n",
    "* `my_chat_member`: triggered when the bot is invited to a chat.\n",
    "* `inline_query`: triggered when an inline query is being sent to the bot.\n",
    "\n",
    "The other available conditions are:\n",
    "\n",
    "* `channel_post`: new post is created in a channel the bot is subscribed to;\n",
    "* `edited_channel_post`: post is edited in a channel the bot is subscribed to;\n",
    "* `shipping_query`: shipping query is sent by the user;\n",
    "* `pre_checkout_query`: order confirmation is sent by the user;\n",
    "* `poll`: poll is sent to the chat;\n",
    "* `poll_answer`: users answered the poll sent by the bot.\n",
    "\n",
    "You can read more on those in the Telegram documentation or in the docs for the `telebot` library."
   ]
  },
  {
   "cell_type": "code",
   "execution_count": 3,
   "id": "c16e7d95",
   "metadata": {
    "execution": {
     "iopub.execute_input": "2023-04-07T10:57:20.365454Z",
     "iopub.status.busy": "2023-04-07T10:57:20.364710Z",
     "iopub.status.idle": "2023-04-07T10:57:20.371209Z",
     "shell.execute_reply": "2023-04-07T10:57:20.370706Z"
    },
    "lines_to_next_cell": 2
   },
   "outputs": [],
   "source": [
    "script = {\n",
    "    GLOBAL: {\n",
    "        TRANSITIONS: {\n",
    "            (\"greeting_flow\", \"node1\"): cnd.any(\n",
    "                [\n",
    "                    # say hi when invited to a chat\n",
    "                    telegram_condition(\n",
    "                        update_type=UpdateType.CHAT_JOIN_REQUEST, func=lambda x: True\n",
    "                    ),\n",
    "                    # say hi when someone enters the chat\n",
    "                    telegram_condition(update_type=UpdateType.MY_CHAT_MEMBER, func=lambda x: True),\n",
    "                ]\n",
    "            ),\n",
    "            # send a message when inline query is received\n",
    "            (\"greeting_flow\", \"node2\"): telegram_condition(\n",
    "                update_type=UpdateType.INLINE_QUERY,\n",
    "            ),\n",
    "        },\n",
    "    },\n",
    "    \"greeting_flow\": {\n",
    "        \"start_node\": {\n",
    "            RESPONSE: TelegramMessage(text=\"Bot running\"),\n",
    "            TRANSITIONS: {\"node1\": telegram_condition(commands=[\"start\", \"restart\"])},\n",
    "        },\n",
    "        \"node1\": {\n",
    "            RESPONSE: TelegramMessage(text=\"Hi\"),\n",
    "            TRANSITIONS: {\"start_node\": cnd.true()},\n",
    "        },\n",
    "        \"node2\": {\n",
    "            RESPONSE: TelegramMessage(text=\"Inline query received.\"),\n",
    "            TRANSITIONS: {\"start_node\": cnd.true()},\n",
    "        },\n",
    "        \"fallback_node\": {\n",
    "            RESPONSE: TelegramMessage(text=\"Ooops\"),\n",
    "        },\n",
    "    },\n",
    "}"
   ]
  },
  {
   "cell_type": "code",
   "execution_count": 4,
   "id": "97d258ce",
   "metadata": {
    "execution": {
     "iopub.execute_input": "2023-04-07T10:57:20.373958Z",
     "iopub.status.busy": "2023-04-07T10:57:20.373344Z",
     "iopub.status.idle": "2023-04-07T10:57:20.376715Z",
     "shell.execute_reply": "2023-04-07T10:57:20.376130Z"
    },
    "lines_to_next_cell": 2
   },
   "outputs": [],
   "source": [
    "interface = PollingTelegramInterface(token=os.getenv(\"TG_BOT_TOKEN\", \"\"))"
   ]
  },
  {
   "cell_type": "code",
   "execution_count": 5,
   "id": "2477fe2c",
   "metadata": {
    "execution": {
     "iopub.execute_input": "2023-04-07T10:57:20.379384Z",
     "iopub.status.busy": "2023-04-07T10:57:20.378956Z",
     "iopub.status.idle": "2023-04-07T10:57:20.385132Z",
     "shell.execute_reply": "2023-04-07T10:57:20.384627Z"
    },
    "lines_to_next_cell": 2
   },
   "outputs": [],
   "source": [
    "pipeline = Pipeline.from_script(\n",
    "    script=script,\n",
    "    start_label=(\"greeting_flow\", \"start_node\"),\n",
    "    fallback_label=(\"greeting_flow\", \"fallback_node\"),\n",
    "    messenger_interface=interface,\n",
    ")\n",
    "\n",
    "\n",
    "def main():\n",
    "    if not os.getenv(\"TG_BOT_TOKEN\"):\n",
    "        print(\"`TG_BOT_TOKEN` variable needs to be set to use TelegramInterface.\")\n",
    "    pipeline.run()\n",
    "\n",
    "\n",
    "if __name__ == \"__main__\" and is_interactive_mode():  # prevent run during doc building\n",
    "    main()"
   ]
  }
 ],
 "metadata": {
  "jupytext": {
   "cell_metadata_filter": "-all",
   "main_language": "python",
   "notebook_metadata_filter": "-all",
   "text_representation": {
    "extension": ".py",
    "format_name": "percent"
   }
  },
  "language_info": {
   "codemirror_mode": {
    "name": "ipython",
    "version": 3
   },
   "file_extension": ".py",
   "mimetype": "text/x-python",
   "name": "python",
   "nbconvert_exporter": "python",
   "pygments_lexer": "ipython3",
   "version": "3.9.16"
  }
 },
 "nbformat": 4,
 "nbformat_minor": 5
}
