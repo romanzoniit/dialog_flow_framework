{
 "cells": [
  {
   "cell_type": "markdown",
   "id": "7310e3d0",
   "metadata": {
    "cell_marker": "\"\"\""
   },
   "source": [
    "# Core: 9. Pre-transitions processing\n",
    "\n",
    "This tutorial shows pre-transitions processing feature.\n",
    "First of all, let's do all the necessary imports from DFF."
   ]
  },
  {
   "cell_type": "markdown",
   "id": "fa45921c",
   "metadata": {
    "cell_marker": "\"\"\""
   },
   "source": [
    "__Installing dependencies__"
   ]
  },
  {
   "cell_type": "code",
   "execution_count": 1,
   "id": "dbacd04c",
   "metadata": {
    "execution": {
     "iopub.execute_input": "2023-04-07T10:58:45.761662Z",
     "iopub.status.busy": "2023-04-07T10:58:45.761326Z",
     "iopub.status.idle": "2023-04-07T10:58:46.696502Z",
     "shell.execute_reply": "2023-04-07T10:58:46.695665Z"
    },
    "lines_to_next_cell": 2
   },
   "outputs": [
    {
     "name": "stdout",
     "output_type": "stream",
     "text": [
      "\u001b[33mWARNING: dff 0.3.2 does not provide the extra 'tutorials'\u001b[0m\u001b[33m\r\n",
      "\u001b[0m"
     ]
    }
   ],
   "source": [
    "!python3 -m pip install -q dff[tutorials]\n",
    "# Installs dff with dependencies for running tutorials\n",
    "# To install the minimal version of dff, use `pip install dff`\n",
    "# To install other options of dff, use `pip install dff[OPTION_NAME1,OPTION_NAME2]`\n",
    "# where OPTION_NAME can be one of the options from EXTRA_DEPENDENCIES.\n",
    "# e.g `pip install dff[ydb, mysql]` installs dff with dependencies for using Yandex Database and MySQL\n",
    "# EXTRA_DEPENDENCIES can be found in\n",
    "# https://github.com/deeppavlov/dialog_flow_framework/blob/dev/setup.py#L155"
   ]
  },
  {
   "cell_type": "markdown",
   "id": "c1424679",
   "metadata": {
    "cell_marker": "\"\"\"",
    "lines_to_next_cell": 2
   },
   "source": [
    "__Running tutorial__"
   ]
  },
  {
   "cell_type": "code",
   "execution_count": 2,
   "id": "37937a8d",
   "metadata": {
    "execution": {
     "iopub.execute_input": "2023-04-07T10:58:46.700323Z",
     "iopub.status.busy": "2023-04-07T10:58:46.699911Z",
     "iopub.status.idle": "2023-04-07T10:58:47.345070Z",
     "shell.execute_reply": "2023-04-07T10:58:47.344422Z"
    }
   },
   "outputs": [],
   "source": [
    "from dff.script import (\n",
    "    GLOBAL,\n",
    "    RESPONSE,\n",
    "    TRANSITIONS,\n",
    "    PRE_RESPONSE_PROCESSING,\n",
    "    PRE_TRANSITIONS_PROCESSING,\n",
    "    Context,\n",
    "    Message,\n",
    ")\n",
    "import dff.script.labels as lbl\n",
    "import dff.script.conditions as cnd\n",
    "from dff.pipeline import Pipeline\n",
    "from dff.utils.testing.common import (\n",
    "    check_happy_path,\n",
    "    is_interactive_mode,\n",
    "    run_interactive_mode,\n",
    ")"
   ]
  },
  {
   "cell_type": "code",
   "execution_count": 3,
   "id": "fffb563f",
   "metadata": {
    "execution": {
     "iopub.execute_input": "2023-04-07T10:58:47.348116Z",
     "iopub.status.busy": "2023-04-07T10:58:47.347615Z",
     "iopub.status.idle": "2023-04-07T10:58:47.352493Z",
     "shell.execute_reply": "2023-04-07T10:58:47.351947Z"
    }
   },
   "outputs": [],
   "source": [
    "def save_previous_node_response_to_ctx_processing(\n",
    "    ctx: Context, _: Pipeline, *args, **kwargs\n",
    ") -> Context:\n",
    "    processed_node = ctx.current_node\n",
    "    ctx.misc[\"previous_node_response\"] = processed_node.response\n",
    "    return ctx\n",
    "\n",
    "\n",
    "def get_previous_node_response_for_response_processing(\n",
    "    ctx: Context, _: Pipeline, *args, **kwargs\n",
    ") -> Context:\n",
    "    processed_node = ctx.current_node\n",
    "    processed_node.response = Message(\n",
    "        text=f\"previous={ctx.misc['previous_node_response'].text}:\"\n",
    "        f\" current={processed_node.response.text}\"\n",
    "    )\n",
    "    ctx.overwrite_current_node_in_processing(processed_node)\n",
    "    return ctx"
   ]
  },
  {
   "cell_type": "code",
   "execution_count": 4,
   "id": "fbd98b06",
   "metadata": {
    "execution": {
     "iopub.execute_input": "2023-04-07T10:58:47.356337Z",
     "iopub.status.busy": "2023-04-07T10:58:47.355975Z",
     "iopub.status.idle": "2023-04-07T10:58:47.362647Z",
     "shell.execute_reply": "2023-04-07T10:58:47.362137Z"
    },
    "lines_to_next_cell": 2
   },
   "outputs": [],
   "source": [
    "# a dialog script\n",
    "toy_script = {\n",
    "    \"root\": {\n",
    "        \"start\": {RESPONSE: Message(), TRANSITIONS: {(\"flow\", \"step_0\"): cnd.true()}},\n",
    "        \"fallback\": {RESPONSE: Message(text=\"the end\")},\n",
    "    },\n",
    "    GLOBAL: {\n",
    "        PRE_RESPONSE_PROCESSING: {\n",
    "            \"proc_name_1\": get_previous_node_response_for_response_processing\n",
    "        },\n",
    "        PRE_TRANSITIONS_PROCESSING: {\"proc_name_1\": save_previous_node_response_to_ctx_processing},\n",
    "        TRANSITIONS: {lbl.forward(0.1): cnd.true()},\n",
    "    },\n",
    "    \"flow\": {\n",
    "        \"step_0\": {RESPONSE: Message(text=\"first\")},\n",
    "        \"step_1\": {RESPONSE: Message(text=\"second\")},\n",
    "        \"step_2\": {RESPONSE: Message(text=\"third\")},\n",
    "        \"step_3\": {RESPONSE: Message(text=\"fourth\")},\n",
    "        \"step_4\": {RESPONSE: Message(text=\"fifth\")},\n",
    "    },\n",
    "}\n",
    "\n",
    "\n",
    "# testing\n",
    "happy_path = (\n",
    "    (Message(text=\"1\"), Message(text=\"previous=None: current=first\")),\n",
    "    (Message(text=\"2\"), Message(text=\"previous=first: current=second\")),\n",
    "    (Message(text=\"3\"), Message(text=\"previous=second: current=third\")),\n",
    "    (Message(text=\"4\"), Message(text=\"previous=third: current=fourth\")),\n",
    "    (Message(text=\"5\"), Message(text=\"previous=fourth: current=fifth\")),\n",
    ")"
   ]
  },
  {
   "cell_type": "code",
   "execution_count": 5,
   "id": "47b8acb3",
   "metadata": {
    "execution": {
     "iopub.execute_input": "2023-04-07T10:58:47.370608Z",
     "iopub.status.busy": "2023-04-07T10:58:47.370392Z",
     "iopub.status.idle": "2023-04-07T10:58:47.384207Z",
     "shell.execute_reply": "2023-04-07T10:58:47.383547Z"
    },
    "lines_to_next_cell": 2
   },
   "outputs": [
    {
     "name": "stdout",
     "output_type": "stream",
     "text": [
      "(user) >>> text='1'\n",
      " (bot) <<< text='previous=None: current=first'\n",
      "(user) >>> text='2'\n",
      " (bot) <<< text='previous=first: current=second'\n",
      "(user) >>> text='3'\n",
      " (bot) <<< text='previous=second: current=third'\n",
      "(user) >>> text='4'\n",
      " (bot) <<< text='previous=third: current=fourth'\n",
      "(user) >>> text='5'\n",
      " (bot) <<< text='previous=fourth: current=fifth'\n"
     ]
    }
   ],
   "source": [
    "pipeline = Pipeline.from_script(\n",
    "    toy_script,\n",
    "    start_label=(\"root\", \"start\"),\n",
    "    fallback_label=(\"root\", \"fallback\"),\n",
    ")\n",
    "\n",
    "if __name__ == \"__main__\":\n",
    "    check_happy_path(pipeline, happy_path)\n",
    "    if is_interactive_mode():\n",
    "        run_interactive_mode(pipeline)"
   ]
  }
 ],
 "metadata": {
  "jupytext": {
   "cell_metadata_filter": "-all",
   "main_language": "python",
   "notebook_metadata_filter": "-all",
   "text_representation": {
    "extension": ".py",
    "format_name": "percent"
   }
  },
  "language_info": {
   "codemirror_mode": {
    "name": "ipython",
    "version": 3
   },
   "file_extension": ".py",
   "mimetype": "text/x-python",
   "name": "python",
   "nbconvert_exporter": "python",
   "pygments_lexer": "ipython3",
   "version": "3.9.16"
  }
 },
 "nbformat": 4,
 "nbformat_minor": 5
}
