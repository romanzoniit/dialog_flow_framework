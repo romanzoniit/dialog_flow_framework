{
 "cells": [
  {
   "cell_type": "markdown",
   "id": "f8b0eaf3",
   "metadata": {
    "cell_marker": "\"\"\""
   },
   "source": [
    "# Core: 7. Pre-response processing\n",
    "\n",
    "This tutorial shows pre-response processing feature.\n",
    "First of all, let's do all the necessary imports from DFF."
   ]
  },
  {
   "cell_type": "markdown",
   "id": "0713527f",
   "metadata": {
    "cell_marker": "\"\"\""
   },
   "source": [
    "__Installing dependencies__"
   ]
  },
  {
   "cell_type": "code",
   "execution_count": 1,
   "id": "1dbfef49",
   "metadata": {
    "execution": {
     "iopub.execute_input": "2023-04-07T10:58:38.567829Z",
     "iopub.status.busy": "2023-04-07T10:58:38.567399Z",
     "iopub.status.idle": "2023-04-07T10:58:39.519263Z",
     "shell.execute_reply": "2023-04-07T10:58:39.518441Z"
    },
    "lines_to_next_cell": 2
   },
   "outputs": [
    {
     "name": "stdout",
     "output_type": "stream",
     "text": [
      "\u001b[33mWARNING: dff 0.3.2 does not provide the extra 'tutorials'\u001b[0m\u001b[33m\r\n",
      "\u001b[0m"
     ]
    }
   ],
   "source": [
    "!python3 -m pip install -q dff[tutorials]\n",
    "# Installs dff with dependencies for running tutorials\n",
    "# To install the minimal version of dff, use `pip install dff`\n",
    "# To install other options of dff, use `pip install dff[OPTION_NAME1,OPTION_NAME2]`\n",
    "# where OPTION_NAME can be one of the options from EXTRA_DEPENDENCIES.\n",
    "# e.g `pip install dff[ydb, mysql]` installs dff with dependencies for using Yandex Database and MySQL\n",
    "# EXTRA_DEPENDENCIES can be found in\n",
    "# https://github.com/deeppavlov/dialog_flow_framework/blob/dev/setup.py#L155"
   ]
  },
  {
   "cell_type": "markdown",
   "id": "b38567bf",
   "metadata": {
    "cell_marker": "\"\"\"",
    "lines_to_next_cell": 2
   },
   "source": [
    "__Running tutorial__"
   ]
  },
  {
   "cell_type": "code",
   "execution_count": 2,
   "id": "c62a48ec",
   "metadata": {
    "execution": {
     "iopub.execute_input": "2023-04-07T10:58:39.522736Z",
     "iopub.status.busy": "2023-04-07T10:58:39.522329Z",
     "iopub.status.idle": "2023-04-07T10:58:40.138993Z",
     "shell.execute_reply": "2023-04-07T10:58:40.138283Z"
    }
   },
   "outputs": [],
   "source": [
    "from dff.script import (\n",
    "    GLOBAL,\n",
    "    LOCAL,\n",
    "    RESPONSE,\n",
    "    TRANSITIONS,\n",
    "    PRE_RESPONSE_PROCESSING,\n",
    "    Context,\n",
    "    Message,\n",
    ")\n",
    "import dff.script.labels as lbl\n",
    "import dff.script.conditions as cnd\n",
    "\n",
    "from dff.pipeline import Pipeline\n",
    "from dff.utils.testing.common import (\n",
    "    check_happy_path,\n",
    "    is_interactive_mode,\n",
    "    run_interactive_mode,\n",
    ")"
   ]
  },
  {
   "cell_type": "code",
   "execution_count": 3,
   "id": "99505bd2",
   "metadata": {
    "execution": {
     "iopub.execute_input": "2023-04-07T10:58:40.142289Z",
     "iopub.status.busy": "2023-04-07T10:58:40.141720Z",
     "iopub.status.idle": "2023-04-07T10:58:40.147657Z",
     "shell.execute_reply": "2023-04-07T10:58:40.147003Z"
    }
   },
   "outputs": [],
   "source": [
    "def add_label_processing(ctx: Context, _: Pipeline, *args, **kwargs) -> Context:\n",
    "    processed_node = ctx.current_node\n",
    "    processed_node.response = Message(text=f\"{ctx.last_label}: {processed_node.response.text}\")\n",
    "    ctx.overwrite_current_node_in_processing(processed_node)\n",
    "    return ctx\n",
    "\n",
    "\n",
    "def add_prefix(prefix):\n",
    "    def add_prefix_processing(ctx: Context, _: Pipeline, *args, **kwargs) -> Context:\n",
    "        processed_node = ctx.current_node\n",
    "        processed_node.response = Message(text=f\"{prefix}: {processed_node.response.text}\")\n",
    "        ctx.overwrite_current_node_in_processing(processed_node)\n",
    "        return ctx\n",
    "\n",
    "    return add_prefix_processing"
   ]
  },
  {
   "cell_type": "markdown",
   "id": "ebb5d84e",
   "metadata": {
    "cell_marker": "\"\"\"",
    "lines_to_next_cell": 2
   },
   "source": [
    "`PRE_RESPONSE_PROCESSING` is a keyword that\n",
    "can be used in `GLOBAL`, `LOCAL` or nodes."
   ]
  },
  {
   "cell_type": "code",
   "execution_count": 4,
   "id": "9da7434f",
   "metadata": {
    "execution": {
     "iopub.execute_input": "2023-04-07T10:58:40.150615Z",
     "iopub.status.busy": "2023-04-07T10:58:40.150134Z",
     "iopub.status.idle": "2023-04-07T10:58:40.159212Z",
     "shell.execute_reply": "2023-04-07T10:58:40.158627Z"
    },
    "lines_to_next_cell": 2
   },
   "outputs": [],
   "source": [
    "toy_script = {\n",
    "    \"root\": {\n",
    "        \"start\": {RESPONSE: Message(), TRANSITIONS: {(\"flow\", \"step_0\"): cnd.true()}},\n",
    "        \"fallback\": {RESPONSE: Message(text=\"the end\")},\n",
    "    },\n",
    "    GLOBAL: {\n",
    "        PRE_RESPONSE_PROCESSING: {\n",
    "            \"proc_name_1\": add_prefix(\"l1_global\"),\n",
    "            \"proc_name_2\": add_prefix(\"l2_global\"),\n",
    "        }\n",
    "    },\n",
    "    \"flow\": {\n",
    "        LOCAL: {\n",
    "            PRE_RESPONSE_PROCESSING: {\n",
    "                \"proc_name_2\": add_prefix(\"l2_local\"),\n",
    "                \"proc_name_3\": add_prefix(\"l3_local\"),\n",
    "            }\n",
    "        },\n",
    "        \"step_0\": {RESPONSE: Message(text=\"first\"), TRANSITIONS: {lbl.forward(): cnd.true()}},\n",
    "        \"step_1\": {\n",
    "            PRE_RESPONSE_PROCESSING: {\"proc_name_1\": add_prefix(\"l1_step_1\")},\n",
    "            RESPONSE: Message(text=\"second\"),\n",
    "            TRANSITIONS: {lbl.forward(): cnd.true()},\n",
    "        },\n",
    "        \"step_2\": {\n",
    "            PRE_RESPONSE_PROCESSING: {\"proc_name_2\": add_prefix(\"l2_step_2\")},\n",
    "            RESPONSE: Message(text=\"third\"),\n",
    "            TRANSITIONS: {lbl.forward(): cnd.true()},\n",
    "        },\n",
    "        \"step_3\": {\n",
    "            PRE_RESPONSE_PROCESSING: {\"proc_name_3\": add_prefix(\"l3_step_3\")},\n",
    "            RESPONSE: Message(text=\"fourth\"),\n",
    "            TRANSITIONS: {lbl.forward(): cnd.true()},\n",
    "        },\n",
    "        \"step_4\": {\n",
    "            PRE_RESPONSE_PROCESSING: {\"proc_name_4\": add_prefix(\"l4_step_4\")},\n",
    "            RESPONSE: Message(text=\"fifth\"),\n",
    "            TRANSITIONS: {\"step_0\": cnd.true()},\n",
    "        },\n",
    "    },\n",
    "}\n",
    "\n",
    "\n",
    "# testing\n",
    "happy_path = (\n",
    "    (Message(), Message(text=\"l3_local: l2_local: l1_global: first\")),\n",
    "    (Message(), Message(text=\"l3_local: l2_local: l1_step_1: second\")),\n",
    "    (Message(), Message(text=\"l3_local: l2_step_2: l1_global: third\")),\n",
    "    (Message(), Message(text=\"l3_step_3: l2_local: l1_global: fourth\")),\n",
    "    (Message(), Message(text=\"l4_step_4: l3_local: l2_local: l1_global: fifth\")),\n",
    "    (Message(), Message(text=\"l3_local: l2_local: l1_global: first\")),\n",
    ")"
   ]
  },
  {
   "cell_type": "code",
   "execution_count": 5,
   "id": "b40a4c2b",
   "metadata": {
    "execution": {
     "iopub.execute_input": "2023-04-07T10:58:40.161665Z",
     "iopub.status.busy": "2023-04-07T10:58:40.161456Z",
     "iopub.status.idle": "2023-04-07T10:58:40.176356Z",
     "shell.execute_reply": "2023-04-07T10:58:40.175707Z"
    },
    "lines_to_next_cell": 2
   },
   "outputs": [
    {
     "name": "stdout",
     "output_type": "stream",
     "text": [
      "(user) >>> \n",
      " (bot) <<< text='l3_local: l2_local: l1_global: first'\n",
      "(user) >>> \n",
      " (bot) <<< text='l3_local: l2_local: l1_step_1: second'\n",
      "(user) >>> \n",
      " (bot) <<< text='l3_local: l2_step_2: l1_global: third'\n",
      "(user) >>> \n",
      " (bot) <<< text='l3_step_3: l2_local: l1_global: fourth'\n",
      "(user) >>> \n",
      " (bot) <<< text='l4_step_4: l3_local: l2_local: l1_global: fifth'\n",
      "(user) >>> \n",
      " (bot) <<< text='l3_local: l2_local: l1_global: first'\n"
     ]
    }
   ],
   "source": [
    "pipeline = Pipeline.from_script(\n",
    "    toy_script,\n",
    "    start_label=(\"root\", \"start\"),\n",
    "    fallback_label=(\"root\", \"fallback\"),\n",
    ")\n",
    "\n",
    "if __name__ == \"__main__\":\n",
    "    check_happy_path(pipeline, happy_path)\n",
    "    if is_interactive_mode():\n",
    "        run_interactive_mode(pipeline)"
   ]
  }
 ],
 "metadata": {
  "jupytext": {
   "cell_metadata_filter": "-all",
   "main_language": "python",
   "notebook_metadata_filter": "-all",
   "text_representation": {
    "extension": ".py",
    "format_name": "percent"
   }
  },
  "language_info": {
   "codemirror_mode": {
    "name": "ipython",
    "version": 3
   },
   "file_extension": ".py",
   "mimetype": "text/x-python",
   "name": "python",
   "nbconvert_exporter": "python",
   "pygments_lexer": "ipython3",
   "version": "3.9.16"
  }
 },
 "nbformat": 4,
 "nbformat_minor": 5
}
