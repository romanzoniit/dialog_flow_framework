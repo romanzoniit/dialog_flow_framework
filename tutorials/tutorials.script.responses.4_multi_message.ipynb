{
 "cells": [
  {
   "cell_type": "markdown",
   "id": "cff7af39",
   "metadata": {
    "cell_marker": "\"\"\""
   },
   "source": [
    "# Responses: 4. Multi Message\n",
    "\n",
    "This tutorial shows Multi Message usage.\n",
    "Let's do all the necessary imports from DFF."
   ]
  },
  {
   "cell_type": "markdown",
   "id": "7d95e3ed",
   "metadata": {
    "cell_marker": "\"\"\""
   },
   "source": [
    "__Installing dependencies__"
   ]
  },
  {
   "cell_type": "code",
   "execution_count": 1,
   "id": "f342bf69",
   "metadata": {
    "execution": {
     "iopub.execute_input": "2023-04-07T10:58:59.978159Z",
     "iopub.status.busy": "2023-04-07T10:58:59.977130Z",
     "iopub.status.idle": "2023-04-07T10:59:00.901652Z",
     "shell.execute_reply": "2023-04-07T10:59:00.900680Z"
    },
    "lines_to_next_cell": 2
   },
   "outputs": [
    {
     "name": "stdout",
     "output_type": "stream",
     "text": [
      "\u001b[33mWARNING: dff 0.3.2 does not provide the extra 'tutorials'\u001b[0m\u001b[33m\r\n",
      "\u001b[0m"
     ]
    }
   ],
   "source": [
    "!python3 -m pip install -q dff[tutorials]\n",
    "# Installs dff with dependencies for running tutorials\n",
    "# To install the minimal version of dff, use `pip install dff`\n",
    "# To install other options of dff, use `pip install dff[OPTION_NAME1,OPTION_NAME2]`\n",
    "# where OPTION_NAME can be one of the options from EXTRA_DEPENDENCIES.\n",
    "# e.g `pip install dff[ydb, mysql]` installs dff with dependencies for using Yandex Database and MySQL\n",
    "# EXTRA_DEPENDENCIES can be found in\n",
    "# https://github.com/deeppavlov/dialog_flow_framework/blob/dev/setup.py#L155"
   ]
  },
  {
   "cell_type": "markdown",
   "id": "a71e405e",
   "metadata": {
    "cell_marker": "\"\"\"",
    "lines_to_next_cell": 2
   },
   "source": [
    "__Running tutorial__"
   ]
  },
  {
   "cell_type": "code",
   "execution_count": 2,
   "id": "b4008a22",
   "metadata": {
    "execution": {
     "iopub.execute_input": "2023-04-07T10:59:00.905164Z",
     "iopub.status.busy": "2023-04-07T10:59:00.904909Z",
     "iopub.status.idle": "2023-04-07T10:59:01.541938Z",
     "shell.execute_reply": "2023-04-07T10:59:01.541181Z"
    }
   },
   "outputs": [],
   "source": [
    "\n",
    "from dff.script import TRANSITIONS, RESPONSE, Message, MultiMessage\n",
    "import dff.script.conditions as cnd\n",
    "\n",
    "from dff.pipeline import Pipeline\n",
    "from dff.utils.testing.common import (\n",
    "    check_happy_path,\n",
    "    is_interactive_mode,\n",
    "    run_interactive_mode,\n",
    ")"
   ]
  },
  {
   "cell_type": "code",
   "execution_count": 3,
   "id": "5d8deac7",
   "metadata": {
    "execution": {
     "iopub.execute_input": "2023-04-07T10:59:01.545353Z",
     "iopub.status.busy": "2023-04-07T10:59:01.545021Z",
     "iopub.status.idle": "2023-04-07T10:59:01.558116Z",
     "shell.execute_reply": "2023-04-07T10:59:01.557438Z"
    }
   },
   "outputs": [],
   "source": [
    "toy_script = {\n",
    "    \"greeting_flow\": {\n",
    "        \"start_node\": {  # This is an initial node,\n",
    "            TRANSITIONS: {\"node1\": cnd.exact_match(Message(text=\"Hi\"))},\n",
    "            # If \"Hi\" == request of user then we make the transition\n",
    "        },\n",
    "        \"node1\": {\n",
    "            RESPONSE: MultiMessage(\n",
    "                messages=[\n",
    "                    Message(text=\"Hi, what is up?\", misc={\"confidences\": 0.85}),\n",
    "                    Message(text=\"Hello, how are you?\", misc={\"confidences\": 0.9}),\n",
    "                ]\n",
    "            ),\n",
    "            TRANSITIONS: {\"node2\": cnd.exact_match(Message(text=\"I'm fine, how are you?\"))},\n",
    "        },\n",
    "        \"node2\": {\n",
    "            RESPONSE: Message(text=\"Good. What do you want to talk about?\"),\n",
    "            TRANSITIONS: {\"node3\": cnd.exact_match(Message(text=\"Let's talk about music.\"))},\n",
    "        },\n",
    "        \"node3\": {\n",
    "            RESPONSE: Message(text=\"Sorry, I can not talk about that now.\"),\n",
    "            TRANSITIONS: {\"node4\": cnd.exact_match(Message(text=\"Ok, goodbye.\"))},\n",
    "        },\n",
    "        \"node4\": {\n",
    "            RESPONSE: Message(text=\"bye\"),\n",
    "            TRANSITIONS: {\"node1\": cnd.exact_match(Message(text=\"Hi\"))},\n",
    "        },\n",
    "        \"fallback_node\": {  # We get to this node\n",
    "            # if an error occurred while the agent was running.\n",
    "            RESPONSE: Message(text=\"Ooops\"),\n",
    "            TRANSITIONS: {\"node1\": cnd.exact_match(Message(text=\"Hi\"))},\n",
    "        },\n",
    "    }\n",
    "}\n",
    "\n",
    "# testing\n",
    "happy_path = (\n",
    "    (\n",
    "        Message(text=\"Hi\"),\n",
    "        MultiMessage(\n",
    "            messages=[\n",
    "                Message(text=\"Hi, what is up?\", misc={\"confidences\": 0.85}),\n",
    "                Message(text=\"Hello, how are you?\", misc={\"confidences\": 0.9}),\n",
    "            ]\n",
    "        ),\n",
    "    ),  # start_node -> node1\n",
    "    (\n",
    "        Message(text=\"I'm fine, how are you?\"),\n",
    "        Message(text=\"Good. What do you want to talk about?\"),\n",
    "    ),  # node1 -> node2\n",
    "    (\n",
    "        Message(text=\"Let's talk about music.\"),\n",
    "        Message(text=\"Sorry, I can not talk about that now.\"),\n",
    "    ),  # node2 -> node3\n",
    "    (Message(text=\"Ok, goodbye.\"), Message(text=\"bye\")),  # node3 -> node4\n",
    "    (\n",
    "        Message(text=\"Hi\"),\n",
    "        MultiMessage(\n",
    "            messages=[\n",
    "                Message(text=\"Hi, what is up?\", misc={\"confidences\": 0.85}),\n",
    "                Message(text=\"Hello, how are you?\", misc={\"confidences\": 0.9}),\n",
    "            ]\n",
    "        ),\n",
    "    ),  # node4 -> node1\n",
    "    (\n",
    "        Message(text=\"stop\"),\n",
    "        Message(text=\"Ooops\"),\n",
    "    ),\n",
    "    # node1 -> fallback_node\n",
    "    (\n",
    "        Message(text=\"one\"),\n",
    "        Message(text=\"Ooops\"),\n",
    "    ),  # f_n->f_n\n",
    "    (\n",
    "        Message(text=\"help\"),\n",
    "        Message(text=\"Ooops\"),\n",
    "    ),  # f_n->f_n\n",
    "    (\n",
    "        Message(text=\"nope\"),\n",
    "        Message(text=\"Ooops\"),\n",
    "    ),  # f_n->f_n\n",
    "    (\n",
    "        Message(text=\"Hi\"),\n",
    "        MultiMessage(\n",
    "            messages=[\n",
    "                Message(text=\"Hi, what is up?\", misc={\"confidences\": 0.85}),\n",
    "                Message(text=\"Hello, how are you?\", misc={\"confidences\": 0.9}),\n",
    "            ]\n",
    "        ),\n",
    "    ),  # fallback_node -> node1\n",
    "    (\n",
    "        Message(text=\"I'm fine, how are you?\"),\n",
    "        Message(text=\"Good. What do you want to talk about?\"),\n",
    "    ),  # node1 -> node2\n",
    "    (\n",
    "        Message(text=\"Let's talk about music.\"),\n",
    "        Message(text=\"Sorry, I can not talk about that now.\"),\n",
    "    ),  # node2 -> node3\n",
    "    (Message(text=\"Ok, goodbye.\"), Message(text=\"bye\")),  # node3 -> node4\n",
    ")"
   ]
  },
  {
   "cell_type": "code",
   "execution_count": 4,
   "id": "cf0f81ea",
   "metadata": {
    "execution": {
     "iopub.execute_input": "2023-04-07T10:59:01.560784Z",
     "iopub.status.busy": "2023-04-07T10:59:01.560427Z",
     "iopub.status.idle": "2023-04-07T10:59:01.584446Z",
     "shell.execute_reply": "2023-04-07T10:59:01.583814Z"
    },
    "lines_to_next_cell": 2
   },
   "outputs": [
    {
     "name": "stdout",
     "output_type": "stream",
     "text": [
      "(user) >>> text='Hi'\n",
      " (bot) <<< messages='[{'text': 'Hi, what is up?', 'misc': {'confidences': 0.85}}, {'text': 'Hello, how are you?', 'misc': {'confidences': 0.9}}]'\n",
      "(user) >>> text='I'm fine, how are you?'\n",
      " (bot) <<< text='Good. What do you want to talk about?'\n",
      "(user) >>> text='Let's talk about music.'\n",
      " (bot) <<< text='Sorry, I can not talk about that now.'\n",
      "(user) >>> text='Ok, goodbye.'\n",
      " (bot) <<< text='bye'\n",
      "(user) >>> text='Hi'\n",
      " (bot) <<< messages='[{'text': 'Hi, what is up?', 'misc': {'confidences': 0.85}}, {'text': 'Hello, how are you?', 'misc': {'confidences': 0.9}}]'\n",
      "(user) >>> text='stop'\n",
      " (bot) <<< text='Ooops'\n",
      "(user) >>> text='one'\n",
      " (bot) <<< text='Ooops'\n",
      "(user) >>> text='help'\n",
      " (bot) <<< text='Ooops'\n",
      "(user) >>> text='nope'\n",
      " (bot) <<< text='Ooops'\n",
      "(user) >>> text='Hi'\n",
      " (bot) <<< messages='[{'text': 'Hi, what is up?', 'misc': {'confidences': 0.85}}, {'text': 'Hello, how are you?', 'misc': {'confidences': 0.9}}]'\n",
      "(user) >>> text='I'm fine, how are you?'\n",
      " (bot) <<< text='Good. What do you want to talk about?'\n",
      "(user) >>> text='Let's talk about music.'\n",
      " (bot) <<< text='Sorry, I can not talk about that now.'\n",
      "(user) >>> text='Ok, goodbye.'\n",
      " (bot) <<< text='bye'\n"
     ]
    }
   ],
   "source": [
    "\n",
    "pipeline = Pipeline.from_script(\n",
    "    toy_script,\n",
    "    start_label=(\"greeting_flow\", \"start_node\"),\n",
    "    fallback_label=(\"greeting_flow\", \"fallback_node\"),\n",
    ")\n",
    "\n",
    "if __name__ == \"__main__\":\n",
    "    check_happy_path(pipeline, happy_path)\n",
    "    if is_interactive_mode():\n",
    "        run_interactive_mode(pipeline)"
   ]
  }
 ],
 "metadata": {
  "jupytext": {
   "cell_metadata_filter": "-all",
   "main_language": "python",
   "notebook_metadata_filter": "-all",
   "text_representation": {
    "extension": ".py",
    "format_name": "percent"
   }
  },
  "language_info": {
   "codemirror_mode": {
    "name": "ipython",
    "version": 3
   },
   "file_extension": ".py",
   "mimetype": "text/x-python",
   "name": "python",
   "nbconvert_exporter": "python",
   "pygments_lexer": "ipython3",
   "version": "3.9.16"
  }
 },
 "nbformat": 4,
 "nbformat_minor": 5
}
