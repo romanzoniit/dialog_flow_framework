{
 "cells": [
  {
   "cell_type": "markdown",
   "id": "65a9caed",
   "metadata": {
    "cell_marker": "\"\"\""
   },
   "source": [
    "# 7. Yandex DataBase\n",
    "\n",
    "This is a tutorial on how to use Yandex DataBase."
   ]
  },
  {
   "cell_type": "markdown",
   "id": "4e72a036",
   "metadata": {
    "cell_marker": "\"\"\""
   },
   "source": [
    "__Installing dependencies__"
   ]
  },
  {
   "cell_type": "code",
   "execution_count": 1,
   "id": "355a5e69",
   "metadata": {
    "execution": {
     "iopub.execute_input": "2023-04-07T10:56:53.985612Z",
     "iopub.status.busy": "2023-04-07T10:56:53.984296Z",
     "iopub.status.idle": "2023-04-07T10:56:54.936395Z",
     "shell.execute_reply": "2023-04-07T10:56:54.935562Z"
    },
    "lines_to_next_cell": 2
   },
   "outputs": [
    {
     "name": "stdout",
     "output_type": "stream",
     "text": [
      "\u001b[33mWARNING: dff 0.3.2 does not provide the extra 'tutorials'\u001b[0m\u001b[33m\r\n",
      "\u001b[0m"
     ]
    }
   ],
   "source": [
    "!python3 -m pip install -q dff[tutorials]\n",
    "# Installs dff with dependencies for running tutorials\n",
    "# To install the minimal version of dff, use `pip install dff`\n",
    "# To install other options of dff, use `pip install dff[OPTION_NAME1,OPTION_NAME2]`\n",
    "# where OPTION_NAME can be one of the options from EXTRA_DEPENDENCIES.\n",
    "# e.g `pip install dff[ydb, mysql]` installs dff with dependencies for using Yandex Database and MySQL\n",
    "# EXTRA_DEPENDENCIES can be found in\n",
    "# https://github.com/deeppavlov/dialog_flow_framework/blob/dev/setup.py#L155"
   ]
  },
  {
   "cell_type": "markdown",
   "id": "2b3f999e",
   "metadata": {
    "cell_marker": "\"\"\"",
    "lines_to_next_cell": 2
   },
   "source": [
    "__Running tutorial__"
   ]
  },
  {
   "cell_type": "code",
   "execution_count": 2,
   "id": "5cd3f444",
   "metadata": {
    "execution": {
     "iopub.execute_input": "2023-04-07T10:56:54.940076Z",
     "iopub.status.busy": "2023-04-07T10:56:54.939415Z",
     "iopub.status.idle": "2023-04-07T10:56:55.572016Z",
     "shell.execute_reply": "2023-04-07T10:56:55.571324Z"
    },
    "lines_to_next_cell": 2
   },
   "outputs": [],
   "source": [
    "import os\n",
    "\n",
    "from dff.context_storages import context_storage_factory\n",
    "\n",
    "from dff.pipeline import Pipeline\n",
    "from dff.utils.testing.common import (\n",
    "    check_happy_path,\n",
    "    run_interactive_mode,\n",
    "    is_interactive_mode,\n",
    ")\n",
    "from dff.utils.testing.toy_script import TOY_SCRIPT, HAPPY_PATH"
   ]
  },
  {
   "cell_type": "code",
   "execution_count": 3,
   "id": "fe8f10c9",
   "metadata": {
    "execution": {
     "iopub.execute_input": "2023-04-07T10:56:55.575453Z",
     "iopub.status.busy": "2023-04-07T10:56:55.574743Z",
     "iopub.status.idle": "2023-04-07T10:56:55.614612Z",
     "shell.execute_reply": "2023-04-07T10:56:55.614015Z"
    },
    "lines_to_next_cell": 2
   },
   "outputs": [],
   "source": [
    "# ##### Connecting to yandex cloud\n",
    "# https://github.com/zinal/ydb-python-sdk/blob/ex_basic-example_p1/examples/basic_example_v1/README.md\n",
    "# export YDB_SERVICE_ACCOUNT_KEY_FILE_CREDENTIALS=$HOME/key-ydb-sa-0.json\n",
    "# export YDB_ENDPOINT=grpcs://ydb.serverless.yandexcloud.net:2135\n",
    "# export YDB_DATABASE=/ru-central1/qwertyuiopasdfgh/123456789qwertyui\n",
    "# ##### or use local-ydb with variables from .env_file\n",
    "# db_uri=\"grpc://localhost:2136/local\"\n",
    "\n",
    "db_uri = \"{}{}\".format(\n",
    "    os.getenv(\"YDB_ENDPOINT\"),\n",
    "    os.getenv(\"YDB_DATABASE\"),\n",
    ")\n",
    "db = context_storage_factory(db_uri)\n",
    "\n",
    "pipeline = Pipeline.from_script(\n",
    "    TOY_SCRIPT,\n",
    "    context_storage=db,\n",
    "    start_label=(\"greeting_flow\", \"start_node\"),\n",
    "    fallback_label=(\"greeting_flow\", \"fallback_node\"),\n",
    ")"
   ]
  },
  {
   "cell_type": "code",
   "execution_count": 4,
   "id": "e29ed73c",
   "metadata": {
    "execution": {
     "iopub.execute_input": "2023-04-07T10:56:55.618350Z",
     "iopub.status.busy": "2023-04-07T10:56:55.617924Z",
     "iopub.status.idle": "2023-04-07T10:56:55.669161Z",
     "shell.execute_reply": "2023-04-07T10:56:55.668633Z"
    },
    "lines_to_next_cell": 2
   },
   "outputs": [
    {
     "name": "stdout",
     "output_type": "stream",
     "text": [
      "(user) >>> text='Hi'\n",
      " (bot) <<< text='Hi, how are you?'\n",
      "(user) >>> text='i'm fine, how are you?'\n",
      " (bot) <<< text='Good. What do you want to talk about?'\n",
      "(user) >>> text='Let's talk about music.'\n",
      " (bot) <<< text='Sorry, I can not talk about music now.'\n",
      "(user) >>> text='Ok, goodbye.'\n",
      " (bot) <<< text='bye'\n",
      "(user) >>> text='Hi'\n",
      " (bot) <<< text='Hi, how are you?'\n"
     ]
    }
   ],
   "source": [
    "if __name__ == \"__main__\":\n",
    "    check_happy_path(pipeline, HAPPY_PATH)\n",
    "    if is_interactive_mode():\n",
    "        run_interactive_mode(pipeline)"
   ]
  }
 ],
 "metadata": {
  "jupytext": {
   "cell_metadata_filter": "-all",
   "main_language": "python",
   "notebook_metadata_filter": "-all",
   "text_representation": {
    "extension": ".py",
    "format_name": "percent"
   }
  },
  "language_info": {
   "codemirror_mode": {
    "name": "ipython",
    "version": 3
   },
   "file_extension": ".py",
   "mimetype": "text/x-python",
   "name": "python",
   "nbconvert_exporter": "python",
   "pygments_lexer": "ipython3",
   "version": "3.9.16"
  }
 },
 "nbformat": 4,
 "nbformat_minor": 5
}
