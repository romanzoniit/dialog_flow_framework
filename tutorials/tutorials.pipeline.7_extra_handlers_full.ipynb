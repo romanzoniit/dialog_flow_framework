{
 "cells": [
  {
   "cell_type": "markdown",
   "id": "7ed7d01a",
   "metadata": {
    "cell_marker": "\"\"\""
   },
   "source": [
    "# 7. Extra Handlers (basic)\n",
    "\n",
    "The following tutorial shows extra handlers possibilities and use cases."
   ]
  },
  {
   "cell_type": "markdown",
   "id": "00ba6ff4",
   "metadata": {
    "cell_marker": "\"\"\""
   },
   "source": [
    "__Installing dependencies__"
   ]
  },
  {
   "cell_type": "code",
   "execution_count": 1,
   "id": "c52e28c0",
   "metadata": {
    "execution": {
     "iopub.execute_input": "2023-04-07T10:58:09.956014Z",
     "iopub.status.busy": "2023-04-07T10:58:09.955447Z",
     "iopub.status.idle": "2023-04-07T10:58:10.884179Z",
     "shell.execute_reply": "2023-04-07T10:58:10.883327Z"
    },
    "lines_to_next_cell": 2
   },
   "outputs": [
    {
     "name": "stdout",
     "output_type": "stream",
     "text": [
      "\u001b[33mWARNING: dff 0.3.2 does not provide the extra 'tutorials'\u001b[0m\u001b[33m\r\n",
      "\u001b[0m"
     ]
    }
   ],
   "source": [
    "!python3 -m pip install -q dff[tutorials]\n",
    "# Installs dff with dependencies for running tutorials\n",
    "# To install the minimal version of dff, use `pip install dff`\n",
    "# To install other options of dff, use `pip install dff[OPTION_NAME1,OPTION_NAME2]`\n",
    "# where OPTION_NAME can be one of the options from EXTRA_DEPENDENCIES.\n",
    "# e.g `pip install dff[ydb, mysql]` installs dff with dependencies for using Yandex Database and MySQL\n",
    "# EXTRA_DEPENDENCIES can be found in\n",
    "# https://github.com/deeppavlov/dialog_flow_framework/blob/dev/setup.py#L155"
   ]
  },
  {
   "cell_type": "markdown",
   "id": "8770b897",
   "metadata": {
    "cell_marker": "\"\"\"",
    "lines_to_next_cell": 2
   },
   "source": [
    "__Running tutorial__"
   ]
  },
  {
   "cell_type": "code",
   "execution_count": 2,
   "id": "ba2d227d",
   "metadata": {
    "execution": {
     "iopub.execute_input": "2023-04-07T10:58:10.888085Z",
     "iopub.status.busy": "2023-04-07T10:58:10.887486Z",
     "iopub.status.idle": "2023-04-07T10:58:11.519695Z",
     "shell.execute_reply": "2023-04-07T10:58:11.519014Z"
    }
   },
   "outputs": [],
   "source": [
    "import json\n",
    "import logging\n",
    "import random\n",
    "from datetime import datetime\n",
    "\n",
    "import psutil\n",
    "from dff.script import Context\n",
    "\n",
    "from dff.pipeline import (\n",
    "    Pipeline,\n",
    "    ServiceGroup,\n",
    "    to_service,\n",
    "    ExtraHandlerRuntimeInfo,\n",
    "    ServiceRuntimeInfo,\n",
    "    ACTOR,\n",
    ")\n",
    "\n",
    "from dff.utils.testing.common import (\n",
    "    check_happy_path,\n",
    "    is_interactive_mode,\n",
    "    run_interactive_mode,\n",
    ")\n",
    "from dff.utils.testing.toy_script import HAPPY_PATH, TOY_SCRIPT\n",
    "\n",
    "logger = logging.getLogger(__name__)"
   ]
  },
  {
   "cell_type": "markdown",
   "id": "37cafeca",
   "metadata": {
    "cell_marker": "\"\"\""
   },
   "source": [
    "Extra handlers are additional function lists\n",
    "    (before-functions and/or after-functions)\n",
    "    that can be added to any pipeline components (service and service groups).\n",
    "Despite extra handlers can be used to prepare data for certain services,\n",
    "that require some very special input type,\n",
    "    in most cases services should be preferred for that purpose.\n",
    "Extra handlers can be asynchronous,\n",
    "however there's no statistics that can be collected about them.\n",
    "So their main purpose should be _really_ lightweight data conversion (etc.)\n",
    "    operations or service and service groups statistics collection.\n",
    "\n",
    "Extra handlers have the following constructor arguments / parameters:\n",
    "\n",
    "* `functions` - Functions that will be run.\n",
    "* `timeout` - Timeout for that extra handler\n",
    "        (for asynchronous extra handlers only).\n",
    "* `asynchronous` - Whether this extra handler should be asynchronous or not.\n",
    "NB! Extra handlers don't have execution state,\n",
    "so their names shouldn't appear in built-in condition functions.\n",
    "\n",
    "Extra handlers callable signature can be one of the following:\n",
    "`[ctx]`, `[ctx, pipeline]` or `[ctx, pipeline, info]`, where:\n",
    "\n",
    "* `ctx` - `Context` of the current dialog.\n",
    "* `pipeline` - The current pipeline.\n",
    "* `info` - Dictionary, containing information about current extra handler\n",
    "            and pipeline execution state (see tutorial 4).\n",
    "\n",
    "Extra handlers can be attached to pipeline component in a few different ways:\n",
    "\n",
    "1. Directly in constructor - by adding extra handlers to\n",
    "    `before_handler` or `after_handler` constructor parameter.\n",
    "2. (Services only) `to_service` decorator -\n",
    "    transforms function to service with extra handlers\n",
    "    from `before_handler` and `after_handler` arguments.\n",
    "\n",
    "Here 5 `heavy_service`s fill big amounts of memory with random numbers.\n",
    "Their runtime stats are captured and displayed by extra services,\n",
    "`time_measure_handler` measures time and\n",
    "`ram_measure_handler` - allocated memory.\n",
    "Another `time_measure_handler` measures total\n",
    "amount of time taken by all of them (combined in service group).\n",
    "`logging_service` logs stats, however it can use string arguments only,\n",
    "    so `json_encoder_handler` is applied to encode stats to JSON."
   ]
  },
  {
   "cell_type": "code",
   "execution_count": 3,
   "id": "4b579fbf",
   "metadata": {
    "execution": {
     "iopub.execute_input": "2023-04-07T10:58:11.523419Z",
     "iopub.status.busy": "2023-04-07T10:58:11.522717Z",
     "iopub.status.idle": "2023-04-07T10:58:11.530677Z",
     "shell.execute_reply": "2023-04-07T10:58:11.530007Z"
    }
   },
   "outputs": [],
   "source": [
    "def get_extra_handler_misc_field(\n",
    "    info: ExtraHandlerRuntimeInfo, postfix: str\n",
    ") -> str:  # This method calculates `misc` field name dedicated to extra handler\n",
    "    # based on its and its service name\n",
    "    return f\"{info['component']['name']}-{postfix}\"\n",
    "\n",
    "\n",
    "def time_measure_before_handler(ctx, _, info):\n",
    "    ctx.misc.update({get_extra_handler_misc_field(info, \"time\"): datetime.now()})\n",
    "\n",
    "\n",
    "def time_measure_after_handler(ctx, _, info):\n",
    "    ctx.misc.update(\n",
    "        {\n",
    "            get_extra_handler_misc_field(info, \"time\"): datetime.now()\n",
    "            - ctx.misc[get_extra_handler_misc_field(info, \"time\")]\n",
    "        }\n",
    "    )\n",
    "\n",
    "\n",
    "def ram_measure_before_handler(ctx, _, info):\n",
    "    ctx.misc.update({get_extra_handler_misc_field(info, \"ram\"): psutil.virtual_memory().available})\n",
    "\n",
    "\n",
    "def ram_measure_after_handler(ctx, _, info):\n",
    "    ctx.misc.update(\n",
    "        {\n",
    "            get_extra_handler_misc_field(info, \"ram\"): ctx.misc[\n",
    "                get_extra_handler_misc_field(info, \"ram\")\n",
    "            ]\n",
    "            - psutil.virtual_memory().available\n",
    "        }\n",
    "    )\n",
    "\n",
    "\n",
    "def json_converter_before_handler(ctx, _, info):\n",
    "    ctx.misc.update(\n",
    "        {get_extra_handler_misc_field(info, \"str\"): json.dumps(ctx.misc, indent=4, default=str)}\n",
    "    )\n",
    "\n",
    "\n",
    "def json_converter_after_handler(ctx, _, info):\n",
    "    ctx.misc.pop(get_extra_handler_misc_field(info, \"str\"))\n",
    "\n",
    "\n",
    "memory_heap = dict()  # This object plays part of some memory heap"
   ]
  },
  {
   "cell_type": "code",
   "execution_count": 4,
   "id": "cfc58a4c",
   "metadata": {
    "execution": {
     "iopub.execute_input": "2023-04-07T10:58:11.533697Z",
     "iopub.status.busy": "2023-04-07T10:58:11.533158Z",
     "iopub.status.idle": "2023-04-07T10:58:11.539867Z",
     "shell.execute_reply": "2023-04-07T10:58:11.539208Z"
    }
   },
   "outputs": [],
   "source": [
    "@to_service(\n",
    "    before_handler=[time_measure_before_handler, ram_measure_before_handler],\n",
    "    after_handler=[time_measure_after_handler, ram_measure_after_handler],\n",
    ")\n",
    "def heavy_service(ctx: Context):\n",
    "    memory_heap[ctx.last_request.text] = [random.randint(0, num) for num in range(0, 1000)]\n",
    "\n",
    "\n",
    "@to_service(\n",
    "    before_handler=[json_converter_before_handler],\n",
    "    after_handler=[json_converter_after_handler],\n",
    ")\n",
    "def logging_service(ctx: Context, _, info: ServiceRuntimeInfo):\n",
    "    str_misc = ctx.misc[f\"{info['name']}-str\"]\n",
    "    assert isinstance(str_misc, str)\n",
    "    print(f\"Stringified misc: {str_misc}\")\n",
    "\n",
    "\n",
    "pipeline_dict = {\n",
    "    \"script\": TOY_SCRIPT,\n",
    "    \"start_label\": (\"greeting_flow\", \"start_node\"),\n",
    "    \"fallback_label\": (\"greeting_flow\", \"fallback_node\"),\n",
    "    \"components\": [\n",
    "        ServiceGroup(\n",
    "            before_handler=[time_measure_before_handler],\n",
    "            after_handler=[time_measure_after_handler],\n",
    "            components=[heavy_service for _ in range(0, 5)],\n",
    "        ),\n",
    "        ACTOR,\n",
    "        logging_service,\n",
    "    ],\n",
    "}"
   ]
  },
  {
   "cell_type": "code",
   "execution_count": 5,
   "id": "8efe97d1",
   "metadata": {
    "execution": {
     "iopub.execute_input": "2023-04-07T10:58:11.542594Z",
     "iopub.status.busy": "2023-04-07T10:58:11.542255Z",
     "iopub.status.idle": "2023-04-07T10:58:11.590809Z",
     "shell.execute_reply": "2023-04-07T10:58:11.590109Z"
    },
    "lines_to_next_cell": 2
   },
   "outputs": [
    {
     "name": "stdout",
     "output_type": "stream",
     "text": [
      "Stringified misc: {\n",
      "    \"service_group_0-time\": \"0:00:00.007319\",\n",
      "    \"heavy_service_0-time\": \"0:00:00.001414\",\n",
      "    \"heavy_service_0-ram\": 0,\n",
      "    \"heavy_service_1-time\": \"0:00:00.001305\",\n",
      "    \"heavy_service_1-ram\": 0,\n",
      "    \"heavy_service_2-time\": \"0:00:00.001189\",\n",
      "    \"heavy_service_2-ram\": 0,\n",
      "    \"heavy_service_3-time\": \"0:00:00.001185\",\n",
      "    \"heavy_service_3-ram\": 0,\n",
      "    \"heavy_service_4-time\": \"0:00:00.001172\",\n",
      "    \"heavy_service_4-ram\": 0\n",
      "}\n",
      "(user) >>> text='Hi'\n",
      " (bot) <<< text='Hi, how are you?'\n",
      "Stringified misc: {\n",
      "    \"service_group_0-time\": \"0:00:00.006662\",\n",
      "    \"heavy_service_0-time\": \"0:00:00.001245\",\n",
      "    \"heavy_service_0-ram\": 0,\n",
      "    \"heavy_service_1-time\": \"0:00:00.001162\",\n",
      "    \"heavy_service_1-ram\": 0,\n",
      "    \"heavy_service_2-time\": \"0:00:00.001172\",\n",
      "    \"heavy_service_2-ram\": 0,\n",
      "    \"heavy_service_3-time\": \"0:00:00.001179\",\n",
      "    \"heavy_service_3-ram\": 0,\n",
      "    \"heavy_service_4-time\": \"0:00:00.001164\",\n",
      "    \"heavy_service_4-ram\": 0\n",
      "}\n",
      "(user) >>> text='i'm fine, how are you?'\n",
      " (bot) <<< text='Good. What do you want to talk about?'\n",
      "Stringified misc: {\n",
      "    \"service_group_0-time\": \"0:00:00.006553\",\n",
      "    \"heavy_service_0-time\": \"0:00:00.001201\",\n",
      "    \"heavy_service_0-ram\": 0,\n",
      "    \"heavy_service_1-time\": \"0:00:00.001137\",\n",
      "    \"heavy_service_1-ram\": 258048,\n",
      "    \"heavy_service_2-time\": \"0:00:00.001164\",\n",
      "    \"heavy_service_2-ram\": 0,\n",
      "    \"heavy_service_3-time\": \"0:00:00.001173\",\n",
      "    \"heavy_service_3-ram\": 0,\n",
      "    \"heavy_service_4-time\": \"0:00:00.001143\",\n",
      "    \"heavy_service_4-ram\": 0\n",
      "}\n",
      "(user) >>> text='Let's talk about music.'\n",
      " (bot) <<< text='Sorry, I can not talk about music now.'\n",
      "Stringified misc: {\n",
      "    \"service_group_0-time\": \"0:00:00.006592\",\n",
      "    \"heavy_service_0-time\": \"0:00:00.001190\",\n",
      "    \"heavy_service_0-ram\": 0,\n",
      "    \"heavy_service_1-time\": \"0:00:00.001188\",\n",
      "    \"heavy_service_1-ram\": 0,\n",
      "    \"heavy_service_2-time\": \"0:00:00.001161\",\n",
      "    \"heavy_service_2-ram\": 0,\n",
      "    \"heavy_service_3-time\": \"0:00:00.001166\",\n",
      "    \"heavy_service_3-ram\": 0,\n",
      "    \"heavy_service_4-time\": \"0:00:00.001155\",\n",
      "    \"heavy_service_4-ram\": 0\n",
      "}\n",
      "(user) >>> text='Ok, goodbye.'\n",
      " (bot) <<< text='bye'\n",
      "Stringified misc: {\n",
      "    \"service_group_0-time\": \"0:00:00.006738\",\n",
      "    \"heavy_service_0-time\": \"0:00:00.001199\",\n",
      "    \"heavy_service_0-ram\": 0,\n",
      "    \"heavy_service_1-time\": \"0:00:00.001166\",\n",
      "    \"heavy_service_1-ram\": 0,\n",
      "    \"heavy_service_2-time\": \"0:00:00.001154\",\n",
      "    \"heavy_service_2-ram\": 0,\n",
      "    \"heavy_service_3-time\": \"0:00:00.001157\",\n",
      "    \"heavy_service_3-ram\": 0,\n",
      "    \"heavy_service_4-time\": \"0:00:00.001317\",\n",
      "    \"heavy_service_4-ram\": 0\n",
      "}\n",
      "(user) >>> text='Hi'\n",
      " (bot) <<< text='Hi, how are you?'\n"
     ]
    }
   ],
   "source": [
    "pipeline = Pipeline(**pipeline_dict)\n",
    "\n",
    "if __name__ == \"__main__\":\n",
    "    check_happy_path(pipeline, HAPPY_PATH)\n",
    "    if is_interactive_mode():\n",
    "        run_interactive_mode(pipeline)"
   ]
  }
 ],
 "metadata": {
  "jupytext": {
   "cell_metadata_filter": "-all",
   "main_language": "python",
   "notebook_metadata_filter": "-all",
   "text_representation": {
    "extension": ".py",
    "format_name": "percent"
   }
  },
  "language_info": {
   "codemirror_mode": {
    "name": "ipython",
    "version": 3
   },
   "file_extension": ".py",
   "mimetype": "text/x-python",
   "name": "python",
   "nbconvert_exporter": "python",
   "pygments_lexer": "ipython3",
   "version": "3.9.16"
  }
 },
 "nbformat": 4,
 "nbformat_minor": 5
}
